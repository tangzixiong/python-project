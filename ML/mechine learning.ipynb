{
 "cells": [
  {
   "cell_type": "code",
   "execution_count": 15,
   "metadata": {},
   "outputs": [],
   "source": [
    "#https://zh-v2.d2l.ai/chapter_preliminaries/calculus.html\n",
    "%matplotlib inline\n",
    "import numpy as np\n",
    "from matplotlib_inline import backend_inline\n",
    "from d2l import torch as d2l\n",
    "\n",
    "\n",
    "def f(x):\n",
    "    return 3 * x ** 2 - 4 * x"
   ]
  },
  {
   "cell_type": "code",
   "execution_count": 16,
   "metadata": {},
   "outputs": [
    {
     "name": "stdout",
     "output_type": "stream",
     "text": [
      "h=0.10000, numerical limit=2.30000\n",
      "h=0.01000, numerical limit=2.03000\n",
      "h=0.00100, numerical limit=2.00300\n",
      "h=0.00010, numerical limit=2.00030\n",
      "h=0.00001, numerical limit=2.00003\n"
     ]
    }
   ],
   "source": [
    "def numerical_lim(f, x, h):\n",
    "    return (f(x + h) - f(x)) / h\n",
    "\n",
    "h = 0.1\n",
    "for i in range(5):\n",
    "    print(f'h={h:.5f}, numerical limit={numerical_lim(f, 1, h):.5f}')\n",
    "    h *= 0.1"
   ]
  },
  {
   "cell_type": "code",
   "execution_count": 17,
   "metadata": {},
   "outputs": [],
   "source": [
    "def use_svg_display():  #@save\n",
    "    \"\"\"使用svg格式在Jupyter中显示绘图\"\"\"\n",
    "    backend_inline.set_matplotlib_formats('svg')"
   ]
  },
  {
   "cell_type": "code",
   "execution_count": 18,
   "metadata": {},
   "outputs": [],
   "source": [
    "def set_figsize(figsize=(3.5, 2.5)):  #@save\n",
    "    \"\"\"设置matplotlib的图表大小\"\"\"\n",
    "    use_svg_display()\n",
    "    d2l.plt.rcParams['figure.figsize'] = figsize"
   ]
  },
  {
   "cell_type": "code",
   "execution_count": 19,
   "metadata": {},
   "outputs": [],
   "source": [
    "#@save\n",
    "def set_axes(axes, xlabel, ylabel, xlim, ylim, xscale, yscale, legend):\n",
    "    \"\"\"设置matplotlib的轴\"\"\"\n",
    "    axes.set_xlabel(xlabel)\n",
    "    axes.set_ylabel(ylabel)\n",
    "    axes.set_xscale(xscale)\n",
    "    axes.set_yscale(yscale)\n",
    "    axes.set_xlim(xlim)\n",
    "    axes.set_ylim(ylim)\n",
    "    if legend:\n",
    "        axes.legend(legend)\n",
    "    axes.grid()"
   ]
  },
  {
   "cell_type": "code",
   "execution_count": 20,
   "metadata": {},
   "outputs": [],
   "source": [
    "#@save\n",
    "def plot(X, Y=None, xlabel=None, ylabel=None, legend=None, xlim=None,\n",
    "         ylim=None, xscale='linear', yscale='linear',\n",
    "         fmts=('-', 'm--', 'g-.', 'r:'), figsize=(3.5, 2.5), axes=None):\n",
    "    \"\"\"绘制数据点\"\"\"\n",
    "    if legend is None:\n",
    "        legend = []\n",
    "\n",
    "    set_figsize(figsize)\n",
    "    axes = axes if axes else d2l.plt.gca()\n",
    "\n",
    "    # 如果X有一个轴，输出True\n",
    "    def has_one_axis(X):\n",
    "        return (hasattr(X, \"ndim\") and X.ndim == 1 or isinstance(X, list)\n",
    "                and not hasattr(X[0], \"__len__\"))\n",
    "\n",
    "    if has_one_axis(X):\n",
    "        X = [X]\n",
    "    if Y is None:\n",
    "        X, Y = [[]] * len(X), X\n",
    "    elif has_one_axis(Y):\n",
    "        Y = [Y]\n",
    "    if len(X) != len(Y):\n",
    "        X = X * len(Y)\n",
    "    axes.cla()\n",
    "    for x, y, fmt in zip(X, Y, fmts):\n",
    "        if len(x):\n",
    "            axes.plot(x, y, fmt)\n",
    "        else:\n",
    "            axes.plot(y, fmt)\n",
    "    set_axes(axes, xlabel, ylabel, xlim, ylim, xscale, yscale, legend)"
   ]
  },
  {
   "cell_type": "code",
   "execution_count": 21,
   "metadata": {},
   "outputs": [
    {
     "data": {
      "image/svg+xml": "<?xml version=\"1.0\" encoding=\"utf-8\" standalone=\"no\"?>\n<!DOCTYPE svg PUBLIC \"-//W3C//DTD SVG 1.1//EN\"\n  \"http://www.w3.org/Graphics/SVG/1.1/DTD/svg11.dtd\">\n<svg xmlns:xlink=\"http://www.w3.org/1999/xlink\" width=\"243.529359pt\" height=\"183.35625pt\" viewBox=\"0 0 243.529359 183.35625\" xmlns=\"http://www.w3.org/2000/svg\" version=\"1.1\">\n <metadata>\n  <rdf:RDF xmlns:dc=\"http://purl.org/dc/elements/1.1/\" xmlns:cc=\"http://creativecommons.org/ns#\" xmlns:rdf=\"http://www.w3.org/1999/02/22-rdf-syntax-ns#\">\n   <cc:Work>\n    <dc:type rdf:resource=\"http://purl.org/dc/dcmitype/StillImage\"/>\n    <dc:date>2023-04-13T10:57:27.733860</dc:date>\n    <dc:format>image/svg+xml</dc:format>\n    <dc:creator>\n     <cc:Agent>\n      <dc:title>Matplotlib v3.5.1, https://matplotlib.org/</dc:title>\n     </cc:Agent>\n    </dc:creator>\n   </cc:Work>\n  </rdf:RDF>\n </metadata>\n <defs>\n  <style type=\"text/css\">*{stroke-linejoin: round; stroke-linecap: butt}</style>\n </defs>\n <g id=\"figure_1\">\n  <g id=\"patch_1\">\n   <path d=\"M 0 183.35625 \nL 243.529359 183.35625 \nL 243.529359 0 \nL 0 0 \nz\n\" style=\"fill: #ffffff\"/>\n  </g>\n  <g id=\"axes_1\">\n   <g id=\"patch_2\">\n    <path d=\"M 40.603125 145.8 \nL 235.903125 145.8 \nL 235.903125 7.2 \nL 40.603125 7.2 \nz\n\" style=\"fill: #ffffff\"/>\n   </g>\n   <g id=\"matplotlib.axis_1\">\n    <g id=\"xtick_1\">\n     <g id=\"line2d_1\">\n      <path d=\"M 49.480398 145.8 \nL 49.480398 7.2 \n\" clip-path=\"url(#p13d227bfc4)\" style=\"fill: none; stroke: #b0b0b0; stroke-width: 0.8; stroke-linecap: square\"/>\n     </g>\n     <g id=\"line2d_2\">\n      <defs>\n       <path id=\"mb6f93555c3\" d=\"M 0 0 \nL 0 3.5 \n\" style=\"stroke: #000000; stroke-width: 0.8\"/>\n      </defs>\n      <g>\n       <use xlink:href=\"#mb6f93555c3\" x=\"49.480398\" y=\"145.8\" style=\"stroke: #000000; stroke-width: 0.8\"/>\n      </g>\n     </g>\n     <g id=\"text_1\">\n      <!-- 0 -->\n      <g transform=\"translate(46.299148 160.398438)scale(0.1 -0.1)\">\n       <defs>\n        <path id=\"DejaVuSans-30\" d=\"M 2034 4250 \nQ 1547 4250 1301 3770 \nQ 1056 3291 1056 2328 \nQ 1056 1369 1301 889 \nQ 1547 409 2034 409 \nQ 2525 409 2770 889 \nQ 3016 1369 3016 2328 \nQ 3016 3291 2770 3770 \nQ 2525 4250 2034 4250 \nz\nM 2034 4750 \nQ 2819 4750 3233 4129 \nQ 3647 3509 3647 2328 \nQ 3647 1150 3233 529 \nQ 2819 -91 2034 -91 \nQ 1250 -91 836 529 \nQ 422 1150 422 2328 \nQ 422 3509 836 4129 \nQ 1250 4750 2034 4750 \nz\n\" transform=\"scale(0.015625)\"/>\n       </defs>\n       <use xlink:href=\"#DejaVuSans-30\"/>\n      </g>\n     </g>\n    </g>\n    <g id=\"xtick_2\">\n     <g id=\"line2d_3\">\n      <path d=\"M 110.702968 145.8 \nL 110.702968 7.2 \n\" clip-path=\"url(#p13d227bfc4)\" style=\"fill: none; stroke: #b0b0b0; stroke-width: 0.8; stroke-linecap: square\"/>\n     </g>\n     <g id=\"line2d_4\">\n      <g>\n       <use xlink:href=\"#mb6f93555c3\" x=\"110.702968\" y=\"145.8\" style=\"stroke: #000000; stroke-width: 0.8\"/>\n      </g>\n     </g>\n     <g id=\"text_2\">\n      <!-- 1 -->\n      <g transform=\"translate(107.521718 160.398438)scale(0.1 -0.1)\">\n       <defs>\n        <path id=\"DejaVuSans-31\" d=\"M 794 531 \nL 1825 531 \nL 1825 4091 \nL 703 3866 \nL 703 4441 \nL 1819 4666 \nL 2450 4666 \nL 2450 531 \nL 3481 531 \nL 3481 0 \nL 794 0 \nL 794 531 \nz\n\" transform=\"scale(0.015625)\"/>\n       </defs>\n       <use xlink:href=\"#DejaVuSans-31\"/>\n      </g>\n     </g>\n    </g>\n    <g id=\"xtick_3\">\n     <g id=\"line2d_5\">\n      <path d=\"M 171.925539 145.8 \nL 171.925539 7.2 \n\" clip-path=\"url(#p13d227bfc4)\" style=\"fill: none; stroke: #b0b0b0; stroke-width: 0.8; stroke-linecap: square\"/>\n     </g>\n     <g id=\"line2d_6\">\n      <g>\n       <use xlink:href=\"#mb6f93555c3\" x=\"171.925539\" y=\"145.8\" style=\"stroke: #000000; stroke-width: 0.8\"/>\n      </g>\n     </g>\n     <g id=\"text_3\">\n      <!-- 2 -->\n      <g transform=\"translate(168.744289 160.398438)scale(0.1 -0.1)\">\n       <defs>\n        <path id=\"DejaVuSans-32\" d=\"M 1228 531 \nL 3431 531 \nL 3431 0 \nL 469 0 \nL 469 531 \nQ 828 903 1448 1529 \nQ 2069 2156 2228 2338 \nQ 2531 2678 2651 2914 \nQ 2772 3150 2772 3378 \nQ 2772 3750 2511 3984 \nQ 2250 4219 1831 4219 \nQ 1534 4219 1204 4116 \nQ 875 4013 500 3803 \nL 500 4441 \nQ 881 4594 1212 4672 \nQ 1544 4750 1819 4750 \nQ 2544 4750 2975 4387 \nQ 3406 4025 3406 3419 \nQ 3406 3131 3298 2873 \nQ 3191 2616 2906 2266 \nQ 2828 2175 2409 1742 \nQ 1991 1309 1228 531 \nz\n\" transform=\"scale(0.015625)\"/>\n       </defs>\n       <use xlink:href=\"#DejaVuSans-32\"/>\n      </g>\n     </g>\n    </g>\n    <g id=\"xtick_4\">\n     <g id=\"line2d_7\">\n      <path d=\"M 233.148109 145.8 \nL 233.148109 7.2 \n\" clip-path=\"url(#p13d227bfc4)\" style=\"fill: none; stroke: #b0b0b0; stroke-width: 0.8; stroke-linecap: square\"/>\n     </g>\n     <g id=\"line2d_8\">\n      <g>\n       <use xlink:href=\"#mb6f93555c3\" x=\"233.148109\" y=\"145.8\" style=\"stroke: #000000; stroke-width: 0.8\"/>\n      </g>\n     </g>\n     <g id=\"text_4\">\n      <!-- 3 -->\n      <g transform=\"translate(229.966859 160.398438)scale(0.1 -0.1)\">\n       <defs>\n        <path id=\"DejaVuSans-33\" d=\"M 2597 2516 \nQ 3050 2419 3304 2112 \nQ 3559 1806 3559 1356 \nQ 3559 666 3084 287 \nQ 2609 -91 1734 -91 \nQ 1441 -91 1130 -33 \nQ 819 25 488 141 \nL 488 750 \nQ 750 597 1062 519 \nQ 1375 441 1716 441 \nQ 2309 441 2620 675 \nQ 2931 909 2931 1356 \nQ 2931 1769 2642 2001 \nQ 2353 2234 1838 2234 \nL 1294 2234 \nL 1294 2753 \nL 1863 2753 \nQ 2328 2753 2575 2939 \nQ 2822 3125 2822 3475 \nQ 2822 3834 2567 4026 \nQ 2313 4219 1838 4219 \nQ 1578 4219 1281 4162 \nQ 984 4106 628 3988 \nL 628 4550 \nQ 988 4650 1302 4700 \nQ 1616 4750 1894 4750 \nQ 2613 4750 3031 4423 \nQ 3450 4097 3450 3541 \nQ 3450 3153 3228 2886 \nQ 3006 2619 2597 2516 \nz\n\" transform=\"scale(0.015625)\"/>\n       </defs>\n       <use xlink:href=\"#DejaVuSans-33\"/>\n      </g>\n     </g>\n    </g>\n    <g id=\"text_5\">\n     <!-- x -->\n     <g transform=\"translate(135.29375 174.076563)scale(0.1 -0.1)\">\n      <defs>\n       <path id=\"DejaVuSans-78\" d=\"M 3513 3500 \nL 2247 1797 \nL 3578 0 \nL 2900 0 \nL 1881 1375 \nL 863 0 \nL 184 0 \nL 1544 1831 \nL 300 3500 \nL 978 3500 \nL 1906 2253 \nL 2834 3500 \nL 3513 3500 \nz\n\" transform=\"scale(0.015625)\"/>\n      </defs>\n      <use xlink:href=\"#DejaVuSans-78\"/>\n     </g>\n    </g>\n   </g>\n   <g id=\"matplotlib.axis_2\">\n    <g id=\"ytick_1\">\n     <g id=\"line2d_9\">\n      <path d=\"M 40.603125 116.769994 \nL 235.903125 116.769994 \n\" clip-path=\"url(#p13d227bfc4)\" style=\"fill: none; stroke: #b0b0b0; stroke-width: 0.8; stroke-linecap: square\"/>\n     </g>\n     <g id=\"line2d_10\">\n      <defs>\n       <path id=\"ma66e8f969e\" d=\"M 0 0 \nL -3.5 0 \n\" style=\"stroke: #000000; stroke-width: 0.8\"/>\n      </defs>\n      <g>\n       <use xlink:href=\"#ma66e8f969e\" x=\"40.603125\" y=\"116.769994\" style=\"stroke: #000000; stroke-width: 0.8\"/>\n      </g>\n     </g>\n     <g id=\"text_6\">\n      <!-- 0 -->\n      <g transform=\"translate(27.240625 120.569213)scale(0.1 -0.1)\">\n       <use xlink:href=\"#DejaVuSans-30\"/>\n      </g>\n     </g>\n    </g>\n    <g id=\"ytick_2\">\n     <g id=\"line2d_11\">\n      <path d=\"M 40.603125 78.886651 \nL 235.903125 78.886651 \n\" clip-path=\"url(#p13d227bfc4)\" style=\"fill: none; stroke: #b0b0b0; stroke-width: 0.8; stroke-linecap: square\"/>\n     </g>\n     <g id=\"line2d_12\">\n      <g>\n       <use xlink:href=\"#ma66e8f969e\" x=\"40.603125\" y=\"78.886651\" style=\"stroke: #000000; stroke-width: 0.8\"/>\n      </g>\n     </g>\n     <g id=\"text_7\">\n      <!-- 5 -->\n      <g transform=\"translate(27.240625 82.685869)scale(0.1 -0.1)\">\n       <defs>\n        <path id=\"DejaVuSans-35\" d=\"M 691 4666 \nL 3169 4666 \nL 3169 4134 \nL 1269 4134 \nL 1269 2991 \nQ 1406 3038 1543 3061 \nQ 1681 3084 1819 3084 \nQ 2600 3084 3056 2656 \nQ 3513 2228 3513 1497 \nQ 3513 744 3044 326 \nQ 2575 -91 1722 -91 \nQ 1428 -91 1123 -41 \nQ 819 9 494 109 \nL 494 744 \nQ 775 591 1075 516 \nQ 1375 441 1709 441 \nQ 2250 441 2565 725 \nQ 2881 1009 2881 1497 \nQ 2881 1984 2565 2268 \nQ 2250 2553 1709 2553 \nQ 1456 2553 1204 2497 \nQ 953 2441 691 2322 \nL 691 4666 \nz\n\" transform=\"scale(0.015625)\"/>\n       </defs>\n       <use xlink:href=\"#DejaVuSans-35\"/>\n      </g>\n     </g>\n    </g>\n    <g id=\"ytick_3\">\n     <g id=\"line2d_13\">\n      <path d=\"M 40.603125 41.003307 \nL 235.903125 41.003307 \n\" clip-path=\"url(#p13d227bfc4)\" style=\"fill: none; stroke: #b0b0b0; stroke-width: 0.8; stroke-linecap: square\"/>\n     </g>\n     <g id=\"line2d_14\">\n      <g>\n       <use xlink:href=\"#ma66e8f969e\" x=\"40.603125\" y=\"41.003307\" style=\"stroke: #000000; stroke-width: 0.8\"/>\n      </g>\n     </g>\n     <g id=\"text_8\">\n      <!-- 10 -->\n      <g transform=\"translate(20.878125 44.802526)scale(0.1 -0.1)\">\n       <use xlink:href=\"#DejaVuSans-31\"/>\n       <use xlink:href=\"#DejaVuSans-30\" x=\"63.623047\"/>\n      </g>\n     </g>\n    </g>\n    <g id=\"text_9\">\n     <!-- f(x) -->\n     <g transform=\"translate(14.798437 85.121094)rotate(-90)scale(0.1 -0.1)\">\n      <defs>\n       <path id=\"DejaVuSans-66\" d=\"M 2375 4863 \nL 2375 4384 \nL 1825 4384 \nQ 1516 4384 1395 4259 \nQ 1275 4134 1275 3809 \nL 1275 3500 \nL 2222 3500 \nL 2222 3053 \nL 1275 3053 \nL 1275 0 \nL 697 0 \nL 697 3053 \nL 147 3053 \nL 147 3500 \nL 697 3500 \nL 697 3744 \nQ 697 4328 969 4595 \nQ 1241 4863 1831 4863 \nL 2375 4863 \nz\n\" transform=\"scale(0.015625)\"/>\n       <path id=\"DejaVuSans-28\" d=\"M 1984 4856 \nQ 1566 4138 1362 3434 \nQ 1159 2731 1159 2009 \nQ 1159 1288 1364 580 \nQ 1569 -128 1984 -844 \nL 1484 -844 \nQ 1016 -109 783 600 \nQ 550 1309 550 2009 \nQ 550 2706 781 3412 \nQ 1013 4119 1484 4856 \nL 1984 4856 \nz\n\" transform=\"scale(0.015625)\"/>\n       <path id=\"DejaVuSans-29\" d=\"M 513 4856 \nL 1013 4856 \nQ 1481 4119 1714 3412 \nQ 1947 2706 1947 2009 \nQ 1947 1309 1714 600 \nQ 1481 -109 1013 -844 \nL 513 -844 \nQ 928 -128 1133 580 \nQ 1338 1288 1338 2009 \nQ 1338 2731 1133 3434 \nQ 928 4138 513 4856 \nz\n\" transform=\"scale(0.015625)\"/>\n      </defs>\n      <use xlink:href=\"#DejaVuSans-66\"/>\n      <use xlink:href=\"#DejaVuSans-28\" x=\"35.205078\"/>\n      <use xlink:href=\"#DejaVuSans-78\" x=\"74.21875\"/>\n      <use xlink:href=\"#DejaVuSans-29\" x=\"133.398438\"/>\n     </g>\n    </g>\n   </g>\n   <g id=\"line2d_15\">\n    <path d=\"M 49.480398 116.769994 \nL 55.602655 119.573361 \nL 61.724912 121.922129 \nL 67.847169 123.816296 \nL 73.969426 125.255863 \nL 80.091683 126.24083 \nL 86.21394 126.771197 \nL 92.336197 126.846963 \nL 98.458454 126.46813 \nL 104.580711 125.634696 \nL 110.702968 124.346663 \nL 116.825225 122.604029 \nL 122.947482 120.406795 \nL 129.069739 117.754961 \nL 135.191996 114.648527 \nL 141.314254 111.087492 \nL 147.436511 107.071858 \nL 153.558768 102.601624 \nL 159.681025 97.676789 \nL 165.803282 92.297354 \nL 171.925539 86.463319 \nL 178.047796 80.174684 \nL 184.170053 73.431449 \nL 190.29231 66.233614 \nL 196.414567 58.581179 \nL 202.536824 50.474143 \nL 208.659081 41.912508 \nL 214.781338 32.896272 \nL 220.903595 23.425436 \nL 227.025852 13.5 \n\" clip-path=\"url(#p13d227bfc4)\" style=\"fill: none; stroke: #1f77b4; stroke-width: 1.5; stroke-linecap: square\"/>\n   </g>\n   <g id=\"line2d_16\">\n    <path d=\"M 49.480398 139.5 \nL 55.602655 137.984666 \nL 61.724912 136.469333 \nL 67.847169 134.953999 \nL 73.969426 133.438665 \nL 80.091683 131.923331 \nL 86.21394 130.407998 \nL 92.336197 128.892664 \nL 98.458454 127.37733 \nL 104.580711 125.861996 \nL 110.702968 124.346663 \nL 116.825225 122.831329 \nL 122.947482 121.315995 \nL 129.069739 119.800661 \nL 135.191996 118.285328 \nL 141.314254 116.769994 \nL 147.436511 115.25466 \nL 153.558768 113.739327 \nL 159.681025 112.223993 \nL 165.803282 110.708659 \nL 171.925539 109.193325 \nL 178.047796 107.677992 \nL 184.170053 106.162658 \nL 190.29231 104.647324 \nL 196.414567 103.13199 \nL 202.536824 101.616657 \nL 208.659081 100.101323 \nL 214.781338 98.585989 \nL 220.903595 97.070655 \nL 227.025852 95.555322 \n\" clip-path=\"url(#p13d227bfc4)\" style=\"fill: none; stroke-dasharray: 5.55,2.4; stroke-dashoffset: 0; stroke: #bf00bf; stroke-width: 1.5\"/>\n   </g>\n   <g id=\"patch_3\">\n    <path d=\"M 40.603125 145.8 \nL 40.603125 7.2 \n\" style=\"fill: none; stroke: #000000; stroke-width: 0.8; stroke-linejoin: miter; stroke-linecap: square\"/>\n   </g>\n   <g id=\"patch_4\">\n    <path d=\"M 235.903125 145.8 \nL 235.903125 7.2 \n\" style=\"fill: none; stroke: #000000; stroke-width: 0.8; stroke-linejoin: miter; stroke-linecap: square\"/>\n   </g>\n   <g id=\"patch_5\">\n    <path d=\"M 40.603125 145.8 \nL 235.903125 145.8 \n\" style=\"fill: none; stroke: #000000; stroke-width: 0.8; stroke-linejoin: miter; stroke-linecap: square\"/>\n   </g>\n   <g id=\"patch_6\">\n    <path d=\"M 40.603125 7.2 \nL 235.903125 7.2 \n\" style=\"fill: none; stroke: #000000; stroke-width: 0.8; stroke-linejoin: miter; stroke-linecap: square\"/>\n   </g>\n   <g id=\"legend_1\">\n    <g id=\"patch_7\">\n     <path d=\"M 47.603125 44.55625 \nL 172.153125 44.55625 \nQ 174.153125 44.55625 174.153125 42.55625 \nL 174.153125 14.2 \nQ 174.153125 12.2 172.153125 12.2 \nL 47.603125 12.2 \nQ 45.603125 12.2 45.603125 14.2 \nL 45.603125 42.55625 \nQ 45.603125 44.55625 47.603125 44.55625 \nz\n\" style=\"fill: #ffffff; opacity: 0.8; stroke: #cccccc; stroke-linejoin: miter\"/>\n    </g>\n    <g id=\"line2d_17\">\n     <path d=\"M 49.603125 20.298438 \nL 59.603125 20.298438 \nL 69.603125 20.298438 \n\" style=\"fill: none; stroke: #1f77b4; stroke-width: 1.5; stroke-linecap: square\"/>\n    </g>\n    <g id=\"text_10\">\n     <!-- f(x) -->\n     <g transform=\"translate(77.603125 23.798438)scale(0.1 -0.1)\">\n      <use xlink:href=\"#DejaVuSans-66\"/>\n      <use xlink:href=\"#DejaVuSans-28\" x=\"35.205078\"/>\n      <use xlink:href=\"#DejaVuSans-78\" x=\"74.21875\"/>\n      <use xlink:href=\"#DejaVuSans-29\" x=\"133.398438\"/>\n     </g>\n    </g>\n    <g id=\"line2d_18\">\n     <path d=\"M 49.603125 34.976562 \nL 59.603125 34.976562 \nL 69.603125 34.976562 \n\" style=\"fill: none; stroke-dasharray: 5.55,2.4; stroke-dashoffset: 0; stroke: #bf00bf; stroke-width: 1.5\"/>\n    </g>\n    <g id=\"text_11\">\n     <!-- Tangent line (x=1) -->\n     <g transform=\"translate(77.603125 38.476562)scale(0.1 -0.1)\">\n      <defs>\n       <path id=\"DejaVuSans-54\" d=\"M -19 4666 \nL 3928 4666 \nL 3928 4134 \nL 2272 4134 \nL 2272 0 \nL 1638 0 \nL 1638 4134 \nL -19 4134 \nL -19 4666 \nz\n\" transform=\"scale(0.015625)\"/>\n       <path id=\"DejaVuSans-61\" d=\"M 2194 1759 \nQ 1497 1759 1228 1600 \nQ 959 1441 959 1056 \nQ 959 750 1161 570 \nQ 1363 391 1709 391 \nQ 2188 391 2477 730 \nQ 2766 1069 2766 1631 \nL 2766 1759 \nL 2194 1759 \nz\nM 3341 1997 \nL 3341 0 \nL 2766 0 \nL 2766 531 \nQ 2569 213 2275 61 \nQ 1981 -91 1556 -91 \nQ 1019 -91 701 211 \nQ 384 513 384 1019 \nQ 384 1609 779 1909 \nQ 1175 2209 1959 2209 \nL 2766 2209 \nL 2766 2266 \nQ 2766 2663 2505 2880 \nQ 2244 3097 1772 3097 \nQ 1472 3097 1187 3025 \nQ 903 2953 641 2809 \nL 641 3341 \nQ 956 3463 1253 3523 \nQ 1550 3584 1831 3584 \nQ 2591 3584 2966 3190 \nQ 3341 2797 3341 1997 \nz\n\" transform=\"scale(0.015625)\"/>\n       <path id=\"DejaVuSans-6e\" d=\"M 3513 2113 \nL 3513 0 \nL 2938 0 \nL 2938 2094 \nQ 2938 2591 2744 2837 \nQ 2550 3084 2163 3084 \nQ 1697 3084 1428 2787 \nQ 1159 2491 1159 1978 \nL 1159 0 \nL 581 0 \nL 581 3500 \nL 1159 3500 \nL 1159 2956 \nQ 1366 3272 1645 3428 \nQ 1925 3584 2291 3584 \nQ 2894 3584 3203 3211 \nQ 3513 2838 3513 2113 \nz\n\" transform=\"scale(0.015625)\"/>\n       <path id=\"DejaVuSans-67\" d=\"M 2906 1791 \nQ 2906 2416 2648 2759 \nQ 2391 3103 1925 3103 \nQ 1463 3103 1205 2759 \nQ 947 2416 947 1791 \nQ 947 1169 1205 825 \nQ 1463 481 1925 481 \nQ 2391 481 2648 825 \nQ 2906 1169 2906 1791 \nz\nM 3481 434 \nQ 3481 -459 3084 -895 \nQ 2688 -1331 1869 -1331 \nQ 1566 -1331 1297 -1286 \nQ 1028 -1241 775 -1147 \nL 775 -588 \nQ 1028 -725 1275 -790 \nQ 1522 -856 1778 -856 \nQ 2344 -856 2625 -561 \nQ 2906 -266 2906 331 \nL 2906 616 \nQ 2728 306 2450 153 \nQ 2172 0 1784 0 \nQ 1141 0 747 490 \nQ 353 981 353 1791 \nQ 353 2603 747 3093 \nQ 1141 3584 1784 3584 \nQ 2172 3584 2450 3431 \nQ 2728 3278 2906 2969 \nL 2906 3500 \nL 3481 3500 \nL 3481 434 \nz\n\" transform=\"scale(0.015625)\"/>\n       <path id=\"DejaVuSans-65\" d=\"M 3597 1894 \nL 3597 1613 \nL 953 1613 \nQ 991 1019 1311 708 \nQ 1631 397 2203 397 \nQ 2534 397 2845 478 \nQ 3156 559 3463 722 \nL 3463 178 \nQ 3153 47 2828 -22 \nQ 2503 -91 2169 -91 \nQ 1331 -91 842 396 \nQ 353 884 353 1716 \nQ 353 2575 817 3079 \nQ 1281 3584 2069 3584 \nQ 2775 3584 3186 3129 \nQ 3597 2675 3597 1894 \nz\nM 3022 2063 \nQ 3016 2534 2758 2815 \nQ 2500 3097 2075 3097 \nQ 1594 3097 1305 2825 \nQ 1016 2553 972 2059 \nL 3022 2063 \nz\n\" transform=\"scale(0.015625)\"/>\n       <path id=\"DejaVuSans-74\" d=\"M 1172 4494 \nL 1172 3500 \nL 2356 3500 \nL 2356 3053 \nL 1172 3053 \nL 1172 1153 \nQ 1172 725 1289 603 \nQ 1406 481 1766 481 \nL 2356 481 \nL 2356 0 \nL 1766 0 \nQ 1100 0 847 248 \nQ 594 497 594 1153 \nL 594 3053 \nL 172 3053 \nL 172 3500 \nL 594 3500 \nL 594 4494 \nL 1172 4494 \nz\n\" transform=\"scale(0.015625)\"/>\n       <path id=\"DejaVuSans-20\" transform=\"scale(0.015625)\"/>\n       <path id=\"DejaVuSans-6c\" d=\"M 603 4863 \nL 1178 4863 \nL 1178 0 \nL 603 0 \nL 603 4863 \nz\n\" transform=\"scale(0.015625)\"/>\n       <path id=\"DejaVuSans-69\" d=\"M 603 3500 \nL 1178 3500 \nL 1178 0 \nL 603 0 \nL 603 3500 \nz\nM 603 4863 \nL 1178 4863 \nL 1178 4134 \nL 603 4134 \nL 603 4863 \nz\n\" transform=\"scale(0.015625)\"/>\n       <path id=\"DejaVuSans-3d\" d=\"M 678 2906 \nL 4684 2906 \nL 4684 2381 \nL 678 2381 \nL 678 2906 \nz\nM 678 1631 \nL 4684 1631 \nL 4684 1100 \nL 678 1100 \nL 678 1631 \nz\n\" transform=\"scale(0.015625)\"/>\n      </defs>\n      <use xlink:href=\"#DejaVuSans-54\"/>\n      <use xlink:href=\"#DejaVuSans-61\" x=\"44.583984\"/>\n      <use xlink:href=\"#DejaVuSans-6e\" x=\"105.863281\"/>\n      <use xlink:href=\"#DejaVuSans-67\" x=\"169.242188\"/>\n      <use xlink:href=\"#DejaVuSans-65\" x=\"232.71875\"/>\n      <use xlink:href=\"#DejaVuSans-6e\" x=\"294.242188\"/>\n      <use xlink:href=\"#DejaVuSans-74\" x=\"357.621094\"/>\n      <use xlink:href=\"#DejaVuSans-20\" x=\"396.830078\"/>\n      <use xlink:href=\"#DejaVuSans-6c\" x=\"428.617188\"/>\n      <use xlink:href=\"#DejaVuSans-69\" x=\"456.400391\"/>\n      <use xlink:href=\"#DejaVuSans-6e\" x=\"484.183594\"/>\n      <use xlink:href=\"#DejaVuSans-65\" x=\"547.5625\"/>\n      <use xlink:href=\"#DejaVuSans-20\" x=\"609.085938\"/>\n      <use xlink:href=\"#DejaVuSans-28\" x=\"640.873047\"/>\n      <use xlink:href=\"#DejaVuSans-78\" x=\"679.886719\"/>\n      <use xlink:href=\"#DejaVuSans-3d\" x=\"739.066406\"/>\n      <use xlink:href=\"#DejaVuSans-31\" x=\"822.855469\"/>\n      <use xlink:href=\"#DejaVuSans-29\" x=\"886.478516\"/>\n     </g>\n    </g>\n   </g>\n  </g>\n </g>\n <defs>\n  <clipPath id=\"p13d227bfc4\">\n   <rect x=\"40.603125\" y=\"7.2\" width=\"195.3\" height=\"138.6\"/>\n  </clipPath>\n </defs>\n</svg>\n",
      "text/plain": [
       "<Figure size 350x250 with 1 Axes>"
      ]
     },
     "metadata": {},
     "output_type": "display_data"
    }
   ],
   "source": [
    "x = np.arange(0, 3, 0.1)\n",
    "plot(x, [f(x), 2 * x - 3], 'x', 'f(x)', legend=['f(x)', 'Tangent line (x=1)'])"
   ]
  },
  {
   "cell_type": "code",
   "execution_count": 22,
   "metadata": {},
   "outputs": [
    {
     "data": {
      "text/plain": [
       "tensor([0., 1., 2., 3.])"
      ]
     },
     "execution_count": 22,
     "metadata": {},
     "output_type": "execute_result"
    }
   ],
   "source": [
    "##自动微分\n",
    "import torch\n",
    "x = torch.arange(4.0)\n",
    "x"
   ]
  },
  {
   "cell_type": "code",
   "execution_count": 23,
   "metadata": {},
   "outputs": [],
   "source": [
    "x.requires_grad_(True)  #等价于x=torch.arange(4.0, requires_grad=True)\n",
    "x.grad  #默认值是None"
   ]
  },
  {
   "cell_type": "code",
   "execution_count": 24,
   "metadata": {},
   "outputs": [
    {
     "data": {
      "text/plain": [
       "tensor(28., grad_fn=<MulBackward0>)"
      ]
     },
     "execution_count": 24,
     "metadata": {},
     "output_type": "execute_result"
    }
   ],
   "source": [
    "y = 2 * torch.dot(x, x)\n",
    "y"
   ]
  },
  {
   "cell_type": "code",
   "execution_count": 25,
   "metadata": {},
   "outputs": [
    {
     "data": {
      "text/plain": [
       "tensor([ 0.,  4.,  8., 12.])"
      ]
     },
     "execution_count": 25,
     "metadata": {},
     "output_type": "execute_result"
    }
   ],
   "source": [
    "#调用反向传播函数来自动计算y关于x每个分量的梯度\n",
    "y.backward()\n",
    "x.grad"
   ]
  },
  {
   "cell_type": "code",
   "execution_count": 26,
   "metadata": {},
   "outputs": [
    {
     "data": {
      "text/plain": [
       "tensor([True, True, True, True])"
      ]
     },
     "execution_count": 26,
     "metadata": {},
     "output_type": "execute_result"
    }
   ],
   "source": [
    "x.grad == 4 * x"
   ]
  },
  {
   "cell_type": "code",
   "execution_count": 27,
   "metadata": {},
   "outputs": [
    {
     "data": {
      "text/plain": [
       "tensor([1., 1., 1., 1.])"
      ]
     },
     "execution_count": 27,
     "metadata": {},
     "output_type": "execute_result"
    }
   ],
   "source": [
    "# 在默认情况下，PyTorch会累积梯度，我们需要清除之前的值\n",
    "x.grad.zero_()\n",
    "y = x.sum()\n",
    "y.backward()\n",
    "x.grad"
   ]
  },
  {
   "cell_type": "code",
   "execution_count": 28,
   "metadata": {},
   "outputs": [
    {
     "data": {
      "text/plain": [
       "tensor([0., 2., 4., 6.])"
      ]
     },
     "execution_count": 28,
     "metadata": {},
     "output_type": "execute_result"
    }
   ],
   "source": [
    "# 当调用向量的反向计算时，我们通常会试图计算一批训练样本中每个组成部分的损失函数的导数。\n",
    "# 这里，我们的目的不是计算微分矩阵，而是单独计算批量中每个样本的偏导数之和。\n",
    "# 对非标量调用backward需要传入一个gradient参数，该参数指定微分函数关于self的梯度。\n",
    "# 本例只想求偏导数的和，所以传递一个1的梯度是合适的\n",
    "x.grad.zero_()\n",
    "y = x * x\n",
    "# 等价于y.backward(torch.ones(len(x)))\n",
    "y.sum().backward()\n",
    "x.grad"
   ]
  },
  {
   "cell_type": "code",
   "execution_count": 29,
   "metadata": {},
   "outputs": [
    {
     "data": {
      "text/plain": [
       "tensor([True, True, True, True])"
      ]
     },
     "execution_count": 29,
     "metadata": {},
     "output_type": "execute_result"
    }
   ],
   "source": [
    "#分离计算\n",
    "x.grad.zero_()\n",
    "y = x * x\n",
    "u = y.detach()\n",
    "z = u * x\n",
    "\n",
    "z.sum().backward()\n",
    "x.grad == u"
   ]
  },
  {
   "cell_type": "code",
   "execution_count": 30,
   "metadata": {},
   "outputs": [
    {
     "data": {
      "text/plain": [
       "tensor([True, True, True, True])"
      ]
     },
     "execution_count": 30,
     "metadata": {},
     "output_type": "execute_result"
    }
   ],
   "source": [
    "x.grad.zero_()\n",
    "y.sum().backward()\n",
    "x.grad == 2 * x"
   ]
  },
  {
   "cell_type": "code",
   "execution_count": 31,
   "metadata": {},
   "outputs": [],
   "source": [
    "def f(a):\n",
    "    b = a * 2\n",
    "    while b.norm() < 1000:\n",
    "        b = b * 2\n",
    "    if b.sum() > 0:\n",
    "        c = b\n",
    "    else:\n",
    "        c = 100 * b\n",
    "    return \n",
    "\n"
   ]
  },
  {
   "cell_type": "code",
   "execution_count": 32,
   "metadata": {},
   "outputs": [
    {
     "ename": "AttributeError",
     "evalue": "'NoneType' object has no attribute 'backward'",
     "output_type": "error",
     "traceback": [
      "\u001b[0;31m---------------------------------------------------------------------------\u001b[0m",
      "\u001b[0;31mAttributeError\u001b[0m                            Traceback (most recent call last)",
      "Cell \u001b[0;32mIn[32], line 3\u001b[0m\n\u001b[1;32m      1\u001b[0m a \u001b[39m=\u001b[39m torch\u001b[39m.\u001b[39mrandn(size\u001b[39m=\u001b[39m(), requires_grad\u001b[39m=\u001b[39m\u001b[39mTrue\u001b[39;00m)\n\u001b[1;32m      2\u001b[0m d \u001b[39m=\u001b[39m f(a)\n\u001b[0;32m----> 3\u001b[0m d\u001b[39m.\u001b[39;49mbackward()\n",
      "\u001b[0;31mAttributeError\u001b[0m: 'NoneType' object has no attribute 'backward'"
     ]
    }
   ],
   "source": [
    "a = torch.randn(size=(), requires_grad=True)\n",
    "d = f(a)\n",
    "d.backward()"
   ]
  },
  {
   "cell_type": "code",
   "execution_count": null,
   "metadata": {},
   "outputs": [],
   "source": [
    "a.grad == d / a"
   ]
  },
  {
   "cell_type": "code",
   "execution_count": null,
   "metadata": {},
   "outputs": [
    {
     "data": {
      "text/plain": [
       "tensor([1., 0., 0., 0., 0., 0.])"
      ]
     },
     "execution_count": 21,
     "metadata": {},
     "output_type": "execute_result"
    }
   ],
   "source": [
    "##概率\n",
    "#抽样 即掷骰子\n",
    "%matplotlib inline\n",
    "import torch\n",
    "from torch.distributions import multinomial\n",
    "from d2l import torch as d2l\n",
    "\n",
    "fair_probs = torch.ones([6]) / 6\n",
    "#抽取一个样本\n",
    "multinomial.Multinomial(1, fair_probs).sample()"
   ]
  },
  {
   "cell_type": "code",
   "execution_count": null,
   "metadata": {},
   "outputs": [
    {
     "data": {
      "text/plain": [
       "tensor([1., 2., 3., 1., 2., 1.])"
      ]
     },
     "execution_count": 31,
     "metadata": {},
     "output_type": "execute_result"
    }
   ],
   "source": [
    "#使用深度学习框架的函数同时抽取多个样本\n",
    "multinomial.Multinomial(10, fair_probs).sample()"
   ]
  },
  {
   "cell_type": "code",
   "execution_count": null,
   "metadata": {},
   "outputs": [
    {
     "data": {
      "text/plain": [
       "tensor([0.1810, 0.1750, 0.1570, 0.1770, 0.1460, 0.1640])"
      ]
     },
     "execution_count": 30,
     "metadata": {},
     "output_type": "execute_result"
    }
   ],
   "source": [
    "# 将结果存储为32位浮点数进行除法\n",
    "counts = multinomial.Multinomial(1000, fair_probs).sample()\n",
    "counts / 1000   #相对频率作为估计值"
   ]
  },
  {
   "cell_type": "code",
   "execution_count": null,
   "metadata": {},
   "outputs": [
    {
     "data": {
      "image/svg+xml": "<?xml version=\"1.0\" encoding=\"utf-8\" standalone=\"no\"?>\n<!DOCTYPE svg PUBLIC \"-//W3C//DTD SVG 1.1//EN\"\n  \"http://www.w3.org/Graphics/SVG/1.1/DTD/svg11.dtd\">\n<svg xmlns:xlink=\"http://www.w3.org/1999/xlink\" width=\"392.14375pt\" height=\"294.23625pt\" viewBox=\"0 0 392.14375 294.23625\" xmlns=\"http://www.w3.org/2000/svg\" version=\"1.1\">\n <metadata>\n  <rdf:RDF xmlns:dc=\"http://purl.org/dc/elements/1.1/\" xmlns:cc=\"http://creativecommons.org/ns#\" xmlns:rdf=\"http://www.w3.org/1999/02/22-rdf-syntax-ns#\">\n   <cc:Work>\n    <dc:type rdf:resource=\"http://purl.org/dc/dcmitype/StillImage\"/>\n    <dc:date>2023-03-25T15:15:01.201447</dc:date>\n    <dc:format>image/svg+xml</dc:format>\n    <dc:creator>\n     <cc:Agent>\n      <dc:title>Matplotlib v3.5.1, https://matplotlib.org/</dc:title>\n     </cc:Agent>\n    </dc:creator>\n   </cc:Work>\n  </rdf:RDF>\n </metadata>\n <defs>\n  <style type=\"text/css\">*{stroke-linejoin: round; stroke-linecap: butt}</style>\n </defs>\n <g id=\"figure_1\">\n  <g id=\"patch_1\">\n   <path d=\"M 0 294.23625 \nL 392.14375 294.23625 \nL 392.14375 0 \nL 0 0 \nz\n\" style=\"fill: #ffffff\"/>\n  </g>\n  <g id=\"axes_1\">\n   <g id=\"patch_2\">\n    <path d=\"M 50.14375 256.68 \nL 384.94375 256.68 \nL 384.94375 7.2 \nL 50.14375 7.2 \nz\n\" style=\"fill: #ffffff\"/>\n   </g>\n   <g id=\"matplotlib.axis_1\">\n    <g id=\"xtick_1\">\n     <g id=\"line2d_1\">\n      <defs>\n       <path id=\"mef5c0249d1\" d=\"M 0 0 \nL 0 3.5 \n\" style=\"stroke: #000000; stroke-width: 0.8\"/>\n      </defs>\n      <g>\n       <use xlink:href=\"#mef5c0249d1\" x=\"65.361932\" y=\"256.68\" style=\"stroke: #000000; stroke-width: 0.8\"/>\n      </g>\n     </g>\n     <g id=\"text_1\">\n      <!-- 0 -->\n      <g transform=\"translate(62.180682 271.278437)scale(0.1 -0.1)\">\n       <defs>\n        <path id=\"DejaVuSans-30\" d=\"M 2034 4250 \nQ 1547 4250 1301 3770 \nQ 1056 3291 1056 2328 \nQ 1056 1369 1301 889 \nQ 1547 409 2034 409 \nQ 2525 409 2770 889 \nQ 3016 1369 3016 2328 \nQ 3016 3291 2770 3770 \nQ 2525 4250 2034 4250 \nz\nM 2034 4750 \nQ 2819 4750 3233 4129 \nQ 3647 3509 3647 2328 \nQ 3647 1150 3233 529 \nQ 2819 -91 2034 -91 \nQ 1250 -91 836 529 \nQ 422 1150 422 2328 \nQ 422 3509 836 4129 \nQ 1250 4750 2034 4750 \nz\n\" transform=\"scale(0.015625)\"/>\n       </defs>\n       <use xlink:href=\"#DejaVuSans-30\"/>\n      </g>\n     </g>\n    </g>\n    <g id=\"xtick_2\">\n     <g id=\"line2d_2\">\n      <g>\n       <use xlink:href=\"#mef5c0249d1\" x=\"126.356649\" y=\"256.68\" style=\"stroke: #000000; stroke-width: 0.8\"/>\n      </g>\n     </g>\n     <g id=\"text_2\">\n      <!-- 100 -->\n      <g transform=\"translate(116.812899 271.278437)scale(0.1 -0.1)\">\n       <defs>\n        <path id=\"DejaVuSans-31\" d=\"M 794 531 \nL 1825 531 \nL 1825 4091 \nL 703 3866 \nL 703 4441 \nL 1819 4666 \nL 2450 4666 \nL 2450 531 \nL 3481 531 \nL 3481 0 \nL 794 0 \nL 794 531 \nz\n\" transform=\"scale(0.015625)\"/>\n       </defs>\n       <use xlink:href=\"#DejaVuSans-31\"/>\n       <use xlink:href=\"#DejaVuSans-30\" x=\"63.623047\"/>\n       <use xlink:href=\"#DejaVuSans-30\" x=\"127.246094\"/>\n      </g>\n     </g>\n    </g>\n    <g id=\"xtick_3\">\n     <g id=\"line2d_3\">\n      <g>\n       <use xlink:href=\"#mef5c0249d1\" x=\"187.351365\" y=\"256.68\" style=\"stroke: #000000; stroke-width: 0.8\"/>\n      </g>\n     </g>\n     <g id=\"text_3\">\n      <!-- 200 -->\n      <g transform=\"translate(177.807615 271.278437)scale(0.1 -0.1)\">\n       <defs>\n        <path id=\"DejaVuSans-32\" d=\"M 1228 531 \nL 3431 531 \nL 3431 0 \nL 469 0 \nL 469 531 \nQ 828 903 1448 1529 \nQ 2069 2156 2228 2338 \nQ 2531 2678 2651 2914 \nQ 2772 3150 2772 3378 \nQ 2772 3750 2511 3984 \nQ 2250 4219 1831 4219 \nQ 1534 4219 1204 4116 \nQ 875 4013 500 3803 \nL 500 4441 \nQ 881 4594 1212 4672 \nQ 1544 4750 1819 4750 \nQ 2544 4750 2975 4387 \nQ 3406 4025 3406 3419 \nQ 3406 3131 3298 2873 \nQ 3191 2616 2906 2266 \nQ 2828 2175 2409 1742 \nQ 1991 1309 1228 531 \nz\n\" transform=\"scale(0.015625)\"/>\n       </defs>\n       <use xlink:href=\"#DejaVuSans-32\"/>\n       <use xlink:href=\"#DejaVuSans-30\" x=\"63.623047\"/>\n       <use xlink:href=\"#DejaVuSans-30\" x=\"127.246094\"/>\n      </g>\n     </g>\n    </g>\n    <g id=\"xtick_4\">\n     <g id=\"line2d_4\">\n      <g>\n       <use xlink:href=\"#mef5c0249d1\" x=\"248.346082\" y=\"256.68\" style=\"stroke: #000000; stroke-width: 0.8\"/>\n      </g>\n     </g>\n     <g id=\"text_4\">\n      <!-- 300 -->\n      <g transform=\"translate(238.802332 271.278437)scale(0.1 -0.1)\">\n       <defs>\n        <path id=\"DejaVuSans-33\" d=\"M 2597 2516 \nQ 3050 2419 3304 2112 \nQ 3559 1806 3559 1356 \nQ 3559 666 3084 287 \nQ 2609 -91 1734 -91 \nQ 1441 -91 1130 -33 \nQ 819 25 488 141 \nL 488 750 \nQ 750 597 1062 519 \nQ 1375 441 1716 441 \nQ 2309 441 2620 675 \nQ 2931 909 2931 1356 \nQ 2931 1769 2642 2001 \nQ 2353 2234 1838 2234 \nL 1294 2234 \nL 1294 2753 \nL 1863 2753 \nQ 2328 2753 2575 2939 \nQ 2822 3125 2822 3475 \nQ 2822 3834 2567 4026 \nQ 2313 4219 1838 4219 \nQ 1578 4219 1281 4162 \nQ 984 4106 628 3988 \nL 628 4550 \nQ 988 4650 1302 4700 \nQ 1616 4750 1894 4750 \nQ 2613 4750 3031 4423 \nQ 3450 4097 3450 3541 \nQ 3450 3153 3228 2886 \nQ 3006 2619 2597 2516 \nz\n\" transform=\"scale(0.015625)\"/>\n       </defs>\n       <use xlink:href=\"#DejaVuSans-33\"/>\n       <use xlink:href=\"#DejaVuSans-30\" x=\"63.623047\"/>\n       <use xlink:href=\"#DejaVuSans-30\" x=\"127.246094\"/>\n      </g>\n     </g>\n    </g>\n    <g id=\"xtick_5\">\n     <g id=\"line2d_5\">\n      <g>\n       <use xlink:href=\"#mef5c0249d1\" x=\"309.340799\" y=\"256.68\" style=\"stroke: #000000; stroke-width: 0.8\"/>\n      </g>\n     </g>\n     <g id=\"text_5\">\n      <!-- 400 -->\n      <g transform=\"translate(299.797049 271.278437)scale(0.1 -0.1)\">\n       <defs>\n        <path id=\"DejaVuSans-34\" d=\"M 2419 4116 \nL 825 1625 \nL 2419 1625 \nL 2419 4116 \nz\nM 2253 4666 \nL 3047 4666 \nL 3047 1625 \nL 3713 1625 \nL 3713 1100 \nL 3047 1100 \nL 3047 0 \nL 2419 0 \nL 2419 1100 \nL 313 1100 \nL 313 1709 \nL 2253 4666 \nz\n\" transform=\"scale(0.015625)\"/>\n       </defs>\n       <use xlink:href=\"#DejaVuSans-34\"/>\n       <use xlink:href=\"#DejaVuSans-30\" x=\"63.623047\"/>\n       <use xlink:href=\"#DejaVuSans-30\" x=\"127.246094\"/>\n      </g>\n     </g>\n    </g>\n    <g id=\"xtick_6\">\n     <g id=\"line2d_6\">\n      <g>\n       <use xlink:href=\"#mef5c0249d1\" x=\"370.335515\" y=\"256.68\" style=\"stroke: #000000; stroke-width: 0.8\"/>\n      </g>\n     </g>\n     <g id=\"text_6\">\n      <!-- 500 -->\n      <g transform=\"translate(360.791765 271.278437)scale(0.1 -0.1)\">\n       <defs>\n        <path id=\"DejaVuSans-35\" d=\"M 691 4666 \nL 3169 4666 \nL 3169 4134 \nL 1269 4134 \nL 1269 2991 \nQ 1406 3038 1543 3061 \nQ 1681 3084 1819 3084 \nQ 2600 3084 3056 2656 \nQ 3513 2228 3513 1497 \nQ 3513 744 3044 326 \nQ 2575 -91 1722 -91 \nQ 1428 -91 1123 -41 \nQ 819 9 494 109 \nL 494 744 \nQ 775 591 1075 516 \nQ 1375 441 1709 441 \nQ 2250 441 2565 725 \nQ 2881 1009 2881 1497 \nQ 2881 1984 2565 2268 \nQ 2250 2553 1709 2553 \nQ 1456 2553 1204 2497 \nQ 953 2441 691 2322 \nL 691 4666 \nz\n\" transform=\"scale(0.015625)\"/>\n       </defs>\n       <use xlink:href=\"#DejaVuSans-35\"/>\n       <use xlink:href=\"#DejaVuSans-30\" x=\"63.623047\"/>\n       <use xlink:href=\"#DejaVuSans-30\" x=\"127.246094\"/>\n      </g>\n     </g>\n    </g>\n    <g id=\"text_7\">\n     <!-- Groups of experiments -->\n     <g transform=\"translate(160.397656 284.956562)scale(0.1 -0.1)\">\n      <defs>\n       <path id=\"DejaVuSans-47\" d=\"M 3809 666 \nL 3809 1919 \nL 2778 1919 \nL 2778 2438 \nL 4434 2438 \nL 4434 434 \nQ 4069 175 3628 42 \nQ 3188 -91 2688 -91 \nQ 1594 -91 976 548 \nQ 359 1188 359 2328 \nQ 359 3472 976 4111 \nQ 1594 4750 2688 4750 \nQ 3144 4750 3555 4637 \nQ 3966 4525 4313 4306 \nL 4313 3634 \nQ 3963 3931 3569 4081 \nQ 3175 4231 2741 4231 \nQ 1884 4231 1454 3753 \nQ 1025 3275 1025 2328 \nQ 1025 1384 1454 906 \nQ 1884 428 2741 428 \nQ 3075 428 3337 486 \nQ 3600 544 3809 666 \nz\n\" transform=\"scale(0.015625)\"/>\n       <path id=\"DejaVuSans-72\" d=\"M 2631 2963 \nQ 2534 3019 2420 3045 \nQ 2306 3072 2169 3072 \nQ 1681 3072 1420 2755 \nQ 1159 2438 1159 1844 \nL 1159 0 \nL 581 0 \nL 581 3500 \nL 1159 3500 \nL 1159 2956 \nQ 1341 3275 1631 3429 \nQ 1922 3584 2338 3584 \nQ 2397 3584 2469 3576 \nQ 2541 3569 2628 3553 \nL 2631 2963 \nz\n\" transform=\"scale(0.015625)\"/>\n       <path id=\"DejaVuSans-6f\" d=\"M 1959 3097 \nQ 1497 3097 1228 2736 \nQ 959 2375 959 1747 \nQ 959 1119 1226 758 \nQ 1494 397 1959 397 \nQ 2419 397 2687 759 \nQ 2956 1122 2956 1747 \nQ 2956 2369 2687 2733 \nQ 2419 3097 1959 3097 \nz\nM 1959 3584 \nQ 2709 3584 3137 3096 \nQ 3566 2609 3566 1747 \nQ 3566 888 3137 398 \nQ 2709 -91 1959 -91 \nQ 1206 -91 779 398 \nQ 353 888 353 1747 \nQ 353 2609 779 3096 \nQ 1206 3584 1959 3584 \nz\n\" transform=\"scale(0.015625)\"/>\n       <path id=\"DejaVuSans-75\" d=\"M 544 1381 \nL 544 3500 \nL 1119 3500 \nL 1119 1403 \nQ 1119 906 1312 657 \nQ 1506 409 1894 409 \nQ 2359 409 2629 706 \nQ 2900 1003 2900 1516 \nL 2900 3500 \nL 3475 3500 \nL 3475 0 \nL 2900 0 \nL 2900 538 \nQ 2691 219 2414 64 \nQ 2138 -91 1772 -91 \nQ 1169 -91 856 284 \nQ 544 659 544 1381 \nz\nM 1991 3584 \nL 1991 3584 \nz\n\" transform=\"scale(0.015625)\"/>\n       <path id=\"DejaVuSans-70\" d=\"M 1159 525 \nL 1159 -1331 \nL 581 -1331 \nL 581 3500 \nL 1159 3500 \nL 1159 2969 \nQ 1341 3281 1617 3432 \nQ 1894 3584 2278 3584 \nQ 2916 3584 3314 3078 \nQ 3713 2572 3713 1747 \nQ 3713 922 3314 415 \nQ 2916 -91 2278 -91 \nQ 1894 -91 1617 61 \nQ 1341 213 1159 525 \nz\nM 3116 1747 \nQ 3116 2381 2855 2742 \nQ 2594 3103 2138 3103 \nQ 1681 3103 1420 2742 \nQ 1159 2381 1159 1747 \nQ 1159 1113 1420 752 \nQ 1681 391 2138 391 \nQ 2594 391 2855 752 \nQ 3116 1113 3116 1747 \nz\n\" transform=\"scale(0.015625)\"/>\n       <path id=\"DejaVuSans-73\" d=\"M 2834 3397 \nL 2834 2853 \nQ 2591 2978 2328 3040 \nQ 2066 3103 1784 3103 \nQ 1356 3103 1142 2972 \nQ 928 2841 928 2578 \nQ 928 2378 1081 2264 \nQ 1234 2150 1697 2047 \nL 1894 2003 \nQ 2506 1872 2764 1633 \nQ 3022 1394 3022 966 \nQ 3022 478 2636 193 \nQ 2250 -91 1575 -91 \nQ 1294 -91 989 -36 \nQ 684 19 347 128 \nL 347 722 \nQ 666 556 975 473 \nQ 1284 391 1588 391 \nQ 1994 391 2212 530 \nQ 2431 669 2431 922 \nQ 2431 1156 2273 1281 \nQ 2116 1406 1581 1522 \nL 1381 1569 \nQ 847 1681 609 1914 \nQ 372 2147 372 2553 \nQ 372 3047 722 3315 \nQ 1072 3584 1716 3584 \nQ 2034 3584 2315 3537 \nQ 2597 3491 2834 3397 \nz\n\" transform=\"scale(0.015625)\"/>\n       <path id=\"DejaVuSans-20\" transform=\"scale(0.015625)\"/>\n       <path id=\"DejaVuSans-66\" d=\"M 2375 4863 \nL 2375 4384 \nL 1825 4384 \nQ 1516 4384 1395 4259 \nQ 1275 4134 1275 3809 \nL 1275 3500 \nL 2222 3500 \nL 2222 3053 \nL 1275 3053 \nL 1275 0 \nL 697 0 \nL 697 3053 \nL 147 3053 \nL 147 3500 \nL 697 3500 \nL 697 3744 \nQ 697 4328 969 4595 \nQ 1241 4863 1831 4863 \nL 2375 4863 \nz\n\" transform=\"scale(0.015625)\"/>\n       <path id=\"DejaVuSans-65\" d=\"M 3597 1894 \nL 3597 1613 \nL 953 1613 \nQ 991 1019 1311 708 \nQ 1631 397 2203 397 \nQ 2534 397 2845 478 \nQ 3156 559 3463 722 \nL 3463 178 \nQ 3153 47 2828 -22 \nQ 2503 -91 2169 -91 \nQ 1331 -91 842 396 \nQ 353 884 353 1716 \nQ 353 2575 817 3079 \nQ 1281 3584 2069 3584 \nQ 2775 3584 3186 3129 \nQ 3597 2675 3597 1894 \nz\nM 3022 2063 \nQ 3016 2534 2758 2815 \nQ 2500 3097 2075 3097 \nQ 1594 3097 1305 2825 \nQ 1016 2553 972 2059 \nL 3022 2063 \nz\n\" transform=\"scale(0.015625)\"/>\n       <path id=\"DejaVuSans-78\" d=\"M 3513 3500 \nL 2247 1797 \nL 3578 0 \nL 2900 0 \nL 1881 1375 \nL 863 0 \nL 184 0 \nL 1544 1831 \nL 300 3500 \nL 978 3500 \nL 1906 2253 \nL 2834 3500 \nL 3513 3500 \nz\n\" transform=\"scale(0.015625)\"/>\n       <path id=\"DejaVuSans-69\" d=\"M 603 3500 \nL 1178 3500 \nL 1178 0 \nL 603 0 \nL 603 3500 \nz\nM 603 4863 \nL 1178 4863 \nL 1178 4134 \nL 603 4134 \nL 603 4863 \nz\n\" transform=\"scale(0.015625)\"/>\n       <path id=\"DejaVuSans-6d\" d=\"M 3328 2828 \nQ 3544 3216 3844 3400 \nQ 4144 3584 4550 3584 \nQ 5097 3584 5394 3201 \nQ 5691 2819 5691 2113 \nL 5691 0 \nL 5113 0 \nL 5113 2094 \nQ 5113 2597 4934 2840 \nQ 4756 3084 4391 3084 \nQ 3944 3084 3684 2787 \nQ 3425 2491 3425 1978 \nL 3425 0 \nL 2847 0 \nL 2847 2094 \nQ 2847 2600 2669 2842 \nQ 2491 3084 2119 3084 \nQ 1678 3084 1418 2786 \nQ 1159 2488 1159 1978 \nL 1159 0 \nL 581 0 \nL 581 3500 \nL 1159 3500 \nL 1159 2956 \nQ 1356 3278 1631 3431 \nQ 1906 3584 2284 3584 \nQ 2666 3584 2933 3390 \nQ 3200 3197 3328 2828 \nz\n\" transform=\"scale(0.015625)\"/>\n       <path id=\"DejaVuSans-6e\" d=\"M 3513 2113 \nL 3513 0 \nL 2938 0 \nL 2938 2094 \nQ 2938 2591 2744 2837 \nQ 2550 3084 2163 3084 \nQ 1697 3084 1428 2787 \nQ 1159 2491 1159 1978 \nL 1159 0 \nL 581 0 \nL 581 3500 \nL 1159 3500 \nL 1159 2956 \nQ 1366 3272 1645 3428 \nQ 1925 3584 2291 3584 \nQ 2894 3584 3203 3211 \nQ 3513 2838 3513 2113 \nz\n\" transform=\"scale(0.015625)\"/>\n       <path id=\"DejaVuSans-74\" d=\"M 1172 4494 \nL 1172 3500 \nL 2356 3500 \nL 2356 3053 \nL 1172 3053 \nL 1172 1153 \nQ 1172 725 1289 603 \nQ 1406 481 1766 481 \nL 2356 481 \nL 2356 0 \nL 1766 0 \nQ 1100 0 847 248 \nQ 594 497 594 1153 \nL 594 3053 \nL 172 3053 \nL 172 3500 \nL 594 3500 \nL 594 4494 \nL 1172 4494 \nz\n\" transform=\"scale(0.015625)\"/>\n      </defs>\n      <use xlink:href=\"#DejaVuSans-47\"/>\n      <use xlink:href=\"#DejaVuSans-72\" x=\"77.490234\"/>\n      <use xlink:href=\"#DejaVuSans-6f\" x=\"116.353516\"/>\n      <use xlink:href=\"#DejaVuSans-75\" x=\"177.535156\"/>\n      <use xlink:href=\"#DejaVuSans-70\" x=\"240.914062\"/>\n      <use xlink:href=\"#DejaVuSans-73\" x=\"304.390625\"/>\n      <use xlink:href=\"#DejaVuSans-20\" x=\"356.490234\"/>\n      <use xlink:href=\"#DejaVuSans-6f\" x=\"388.277344\"/>\n      <use xlink:href=\"#DejaVuSans-66\" x=\"449.458984\"/>\n      <use xlink:href=\"#DejaVuSans-20\" x=\"484.664062\"/>\n      <use xlink:href=\"#DejaVuSans-65\" x=\"516.451172\"/>\n      <use xlink:href=\"#DejaVuSans-78\" x=\"576.224609\"/>\n      <use xlink:href=\"#DejaVuSans-70\" x=\"635.404297\"/>\n      <use xlink:href=\"#DejaVuSans-65\" x=\"698.880859\"/>\n      <use xlink:href=\"#DejaVuSans-72\" x=\"760.404297\"/>\n      <use xlink:href=\"#DejaVuSans-69\" x=\"801.517578\"/>\n      <use xlink:href=\"#DejaVuSans-6d\" x=\"829.300781\"/>\n      <use xlink:href=\"#DejaVuSans-65\" x=\"926.712891\"/>\n      <use xlink:href=\"#DejaVuSans-6e\" x=\"988.236328\"/>\n      <use xlink:href=\"#DejaVuSans-74\" x=\"1051.615234\"/>\n      <use xlink:href=\"#DejaVuSans-73\" x=\"1090.824219\"/>\n     </g>\n    </g>\n   </g>\n   <g id=\"matplotlib.axis_2\">\n    <g id=\"ytick_1\">\n     <g id=\"line2d_7\">\n      <defs>\n       <path id=\"mc7b99e4769\" d=\"M 0 0 \nL -3.5 0 \n\" style=\"stroke: #000000; stroke-width: 0.8\"/>\n      </defs>\n      <g>\n       <use xlink:href=\"#mc7b99e4769\" x=\"50.14375\" y=\"245.340001\" style=\"stroke: #000000; stroke-width: 0.8\"/>\n      </g>\n     </g>\n     <g id=\"text_8\">\n      <!-- 0.05 -->\n      <g transform=\"translate(20.878125 249.139219)scale(0.1 -0.1)\">\n       <defs>\n        <path id=\"DejaVuSans-2e\" d=\"M 684 794 \nL 1344 794 \nL 1344 0 \nL 684 0 \nL 684 794 \nz\n\" transform=\"scale(0.015625)\"/>\n       </defs>\n       <use xlink:href=\"#DejaVuSans-30\"/>\n       <use xlink:href=\"#DejaVuSans-2e\" x=\"63.623047\"/>\n       <use xlink:href=\"#DejaVuSans-30\" x=\"95.410156\"/>\n       <use xlink:href=\"#DejaVuSans-35\" x=\"159.033203\"/>\n      </g>\n     </g>\n    </g>\n    <g id=\"ytick_2\">\n     <g id=\"line2d_8\">\n      <g>\n       <use xlink:href=\"#mc7b99e4769\" x=\"50.14375\" y=\"199.980003\" style=\"stroke: #000000; stroke-width: 0.8\"/>\n      </g>\n     </g>\n     <g id=\"text_9\">\n      <!-- 0.10 -->\n      <g transform=\"translate(20.878125 203.779221)scale(0.1 -0.1)\">\n       <use xlink:href=\"#DejaVuSans-30\"/>\n       <use xlink:href=\"#DejaVuSans-2e\" x=\"63.623047\"/>\n       <use xlink:href=\"#DejaVuSans-31\" x=\"95.410156\"/>\n       <use xlink:href=\"#DejaVuSans-30\" x=\"159.033203\"/>\n      </g>\n     </g>\n    </g>\n    <g id=\"ytick_3\">\n     <g id=\"line2d_9\">\n      <g>\n       <use xlink:href=\"#mc7b99e4769\" x=\"50.14375\" y=\"154.620005\" style=\"stroke: #000000; stroke-width: 0.8\"/>\n      </g>\n     </g>\n     <g id=\"text_10\">\n      <!-- 0.15 -->\n      <g transform=\"translate(20.878125 158.419223)scale(0.1 -0.1)\">\n       <use xlink:href=\"#DejaVuSans-30\"/>\n       <use xlink:href=\"#DejaVuSans-2e\" x=\"63.623047\"/>\n       <use xlink:href=\"#DejaVuSans-31\" x=\"95.410156\"/>\n       <use xlink:href=\"#DejaVuSans-35\" x=\"159.033203\"/>\n      </g>\n     </g>\n    </g>\n    <g id=\"ytick_4\">\n     <g id=\"line2d_10\">\n      <g>\n       <use xlink:href=\"#mc7b99e4769\" x=\"50.14375\" y=\"109.260007\" style=\"stroke: #000000; stroke-width: 0.8\"/>\n      </g>\n     </g>\n     <g id=\"text_11\">\n      <!-- 0.20 -->\n      <g transform=\"translate(20.878125 113.059226)scale(0.1 -0.1)\">\n       <use xlink:href=\"#DejaVuSans-30\"/>\n       <use xlink:href=\"#DejaVuSans-2e\" x=\"63.623047\"/>\n       <use xlink:href=\"#DejaVuSans-32\" x=\"95.410156\"/>\n       <use xlink:href=\"#DejaVuSans-30\" x=\"159.033203\"/>\n      </g>\n     </g>\n    </g>\n    <g id=\"ytick_5\">\n     <g id=\"line2d_11\">\n      <g>\n       <use xlink:href=\"#mc7b99e4769\" x=\"50.14375\" y=\"63.900009\" style=\"stroke: #000000; stroke-width: 0.8\"/>\n      </g>\n     </g>\n     <g id=\"text_12\">\n      <!-- 0.25 -->\n      <g transform=\"translate(20.878125 67.699228)scale(0.1 -0.1)\">\n       <use xlink:href=\"#DejaVuSans-30\"/>\n       <use xlink:href=\"#DejaVuSans-2e\" x=\"63.623047\"/>\n       <use xlink:href=\"#DejaVuSans-32\" x=\"95.410156\"/>\n       <use xlink:href=\"#DejaVuSans-35\" x=\"159.033203\"/>\n      </g>\n     </g>\n    </g>\n    <g id=\"ytick_6\">\n     <g id=\"line2d_12\">\n      <g>\n       <use xlink:href=\"#mc7b99e4769\" x=\"50.14375\" y=\"18.540011\" style=\"stroke: #000000; stroke-width: 0.8\"/>\n      </g>\n     </g>\n     <g id=\"text_13\">\n      <!-- 0.30 -->\n      <g transform=\"translate(20.878125 22.33923)scale(0.1 -0.1)\">\n       <use xlink:href=\"#DejaVuSans-30\"/>\n       <use xlink:href=\"#DejaVuSans-2e\" x=\"63.623047\"/>\n       <use xlink:href=\"#DejaVuSans-33\" x=\"95.410156\"/>\n       <use xlink:href=\"#DejaVuSans-30\" x=\"159.033203\"/>\n      </g>\n     </g>\n    </g>\n    <g id=\"text_14\">\n     <!-- Estimated probability -->\n     <g transform=\"translate(14.798438 185.463437)rotate(-90)scale(0.1 -0.1)\">\n      <defs>\n       <path id=\"DejaVuSans-45\" d=\"M 628 4666 \nL 3578 4666 \nL 3578 4134 \nL 1259 4134 \nL 1259 2753 \nL 3481 2753 \nL 3481 2222 \nL 1259 2222 \nL 1259 531 \nL 3634 531 \nL 3634 0 \nL 628 0 \nL 628 4666 \nz\n\" transform=\"scale(0.015625)\"/>\n       <path id=\"DejaVuSans-61\" d=\"M 2194 1759 \nQ 1497 1759 1228 1600 \nQ 959 1441 959 1056 \nQ 959 750 1161 570 \nQ 1363 391 1709 391 \nQ 2188 391 2477 730 \nQ 2766 1069 2766 1631 \nL 2766 1759 \nL 2194 1759 \nz\nM 3341 1997 \nL 3341 0 \nL 2766 0 \nL 2766 531 \nQ 2569 213 2275 61 \nQ 1981 -91 1556 -91 \nQ 1019 -91 701 211 \nQ 384 513 384 1019 \nQ 384 1609 779 1909 \nQ 1175 2209 1959 2209 \nL 2766 2209 \nL 2766 2266 \nQ 2766 2663 2505 2880 \nQ 2244 3097 1772 3097 \nQ 1472 3097 1187 3025 \nQ 903 2953 641 2809 \nL 641 3341 \nQ 956 3463 1253 3523 \nQ 1550 3584 1831 3584 \nQ 2591 3584 2966 3190 \nQ 3341 2797 3341 1997 \nz\n\" transform=\"scale(0.015625)\"/>\n       <path id=\"DejaVuSans-64\" d=\"M 2906 2969 \nL 2906 4863 \nL 3481 4863 \nL 3481 0 \nL 2906 0 \nL 2906 525 \nQ 2725 213 2448 61 \nQ 2172 -91 1784 -91 \nQ 1150 -91 751 415 \nQ 353 922 353 1747 \nQ 353 2572 751 3078 \nQ 1150 3584 1784 3584 \nQ 2172 3584 2448 3432 \nQ 2725 3281 2906 2969 \nz\nM 947 1747 \nQ 947 1113 1208 752 \nQ 1469 391 1925 391 \nQ 2381 391 2643 752 \nQ 2906 1113 2906 1747 \nQ 2906 2381 2643 2742 \nQ 2381 3103 1925 3103 \nQ 1469 3103 1208 2742 \nQ 947 2381 947 1747 \nz\n\" transform=\"scale(0.015625)\"/>\n       <path id=\"DejaVuSans-62\" d=\"M 3116 1747 \nQ 3116 2381 2855 2742 \nQ 2594 3103 2138 3103 \nQ 1681 3103 1420 2742 \nQ 1159 2381 1159 1747 \nQ 1159 1113 1420 752 \nQ 1681 391 2138 391 \nQ 2594 391 2855 752 \nQ 3116 1113 3116 1747 \nz\nM 1159 2969 \nQ 1341 3281 1617 3432 \nQ 1894 3584 2278 3584 \nQ 2916 3584 3314 3078 \nQ 3713 2572 3713 1747 \nQ 3713 922 3314 415 \nQ 2916 -91 2278 -91 \nQ 1894 -91 1617 61 \nQ 1341 213 1159 525 \nL 1159 0 \nL 581 0 \nL 581 4863 \nL 1159 4863 \nL 1159 2969 \nz\n\" transform=\"scale(0.015625)\"/>\n       <path id=\"DejaVuSans-6c\" d=\"M 603 4863 \nL 1178 4863 \nL 1178 0 \nL 603 0 \nL 603 4863 \nz\n\" transform=\"scale(0.015625)\"/>\n       <path id=\"DejaVuSans-79\" d=\"M 2059 -325 \nQ 1816 -950 1584 -1140 \nQ 1353 -1331 966 -1331 \nL 506 -1331 \nL 506 -850 \nL 844 -850 \nQ 1081 -850 1212 -737 \nQ 1344 -625 1503 -206 \nL 1606 56 \nL 191 3500 \nL 800 3500 \nL 1894 763 \nL 2988 3500 \nL 3597 3500 \nL 2059 -325 \nz\n\" transform=\"scale(0.015625)\"/>\n      </defs>\n      <use xlink:href=\"#DejaVuSans-45\"/>\n      <use xlink:href=\"#DejaVuSans-73\" x=\"63.183594\"/>\n      <use xlink:href=\"#DejaVuSans-74\" x=\"115.283203\"/>\n      <use xlink:href=\"#DejaVuSans-69\" x=\"154.492188\"/>\n      <use xlink:href=\"#DejaVuSans-6d\" x=\"182.275391\"/>\n      <use xlink:href=\"#DejaVuSans-61\" x=\"279.6875\"/>\n      <use xlink:href=\"#DejaVuSans-74\" x=\"340.966797\"/>\n      <use xlink:href=\"#DejaVuSans-65\" x=\"380.175781\"/>\n      <use xlink:href=\"#DejaVuSans-64\" x=\"441.699219\"/>\n      <use xlink:href=\"#DejaVuSans-20\" x=\"505.175781\"/>\n      <use xlink:href=\"#DejaVuSans-70\" x=\"536.962891\"/>\n      <use xlink:href=\"#DejaVuSans-72\" x=\"600.439453\"/>\n      <use xlink:href=\"#DejaVuSans-6f\" x=\"639.302734\"/>\n      <use xlink:href=\"#DejaVuSans-62\" x=\"700.484375\"/>\n      <use xlink:href=\"#DejaVuSans-61\" x=\"763.960938\"/>\n      <use xlink:href=\"#DejaVuSans-62\" x=\"825.240234\"/>\n      <use xlink:href=\"#DejaVuSans-69\" x=\"888.716797\"/>\n      <use xlink:href=\"#DejaVuSans-6c\" x=\"916.5\"/>\n      <use xlink:href=\"#DejaVuSans-69\" x=\"944.283203\"/>\n      <use xlink:href=\"#DejaVuSans-74\" x=\"972.066406\"/>\n      <use xlink:href=\"#DejaVuSans-79\" x=\"1011.275391\"/>\n     </g>\n    </g>\n   </g>\n   <g id=\"line2d_13\">\n    <path d=\"M 65.361932 199.980001 \nL 66.581826 199.980001 \nL 67.191773 131.940008 \nL 67.80172 91.116009 \nL 68.411668 109.260004 \nL 69.021615 135.180001 \nL 69.631562 154.619999 \nL 70.241509 139.500001 \nL 70.851456 127.403999 \nL 71.461403 134.001825 \nL 72.071351 124.380002 \nL 72.681298 130.195386 \nL 73.291245 128.700002 \nL 73.901192 115.308012 \nL 74.511139 120.600006 \nL 75.121086 119.932944 \nL 76.340981 128.358948 \nL 76.950928 131.940008 \nL 77.560875 139.500001 \nL 78.780769 136.870442 \nL 79.390717 139.500001 \nL 80.000664 134.6616 \nL 81.220558 139.500001 \nL 81.830505 135.180001 \nL 82.440452 140.542765 \nL 83.660347 138.524518 \nL 84.270294 143.280011 \nL 84.880241 142.249103 \nL 85.490188 146.615294 \nL 86.710083 149.58 \nL 87.32003 153.394062 \nL 88.539924 155.783076 \nL 89.149871 159.156008 \nL 89.759819 153.513659 \nL 90.369766 145.98 \nL 90.979713 145.126047 \nL 91.58966 140.187273 \nL 92.199607 139.500001 \nL 92.809554 140.814794 \nL 93.419502 138.213191 \nL 94.029449 137.610003 \nL 94.639396 138.882862 \nL 95.249343 138.290408 \nL 95.85929 132.384708 \nL 96.469237 135.429239 \nL 97.079185 133.223777 \nL 98.909026 136.800011 \nL 99.518973 136.316853 \nL 100.738868 141.550178 \nL 101.348815 142.524011 \nL 101.958762 139.00427 \nL 102.568709 138.524518 \nL 103.788603 140.445 \nL 104.398551 139.965234 \nL 105.008498 142.249103 \nL 105.618445 141.756724 \nL 106.228392 143.947059 \nL 107.448286 142.956003 \nL 108.668181 147.060007 \nL 109.888075 146.038386 \nL 110.498022 143.128808 \nL 111.107969 143.876845 \nL 111.717917 141.070912 \nL 112.327864 141.826155 \nL 113.547758 138.744002 \nL 114.157705 139.500001 \nL 114.767652 141.343901 \nL 115.3776 139.864347 \nL 116.597494 139.144239 \nL 117.207441 139.85164 \nL 118.427335 139.156365 \nL 119.037283 137.801125 \nL 119.64723 138.492006 \nL 121.477071 134.622586 \nL 122.087018 135.317875 \nL 123.306913 134.775006 \nL 123.91686 132.641448 \nL 124.526807 132.402863 \nL 125.136754 131.252736 \nL 125.746701 132.84721 \nL 126.356649 130.81723 \nL 126.966596 130.605884 \nL 128.796437 132.58801 \nL 129.406384 129.800381 \nL 130.016332 129.60842 \nL 131.846173 134.001825 \nL 132.45612 134.596226 \nL 133.066067 134.37001 \nL 133.676015 135.753463 \nL 134.285962 133.929474 \nL 134.895909 135.292704 \nL 135.505856 135.068286 \nL 136.115803 134.072309 \nL 137.335698 130.605884 \nL 137.945645 130.42801 \nL 139.165539 133.05542 \nL 140.995381 134.6616 \nL 141.605328 135.900001 \nL 142.215275 136.404573 \nL 142.825222 136.192511 \nL 143.435169 135.28047 \nL 144.045116 135.080317 \nL 144.655064 135.575737 \nL 145.265011 135.376369 \nL 146.484905 133.632544 \nL 148.314747 133.09884 \nL 148.924694 133.583486 \nL 150.144588 133.236011 \nL 150.754535 133.709369 \nL 151.364482 134.814939 \nL 151.97443 134.636226 \nL 153.194324 133.034899 \nL 153.804271 134.114797 \nL 155.634113 131.787792 \nL 156.24406 132.84721 \nL 157.463954 133.730539 \nL 158.073901 132.977649 \nL 158.683848 132.823648 \nL 159.293796 133.25691 \nL 159.903743 133.103085 \nL 161.733584 134.364913 \nL 162.343531 133.074007 \nL 162.953479 133.489574 \nL 164.173373 135.418532 \nL 164.78332 135.25903 \nL 166.003214 136.038794 \nL 167.223109 135.720005 \nL 167.833056 136.637048 \nL 169.05295 137.377907 \nL 169.662897 137.214429 \nL 170.272845 137.577234 \nL 170.882792 136.893112 \nL 172.102686 137.610003 \nL 172.712633 137.449838 \nL 173.32258 138.310793 \nL 173.932528 138.148492 \nL 174.542475 137.484012 \nL 175.152422 138.330503 \nL 175.762369 137.672309 \nL 176.372316 137.517051 \nL 176.982263 136.377401 \nL 177.592211 136.721199 \nL 178.202158 135.598069 \nL 178.812105 136.427487 \nL 179.422052 136.282989 \nL 180.031999 135.180001 \nL 181.861841 134.775006 \nL 183.081735 136.382484 \nL 183.691682 134.847694 \nL 184.301629 133.791439 \nL 184.911577 133.206406 \nL 186.131471 133.877496 \nL 186.741418 133.754412 \nL 187.351365 134.535231 \nL 188.57126 135.180001 \nL 189.181207 135.052943 \nL 189.791154 135.8122 \nL 190.401101 136.123689 \nL 192.230943 135.738092 \nL 192.84089 136.044012 \nL 193.450837 135.487111 \nL 194.060784 135.791327 \nL 194.670731 134.814939 \nL 195.890626 134.577219 \nL 196.500573 134.880003 \nL 197.720467 133.812663 \nL 198.330414 133.700555 \nL 198.940361 134.001825 \nL 200.160256 135.413517 \nL 200.770203 135.703053 \nL 201.38015 136.395002 \nL 201.990097 136.677603 \nL 202.600044 135.753463 \nL 203.209992 135.237103 \nL 205.039833 136.081566 \nL 205.64978 136.750913 \nL 208.089569 134.738817 \nL 208.699516 135.015253 \nL 209.309463 134.906593 \nL 210.529358 133.932813 \nL 211.749252 133.728051 \nL 212.359199 133.252071 \nL 212.969146 133.900004 \nL 213.579093 133.799023 \nL 214.189041 133.328571 \nL 214.798988 133.599519 \nL 215.408935 133.133691 \nL 217.848724 134.198976 \nL 218.458671 133.380008 \nL 219.068618 134.001825 \nL 220.288512 133.807769 \nL 220.898459 133.003131 \nL 221.508407 132.910746 \nL 223.948195 135.328973 \nL 224.558142 134.883206 \nL 225.16809 135.130727 \nL 225.778037 135.032733 \nL 226.387984 135.27782 \nL 226.997931 135.180001 \nL 227.607878 135.422696 \nL 228.217825 134.986568 \nL 228.827773 135.565436 \nL 229.43772 135.804008 \nL 230.047667 135.371299 \nL 230.657614 135.275306 \nL 231.267561 135.512309 \nL 232.487456 135.32139 \nL 233.097403 135.555662 \nL 233.70735 135.460723 \nL 234.927244 136.573552 \nL 236.147139 136.379145 \nL 237.367033 136.82863 \nL 237.97698 136.092678 \nL 238.586927 135.68022 \nL 239.196874 135.587836 \nL 239.806822 135.8122 \nL 240.416769 135.720005 \nL 241.026716 135.314536 \nL 241.636663 134.599037 \nL 242.24661 135.135472 \nL 242.856557 135.046859 \nL 243.466505 135.578089 \nL 244.076452 135.797154 \nL 244.686399 136.322246 \nL 246.51624 136.049798 \nL 247.126188 136.263617 \nL 247.736135 136.778409 \nL 248.346082 136.686985 \nL 248.956029 137.196964 \nL 249.565976 137.104755 \nL 250.175923 137.311586 \nL 251.395818 138.314119 \nL 252.005765 137.92398 \nL 252.615712 138.125457 \nL 253.835606 137.939228 \nL 254.445554 137.555308 \nL 255.055501 137.755392 \nL 255.665448 137.664346 \nL 256.275395 137.862809 \nL 256.885342 137.772006 \nL 257.495289 137.107594 \nL 258.105237 137.019752 \nL 259.325131 136.276933 \nL 259.935078 136.476004 \nL 262.984814 138.848688 \nL 264.204708 138.112844 \nL 264.814655 138.301466 \nL 266.03455 138.125457 \nL 266.644497 138.586405 \nL 267.864391 138.955144 \nL 269.084286 138.777852 \nL 269.694233 138.420008 \nL 270.30418 138.602681 \nL 271.524074 138.429565 \nL 272.134021 138.610589 \nL 272.743969 138.524518 \nL 273.353916 138.17369 \nL 273.963863 138.618376 \nL 274.57381 138.533035 \nL 275.183757 138.974097 \nL 276.403652 138.802833 \nL 277.013599 138.978626 \nL 278.84344 138.724616 \nL 280.063335 139.071673 \nL 280.673282 138.987467 \nL 281.283229 138.64817 \nL 281.893176 138.820461 \nL 282.503123 138.737648 \nL 283.11307 138.401907 \nL 283.723018 138.573427 \nL 284.942912 138.411032 \nL 285.552859 138.0799 \nL 286.772753 138.420008 \nL 287.382701 137.843018 \nL 287.992648 138.012795 \nL 288.602595 137.440064 \nL 289.212542 137.610003 \nL 289.822489 137.533178 \nL 290.432436 136.966381 \nL 291.042384 137.380759 \nL 291.652331 137.305164 \nL 292.872225 137.640324 \nL 294.702067 137.414487 \nL 297.141855 138.071343 \nL 297.751802 137.995924 \nL 298.36175 138.157766 \nL 298.971697 138.555002 \nL 299.581644 138.714545 \nL 300.191591 138.638248 \nL 300.801538 138.093499 \nL 302.63138 138.569548 \nL 303.241327 138.494588 \nL 303.851274 138.882862 \nL 304.461221 138.576645 \nL 305.071168 138.50224 \nL 305.681116 137.96886 \nL 306.291063 137.66728 \nL 306.90101 137.824241 \nL 307.510957 137.752472 \nL 308.120904 137.90842 \nL 309.950746 137.694628 \nL 310.560693 137.173847 \nL 311.780587 137.036001 \nL 312.390534 136.74414 \nL 313.000482 136.676616 \nL 313.610429 136.164717 \nL 314.220376 135.877115 \nL 315.44027 136.18905 \nL 316.050217 136.564089 \nL 316.660165 136.497971 \nL 317.270112 136.65131 \nL 317.880059 137.02251 \nL 318.490006 136.30155 \nL 319.099953 136.671803 \nL 319.7099 136.823263 \nL 320.319848 136.32445 \nL 320.929795 136.044012 \nL 321.539742 136.195877 \nL 322.149689 136.561994 \nL 323.369583 136.861141 \nL 323.979531 136.796199 \nL 324.589478 136.944509 \nL 325.199425 136.879675 \nL 325.809372 136.603184 \nL 326.419319 136.750913 \nL 327.029266 137.108932 \nL 327.639214 137.254809 \nL 328.249161 137.610003 \nL 328.859108 137.754041 \nL 329.469055 137.688396 \nL 330.079002 136.997379 \nL 330.688949 136.933762 \nL 331.298897 137.078043 \nL 332.518791 137.777914 \nL 333.128738 137.30073 \nL 333.738685 137.442862 \nL 334.95858 137.315628 \nL 336.178474 137.597269 \nL 336.788421 137.533732 \nL 337.398368 137.673431 \nL 338.008315 137.610003 \nL 338.618263 137.950962 \nL 339.22821 137.88721 \nL 340.448104 138.161956 \nL 341.058051 138.498684 \nL 341.667998 138.234455 \nL 343.49784 138.044252 \nL 344.107787 138.179476 \nL 345.937629 139.172019 \nL 346.547576 139.10728 \nL 347.157523 139.434694 \nL 347.76747 139.565173 \nL 348.377417 139.890194 \nL 349.597312 139.759026 \nL 350.207259 139.887693 \nL 350.817206 139.8224 \nL 351.427153 139.564348 \nL 352.0371 139.69261 \nL 353.256995 139.180346 \nL 354.476889 139.054369 \nL 355.086836 139.182361 \nL 355.696783 139.500001 \nL 356.306731 139.057154 \nL 356.916678 139.184348 \nL 358.136572 139.059925 \nL 358.746519 139.374524 \nL 359.356466 139.500001 \nL 359.966414 139.437533 \nL 361.796255 140.369324 \nL 363.016149 140.613127 \nL 363.626097 140.549145 \nL 364.236044 140.300651 \nL 364.845991 139.868781 \nL 365.455938 139.806705 \nL 366.065885 139.928505 \nL 366.675832 139.500001 \nL 367.28578 139.25613 \nL 367.895727 139.560847 \nL 368.505674 139.500001 \nL 369.725568 139.741925 \nL 369.725568 139.741925 \n\" clip-path=\"url(#pe9f306eb2d)\" style=\"fill: none; stroke: #1f77b4; stroke-width: 1.5; stroke-linecap: square\"/>\n   </g>\n   <g id=\"line2d_14\">\n    <path d=\"M 65.361932 199.980001 \nL 65.971879 245.34 \nL 66.581826 199.980001 \nL 67.191773 199.980001 \nL 67.80172 181.836006 \nL 68.411668 169.739998 \nL 69.021615 161.099999 \nL 69.631562 143.280011 \nL 70.241509 159.659999 \nL 71.461403 166.99091 \nL 72.071351 154.619999 \nL 73.291245 161.099999 \nL 74.511139 165.960002 \nL 75.121086 173.297644 \nL 75.731034 169.739998 \nL 76.340981 176.106321 \nL 77.560875 178.380004 \nL 78.780769 188.146959 \nL 79.390717 188.640006 \nL 80.000664 185.464806 \nL 80.610611 179.044619 \nL 81.220558 166.380003 \nL 81.830505 170.820004 \nL 83.660347 173.641943 \nL 84.270294 168.794999 \nL 84.880241 166.99091 \nL 85.490188 170.629409 \nL 86.100135 168.876001 \nL 87.929977 171.331579 \nL 88.539924 174.392305 \nL 89.759819 171.215132 \nL 90.369766 174.059997 \nL 91.58966 175.238188 \nL 92.199607 173.772003 \nL 92.809554 174.341746 \nL 93.419502 176.817453 \nL 94.029449 175.410006 \nL 94.639396 177.762858 \nL 95.249343 178.207206 \nL 95.85929 180.412945 \nL 96.469237 177.300004 \nL 97.079185 179.439625 \nL 98.299079 176.88764 \nL 99.518973 177.697896 \nL 100.738868 175.377967 \nL 103.178656 176.939997 \nL 103.788603 175.882498 \nL 104.398551 173.461852 \nL 105.008498 173.863644 \nL 106.228392 171.963534 \nL 106.838339 172.36957 \nL 108.058234 170.591828 \nL 108.668181 168.480008 \nL 109.278128 165.183292 \nL 111.107969 162.975789 \nL 111.717917 164.634556 \nL 112.937811 163.232664 \nL 113.547758 163.692004 \nL 114.767652 162.364395 \nL 115.3776 163.910609 \nL 116.597494 164.759303 \nL 117.207441 162.004186 \nL 120.257177 164.090768 \nL 120.867124 165.466961 \nL 121.477071 162.911617 \nL 122.087018 162.34086 \nL 122.696966 159.87221 \nL 124.526807 161.099999 \nL 125.136754 162.4091 \nL 125.746701 161.8776 \nL 126.356649 163.153068 \nL 126.966596 162.624704 \nL 127.576543 163.868161 \nL 128.18649 164.215393 \nL 128.796437 165.419998 \nL 129.406384 165.746047 \nL 130.016332 164.370286 \nL 130.626279 164.699998 \nL 131.236226 163.359088 \nL 131.846173 164.51673 \nL 132.45612 164.836223 \nL 133.066067 164.340005 \nL 133.676015 163.049734 \nL 134.285962 163.373688 \nL 134.895909 164.48088 \nL 135.505856 164.786894 \nL 137.945645 168.983999 \nL 138.555592 168.490417 \nL 139.165539 169.492139 \nL 139.775486 168.264877 \nL 140.995381 168.772328 \nL 141.605328 166.139998 \nL 142.825222 168.08626 \nL 143.435169 167.630232 \nL 144.045116 168.576921 \nL 144.655064 168.124124 \nL 145.265011 169.052726 \nL 145.874958 168.60316 \nL 146.484905 166.806276 \nL 147.094852 165.708006 \nL 148.314747 164.883942 \nL 148.924694 163.823483 \nL 150.144588 163.044003 \nL 151.364482 163.564229 \nL 151.97443 163.184485 \nL 152.584377 164.070003 \nL 153.804271 164.561922 \nL 154.414218 163.568581 \nL 155.024165 163.814602 \nL 155.634113 163.448458 \nL 156.24406 162.48241 \nL 156.854007 162.129933 \nL 157.463954 160.588424 \nL 158.073901 159.659999 \nL 160.51369 158.375933 \nL 161.123637 158.639243 \nL 161.733584 158.328686 \nL 162.953479 158.846087 \nL 163.563426 156.860001 \nL 164.173373 157.124541 \nL 164.78332 156.279523 \nL 165.393267 156.544375 \nL 166.003214 157.352541 \nL 166.613162 157.607794 \nL 167.223109 157.320002 \nL 167.833056 155.962018 \nL 168.443003 155.687299 \nL 169.05295 155.946324 \nL 169.662897 155.674889 \nL 170.272845 154.882201 \nL 171.492739 154.360799 \nL 172.102686 155.135453 \nL 172.712633 155.388814 \nL 173.32258 154.619999 \nL 173.932528 154.873414 \nL 174.542475 155.628007 \nL 176.372316 156.355091 \nL 176.982263 156.099135 \nL 177.592211 154.865195 \nL 178.202158 155.595482 \nL 179.422052 155.102563 \nL 181.251894 155.807436 \nL 181.861841 156.510011 \nL 183.081735 155.087639 \nL 183.691682 155.783076 \nL 184.301629 156.008575 \nL 184.911577 155.310773 \nL 185.521524 155.994543 \nL 186.131471 155.759703 \nL 186.741418 155.980809 \nL 188.57126 155.290346 \nL 189.181207 154.1753 \nL 189.791154 154.841267 \nL 190.401101 154.179613 \nL 191.011048 154.839131 \nL 192.84089 154.188007 \nL 194.060784 154.619999 \nL 194.670731 154.407045 \nL 195.280678 154.619999 \nL 195.890626 153.987071 \nL 196.500573 153.780011 \nL 197.11052 153.156775 \nL 197.720467 152.955419 \nL 198.330414 152.341647 \nL 199.550309 152.77276 \nL 200.160256 152.168112 \nL 200.770203 152.382512 \nL 201.38015 150.975011 \nL 202.600044 152.211506 \nL 203.209992 151.622647 \nL 203.819939 152.232635 \nL 205.039833 152.647837 \nL 206.259727 151.491735 \nL 206.869675 151.699837 \nL 207.479622 151.130769 \nL 208.089569 151.724683 \nL 208.699516 151.929162 \nL 209.309463 150.600769 \nL 209.91941 151.189411 \nL 211.139305 151.596002 \nL 212.359199 151.246121 \nL 212.969146 150.700007 \nL 213.579093 150.530163 \nL 214.798988 150.932198 \nL 215.408935 150.763489 \nL 216.018882 151.327745 \nL 217.238776 151.716964 \nL 217.848724 150.102078 \nL 219.068618 149.77922 \nL 220.898459 150.36751 \nL 221.508407 150.913543 \nL 222.118354 150.752093 \nL 223.338248 149.735082 \nL 224.558142 150.811155 \nL 225.16809 150.9981 \nL 225.778037 150.840003 \nL 226.387984 150.340758 \nL 226.997931 150.186324 \nL 227.607878 150.37281 \nL 228.217825 149.880904 \nL 228.827773 149.729891 \nL 229.43772 149.244002 \nL 231.267561 150.798461 \nL 232.487456 150.496367 \nL 233.70735 149.543608 \nL 234.927244 149.254843 \nL 236.147139 150.261567 \nL 236.757086 150.437873 \nL 237.367033 149.971802 \nL 239.806822 150.66878 \nL 240.416769 150.210008 \nL 241.026716 150.696127 \nL 242.24661 150.41135 \nL 242.856557 150.891792 \nL 245.296346 150.329199 \nL 245.906293 150.496367 \nL 246.51624 150.966846 \nL 247.126188 150.827363 \nL 247.736135 150.386409 \nL 248.346082 150.249766 \nL 249.565976 150.578031 \nL 250.175923 150.442104 \nL 250.785871 150.604527 \nL 251.395818 150.172941 \nL 252.615712 150.496367 \nL 253.225659 150.950096 \nL 253.835606 150.230326 \nL 255.055501 150.549237 \nL 255.665448 150.127479 \nL 256.275395 150.286252 \nL 257.495289 150.026591 \nL 258.105237 150.184175 \nL 259.325131 151.065151 \nL 259.935078 150.36751 \nL 260.545025 150.239438 \nL 261.154972 150.393912 \nL 261.76492 150.266569 \nL 262.374867 149.860005 \nL 262.984814 149.735082 \nL 263.594761 149.889205 \nL 264.204708 149.487534 \nL 266.03455 149.946549 \nL 267.254444 149.701449 \nL 267.864391 149.035143 \nL 269.084286 149.339292 \nL 269.694233 148.950005 \nL 270.30418 148.832233 \nL 271.524074 149.669207 \nL 272.134021 149.550354 \nL 272.743969 149.698245 \nL 273.963863 149.462458 \nL 274.57381 149.609308 \nL 275.793704 148.327283 \nL 276.403652 147.953258 \nL 278.233493 147.621599 \nL 280.063335 146.5246 \nL 280.673282 146.419333 \nL 281.283229 146.825748 \nL 282.503123 146.615294 \nL 283.723018 146.912589 \nL 284.332965 146.808012 \nL 284.942912 146.452696 \nL 285.552859 146.600559 \nL 286.772753 146.395392 \nL 287.382701 146.045105 \nL 289.212542 146.484788 \nL 289.822489 146.875617 \nL 291.042384 147.161895 \nL 291.652331 147.060007 \nL 292.262278 147.201882 \nL 292.872225 147.100427 \nL 293.482172 147.483361 \nL 295.921961 148.037423 \nL 296.531908 147.696639 \nL 297.141855 147.595752 \nL 297.751802 147.732882 \nL 299.581644 146.726185 \nL 300.191591 146.629124 \nL 300.801538 146.766983 \nL 301.411485 147.13794 \nL 302.021433 147.040568 \nL 302.63138 147.176319 \nL 303.241327 147.079338 \nL 303.851274 146.751437 \nL 304.461221 146.656039 \nL 305.071168 146.330869 \nL 305.681116 146.466687 \nL 306.291063 146.372735 \nL 306.90101 146.507769 \nL 307.510957 145.958303 \nL 308.120904 145.866325 \nL 308.730851 146.2284 \nL 309.340799 145.909975 \nL 309.950746 146.270158 \nL 310.560693 146.178314 \nL 311.17064 145.862377 \nL 311.780587 145.996006 \nL 314.220376 145.636729 \nL 315.44027 145.901175 \nL 316.050217 145.812238 \nL 317.270112 146.073912 \nL 317.880059 145.985205 \nL 318.490006 146.115008 \nL 319.099953 146.026625 \nL 319.7099 146.155698 \nL 320.319848 146.500672 \nL 320.929795 146.412006 \nL 321.539742 145.89278 \nL 323.369583 146.917361 \nL 323.979531 146.828762 \nL 324.589478 146.953523 \nL 325.809372 146.777393 \nL 326.419319 146.478462 \nL 327.029266 146.602884 \nL 328.249161 146.429998 \nL 328.859108 146.553678 \nL 330.079002 147.216414 \nL 330.688949 147.33743 \nL 331.298897 147.250304 \nL 331.908844 147.577813 \nL 333.128738 147.816006 \nL 333.738685 147.728583 \nL 334.95858 148.374043 \nL 335.568527 148.285957 \nL 336.788421 148.517756 \nL 337.398368 148.429941 \nL 338.008315 148.545009 \nL 338.618263 148.25546 \nL 339.22821 148.370406 \nL 339.838157 148.685992 \nL 341.667998 148.425467 \nL 342.277946 148.14 \nL 343.49784 148.366878 \nL 344.107787 148.281496 \nL 344.717734 148.394118 \nL 345.327681 148.111828 \nL 346.547576 148.336367 \nL 347.157523 148.251972 \nL 348.377417 147.303878 \nL 348.987365 147.416918 \nL 349.597312 147.72373 \nL 350.207259 147.447699 \nL 350.817206 147.559712 \nL 351.427153 147.478224 \nL 352.0371 147.782291 \nL 352.647048 147.892885 \nL 353.256995 147.811207 \nL 355.086836 148.14 \nL 355.696783 147.868309 \nL 356.916678 148.085886 \nL 357.526625 147.816006 \nL 358.136572 147.92445 \nL 359.356466 147.764353 \nL 360.576361 148.353779 \nL 361.186308 148.08667 \nL 362.406202 147.927546 \nL 363.016149 148.219515 \nL 363.626097 148.14 \nL 364.236044 148.245592 \nL 364.845991 148.535127 \nL 365.455938 148.271439 \nL 366.675832 148.846914 \nL 367.28578 148.950005 \nL 367.895727 148.687614 \nL 368.505674 148.79061 \nL 369.725568 148.2696 \nL 369.725568 148.2696 \n\" clip-path=\"url(#pe9f306eb2d)\" style=\"fill: none; stroke: #ff7f0e; stroke-width: 1.5; stroke-linecap: square\"/>\n   </g>\n   <g id=\"line2d_15\">\n    <path d=\"M 65.361932 109.260004 \nL 65.971879 109.260004 \nL 66.581826 48.779997 \nL 67.191773 41.220004 \nL 67.80172 54.828018 \nL 68.411668 48.779997 \nL 69.021615 70.380008 \nL 69.631562 75.240011 \nL 70.241509 79.020007 \nL 71.461403 68.023641 \nL 72.071351 79.020007 \nL 72.681298 81.346161 \nL 73.291245 96.300005 \nL 74.511139 109.260004 \nL 75.731034 109.260004 \nL 76.340981 114.034747 \nL 76.950928 100.188013 \nL 78.170822 109.260004 \nL 78.780769 113.204356 \nL 79.390717 105.480008 \nL 80.610611 105.770774 \nL 81.220558 109.260004 \nL 81.830505 115.740003 \nL 83.0504 115.308012 \nL 83.660347 112.186453 \nL 84.270294 114.930012 \nL 85.490188 114.596474 \nL 86.710083 119.340003 \nL 87.32003 119.067568 \nL 87.929977 116.422111 \nL 88.539924 116.238465 \nL 89.149871 120.600006 \nL 89.759819 122.536102 \nL 90.369766 126.540002 \nL 91.58966 125.754547 \nL 92.199607 127.403999 \nL 92.809554 127.009575 \nL 94.029449 130.05001 \nL 94.639396 125.922863 \nL 96.469237 135.429239 \nL 97.079185 133.223777 \nL 97.689132 132.780011 \nL 98.299079 127.403999 \nL 98.909026 127.080006 \nL 99.518973 128.358948 \nL 100.12892 131.157932 \nL 100.738868 132.324416 \nL 101.348815 130.42801 \nL 101.958762 130.080994 \nL 102.568709 132.671621 \nL 103.788603 129.105011 \nL 105.008498 131.252736 \nL 106.228392 135.942354 \nL 106.838339 134.240869 \nL 107.448286 135.180001 \nL 108.058234 134.814939 \nL 109.278128 136.600278 \nL 109.888075 133.778921 \nL 112.327864 132.52154 \nL 112.937811 133.375453 \nL 113.547758 131.940008 \nL 114.157705 132.780011 \nL 115.987547 131.940008 \nL 116.597494 133.807769 \nL 119.64723 137.484012 \nL 120.257177 137.173847 \nL 120.867124 134.898266 \nL 121.477071 135.598069 \nL 122.087018 137.24809 \nL 122.696966 136.953485 \nL 123.306913 134.775006 \nL 123.91686 134.511966 \nL 124.526807 136.105723 \nL 125.136754 135.834546 \nL 125.746701 133.754412 \nL 126.356649 135.308317 \nL 126.966596 135.942354 \nL 127.576543 135.683302 \nL 128.18649 134.556928 \nL 130.016332 136.391217 \nL 130.626279 135.300004 \nL 131.236226 135.061108 \nL 132.45612 132.961629 \nL 133.066067 132.75 \nL 134.285962 130.746326 \nL 135.505856 130.37587 \nL 136.115803 129.420002 \nL 137.335698 130.605884 \nL 137.945645 130.42801 \nL 138.555592 129.503315 \nL 139.165539 130.080994 \nL 139.775486 129.911718 \nL 140.385433 128.281948 \nL 140.995381 128.129772 \nL 141.605328 128.700002 \nL 142.825222 126.978753 \nL 143.435169 127.544658 \nL 144.045116 128.7997 \nL 144.655064 127.958021 \nL 145.874958 127.676853 \nL 146.484905 128.216424 \nL 147.094852 127.403999 \nL 149.534641 126.881881 \nL 150.144588 128.052001 \nL 150.754535 128.562129 \nL 151.364482 128.426202 \nL 151.97443 127.657766 \nL 153.194324 128.65531 \nL 153.804271 127.901096 \nL 154.414218 128.391433 \nL 155.024165 129.488107 \nL 156.24406 130.42801 \nL 156.854007 129.68703 \nL 157.463954 129.552644 \nL 158.683848 131.645457 \nL 159.293796 130.915751 \nL 160.51369 130.639883 \nL 161.123637 129.930387 \nL 161.733584 130.941517 \nL 162.343531 131.373009 \nL 163.563426 131.100006 \nL 164.173373 132.079153 \nL 164.78332 132.493179 \nL 165.393267 131.802554 \nL 166.003214 132.213255 \nL 167.223109 131.940008 \nL 167.833056 130.732199 \nL 168.443003 129.004949 \nL 169.05295 129.420002 \nL 169.662897 129.302798 \nL 170.272845 130.235725 \nL 170.882792 130.636557 \nL 171.492739 130.514406 \nL 172.102686 129.362738 \nL 173.32258 130.156183 \nL 174.542475 129.924006 \nL 175.152422 129.308624 \nL 175.762369 129.198464 \nL 176.372316 129.58525 \nL 177.592211 131.327033 \nL 178.812105 130.120752 \nL 179.422052 130.492344 \nL 180.031999 130.380006 \nL 180.641946 130.746326 \nL 181.251894 131.583773 \nL 181.861841 130.995009 \nL 183.691682 132.05632 \nL 184.301629 132.865717 \nL 184.911577 133.206406 \nL 185.521524 133.085457 \nL 186.741418 131.032807 \nL 187.351365 130.473134 \nL 187.961312 131.266336 \nL 189.791154 132.271911 \nL 190.401101 131.719808 \nL 192.230943 131.397423 \nL 192.84089 130.42801 \nL 193.450837 131.187592 \nL 194.060784 131.084163 \nL 194.670731 131.407616 \nL 195.890626 131.201583 \nL 197.11052 131.835485 \nL 197.720467 130.899638 \nL 198.330414 131.629317 \nL 200.160256 132.552984 \nL 200.770203 132.041707 \nL 201.38015 132.345004 \nL 202.600044 132.140715 \nL 203.209992 132.439565 \nL 203.819939 132.337907 \nL 205.039833 131.348352 \nL 205.64978 131.252736 \nL 206.259727 131.940008 \nL 208.089569 132.808602 \nL 208.699516 133.477638 \nL 210.529358 134.312395 \nL 211.139305 134.964005 \nL 211.749252 134.480914 \nL 212.969146 134.27334 \nL 213.579093 134.542625 \nL 214.189041 135.180001 \nL 214.798988 134.705859 \nL 215.408935 135.337409 \nL 216.628829 135.127956 \nL 217.238776 135.750245 \nL 217.848724 136.006147 \nL 219.678565 135.690237 \nL 220.288512 136.29813 \nL 220.898459 136.546881 \nL 221.508407 136.440708 \nL 222.118354 136.686985 \nL 222.728301 137.281629 \nL 223.338248 137.522769 \nL 225.16809 137.200384 \nL 225.778037 137.438185 \nL 226.387984 136.647173 \nL 226.997931 136.203163 \nL 228.827773 136.91443 \nL 229.43772 136.812002 \nL 230.657614 137.276478 \nL 231.267561 137.173847 \nL 231.877508 136.740882 \nL 233.097403 137.19914 \nL 234.317297 136.998136 \nL 234.927244 137.549035 \nL 235.537191 137.124005 \nL 236.147139 136.379145 \nL 236.757086 136.282989 \nL 237.367033 135.866935 \nL 237.97698 135.77324 \nL 238.586927 135.998536 \nL 239.806822 135.180001 \nL 241.026716 135.000627 \nL 241.636663 135.537521 \nL 242.24661 135.758978 \nL 242.856557 135.357538 \nL 244.076452 135.180001 \nL 244.686399 134.477089 \nL 245.296346 134.391896 \nL 245.906293 134.001825 \nL 246.51624 133.918795 \nL 247.126188 134.139739 \nL 247.736135 134.056804 \nL 248.346082 134.275814 \nL 248.956029 134.192987 \nL 249.565976 133.511893 \nL 250.175923 134.028956 \nL 250.785871 133.947738 \nL 253.225659 134.802529 \nL 253.835606 135.305424 \nL 254.445554 135.513377 \nL 255.055501 135.138473 \nL 255.665448 135.055795 \nL 256.275395 135.262558 \nL 256.885342 134.604012 \nL 259.325131 135.423764 \nL 259.935078 135.058512 \nL 261.154972 135.46175 \nL 262.374867 135.300004 \nL 262.984814 134.94074 \nL 264.814655 134.705859 \nL 266.644497 135.297462 \nL 267.254444 134.945783 \nL 268.474338 135.878453 \nL 269.084286 136.069792 \nL 269.694233 136.53001 \nL 270.30418 136.449089 \nL 270.914127 136.637048 \nL 271.524074 136.021071 \nL 272.134021 136.209179 \nL 272.743969 136.130151 \nL 273.353916 136.582109 \nL 273.963863 135.973473 \nL 275.183757 135.818621 \nL 275.793704 136.004052 \nL 277.013599 135.850348 \nL 277.623546 135.514215 \nL 278.84344 135.881549 \nL 279.453387 136.321368 \nL 280.063335 135.987708 \nL 280.673282 135.912208 \nL 281.283229 135.581577 \nL 282.503123 135.434119 \nL 283.11307 135.867828 \nL 284.332965 136.224009 \nL 284.942912 136.149306 \nL 286.162806 136.500999 \nL 286.772753 136.426162 \nL 289.822489 137.28732 \nL 290.432436 137.211577 \nL 291.042384 136.647173 \nL 291.652331 136.817423 \nL 292.262278 136.743545 \nL 292.872225 136.912633 \nL 293.482172 136.596966 \nL 294.092119 136.76554 \nL 294.702067 136.692581 \nL 295.312014 136.38001 \nL 295.921961 136.787182 \nL 296.531908 136.714738 \nL 297.751802 135.62105 \nL 298.36175 136.025965 \nL 298.971697 136.192511 \nL 299.581644 136.59383 \nL 300.191591 136.758037 \nL 301.411485 136.616297 \nL 302.021433 136.77918 \nL 302.63138 136.476004 \nL 303.241327 136.638413 \nL 304.461221 136.037415 \nL 305.071168 135.969445 \nL 305.681116 136.361166 \nL 306.291063 136.292736 \nL 306.90101 136.453158 \nL 307.510957 135.928944 \nL 308.120904 135.634745 \nL 308.730851 136.02241 \nL 309.340799 136.181899 \nL 310.560693 135.598069 \nL 311.17064 135.757437 \nL 313.000482 135.562124 \nL 313.610429 135.942354 \nL 314.220376 136.098924 \nL 314.830323 136.033468 \nL 315.44027 136.409791 \nL 317.880059 136.148103 \nL 318.490006 136.519628 \nL 319.099953 135.801588 \nL 319.7099 135.738092 \nL 320.319848 135.891417 \nL 320.929795 136.260008 \nL 321.539742 136.195877 \nL 322.149689 136.347026 \nL 322.759636 135.854052 \nL 323.369583 135.577359 \nL 323.979531 135.942354 \nL 327.639214 136.833834 \nL 328.249161 136.770001 \nL 328.859108 136.915985 \nL 329.469055 136.643226 \nL 330.079002 136.788832 \nL 330.688949 136.517627 \nL 331.298897 136.662841 \nL 332.518791 135.711393 \nL 333.128738 135.651277 \nL 333.738685 135.180001 \nL 334.348632 135.121359 \nL 334.95858 134.858197 \nL 335.568527 135.209201 \nL 337.398368 135.643896 \nL 338.008315 135.585011 \nL 338.618263 134.920233 \nL 339.22821 134.460001 \nL 340.448104 134.749916 \nL 341.058051 134.693652 \nL 341.667998 134.837447 \nL 342.277946 135.180001 \nL 343.49784 135.066569 \nL 344.717734 134.558834 \nL 345.937629 134.842651 \nL 346.547576 134.590913 \nL 347.157523 134.536204 \nL 347.76747 134.87277 \nL 348.377417 135.01278 \nL 348.987365 134.762839 \nL 349.597312 134.902483 \nL 350.207259 134.847694 \nL 351.427153 134.352774 \nL 352.0371 133.721657 \nL 352.647048 133.862045 \nL 353.256995 133.618228 \nL 353.866942 133.94963 \nL 355.086836 133.464714 \nL 355.696783 133.033588 \nL 356.916678 133.691903 \nL 357.526625 133.641007 \nL 358.746519 133.916267 \nL 359.356466 133.865222 \nL 359.966414 133.626948 \nL 360.576361 133.5767 \nL 361.186308 133.713343 \nL 361.796255 133.663123 \nL 363.016149 134.305406 \nL 363.626097 134.254293 \nL 364.236044 134.388151 \nL 364.845991 134.337079 \nL 366.065885 134.602836 \nL 366.675832 134.368374 \nL 367.28578 134.500651 \nL 367.895727 134.814939 \nL 369.115621 135.076113 \nL 369.725568 135.387359 \nL 369.725568 135.387359 \n\" clip-path=\"url(#pe9f306eb2d)\" style=\"fill: none; stroke: #2ca02c; stroke-width: 1.5; stroke-linecap: square\"/>\n   </g>\n   <g id=\"line2d_16\">\n    <path d=\"M 65.361932 18.54 \nL 65.971879 109.260004 \nL 66.581826 139.500001 \nL 67.191773 177.300004 \nL 67.80172 181.836006 \nL 68.411668 184.860003 \nL 69.021615 174.059997 \nL 69.631562 177.300004 \nL 70.241509 179.820003 \nL 70.851456 181.836006 \nL 71.461403 158.743645 \nL 72.071351 162.180005 \nL 72.681298 151.130769 \nL 73.291245 148.14 \nL 73.901192 157.64401 \nL 74.511139 154.619999 \nL 75.731034 169.739998 \nL 76.950928 163.692004 \nL 77.560875 156.779999 \nL 78.170822 162.867277 \nL 78.780769 160.536527 \nL 80.000664 163.692004 \nL 80.610611 161.59846 \nL 81.220558 166.380003 \nL 81.830505 167.579998 \nL 82.440452 156.184138 \nL 83.0504 160.668007 \nL 83.660347 156.083237 \nL 84.270294 157.45501 \nL 84.880241 161.492733 \nL 86.100135 153.32401 \nL 86.710083 157.140006 \nL 87.32003 148.490274 \nL 88.539924 146.478462 \nL 89.149871 141.011999 \nL 90.369766 148.14 \nL 90.979713 149.345592 \nL 91.58966 152.558183 \nL 93.419502 149.794468 \nL 94.029449 150.840003 \nL 94.639396 149.99143 \nL 95.249343 145.548008 \nL 95.85929 143.057648 \nL 97.079185 148.629066 \nL 98.299079 150.496367 \nL 98.909026 149.76001 \nL 99.518973 147.457905 \nL 101.348815 145.548008 \nL 101.958762 146.440326 \nL 102.568709 142.914205 \nL 103.178656 143.82 \nL 104.398551 142.756621 \nL 105.008498 140.874545 \nL 105.618445 137.694628 \nL 106.228392 135.942354 \nL 107.448286 140.364012 \nL 108.058234 136.092678 \nL 108.668181 134.460001 \nL 109.278128 136.600278 \nL 110.498022 138.290408 \nL 111.107969 140.295798 \nL 112.327864 141.826155 \nL 112.937811 141.413926 \nL 113.547758 143.280011 \nL 114.157705 143.980003 \nL 115.3776 143.143381 \nL 115.987547 140.580008 \nL 116.597494 140.211538 \nL 117.207441 138.79675 \nL 117.817388 139.500001 \nL 119.037283 138.820461 \nL 119.64723 136.476004 \nL 120.257177 137.173847 \nL 120.867124 138.842618 \nL 121.477071 139.500001 \nL 122.087018 139.178305 \nL 122.696966 139.818317 \nL 123.306913 141.389999 \nL 123.91686 141.058773 \nL 125.136754 138.583647 \nL 126.356649 138.002981 \nL 126.966596 138.610589 \nL 127.576543 138.325636 \nL 128.18649 139.79078 \nL 128.796437 140.364012 \nL 130.626279 139.500001 \nL 131.236226 140.054874 \nL 132.45612 139.500001 \nL 133.676015 140.57045 \nL 134.285962 141.887379 \nL 135.505856 141.324827 \nL 136.72575 142.318992 \nL 137.335698 142.041177 \nL 137.945645 142.524011 \nL 138.555592 142.249103 \nL 139.165539 140.491476 \nL 140.385433 141.450967 \nL 142.825222 140.445 \nL 143.435169 140.906516 \nL 144.045116 139.965234 \nL 144.655064 140.423371 \nL 145.265011 139.500001 \nL 145.874958 139.954744 \nL 147.094852 139.500001 \nL 147.704799 139.944713 \nL 148.924694 142.129573 \nL 150.144588 141.660001 \nL 150.754535 140.143406 \nL 151.364482 141.203662 \nL 151.97443 140.980285 \nL 152.584377 141.389999 \nL 153.194324 141.16842 \nL 154.414218 141.96857 \nL 155.024165 141.747572 \nL 155.634113 142.747253 \nL 156.24406 143.128808 \nL 157.463954 142.683163 \nL 158.073901 143.057648 \nL 158.683848 142.249103 \nL 159.293796 143.206849 \nL 160.51369 143.930067 \nL 161.123637 143.136459 \nL 163.563426 142.299999 \nL 164.173373 141.540742 \nL 164.78332 142.450255 \nL 165.393267 142.79892 \nL 166.003214 141.503864 \nL 166.613162 141.310782 \nL 168.443003 142.346124 \nL 169.662897 140.906516 \nL 170.272845 140.723586 \nL 171.492739 141.4008 \nL 172.102686 140.702727 \nL 172.712633 141.03763 \nL 173.932528 139.66894 \nL 175.762369 140.663078 \nL 176.372316 140.491476 \nL 177.592211 141.134597 \nL 178.202158 140.963225 \nL 179.422052 139.660856 \nL 180.031999 139.500001 \nL 180.641946 138.863369 \nL 181.861841 139.500001 \nL 182.471788 139.343323 \nL 183.081735 139.655881 \nL 183.691682 139.500001 \nL 184.911577 141.035035 \nL 185.521524 141.332735 \nL 186.741418 142.826403 \nL 187.351365 142.208061 \nL 189.181207 141.723537 \nL 189.791154 141.122633 \nL 191.011048 140.814794 \nL 191.620995 141.099233 \nL 192.230943 141.815029 \nL 193.450837 142.366361 \nL 194.060784 142.210197 \nL 195.280678 142.750092 \nL 195.890626 142.594334 \nL 196.500573 142.86001 \nL 197.11052 142.705171 \nL 198.330414 144.05672 \nL 198.940361 143.073829 \nL 199.550309 141.689322 \nL 201.38015 142.470006 \nL 201.990097 141.919201 \nL 202.600044 141.77469 \nL 203.209992 142.031106 \nL 203.819939 141.887379 \nL 205.039833 140.814794 \nL 205.64978 140.678191 \nL 206.259727 140.933796 \nL 208.089569 140.529449 \nL 209.309463 141.031141 \nL 209.91941 140.135295 \nL 210.529358 139.626532 \nL 211.139305 139.878001 \nL 211.749252 140.503818 \nL 213.579093 140.119681 \nL 214.798988 140.606341 \nL 215.408935 141.214017 \nL 216.018882 141.450967 \nL 216.628829 140.957358 \nL 217.238776 140.83057 \nL 217.848724 141.427661 \nL 218.458671 141.300007 \nL 219.068618 141.890515 \nL 219.678565 141.404883 \nL 220.288512 141.278824 \nL 220.898459 141.862505 \nL 222.728301 141.484871 \nL 223.338248 142.058778 \nL 224.558142 140.423371 \nL 225.16809 139.959935 \nL 225.778037 139.843637 \nL 226.387984 140.070569 \nL 226.997931 139.954744 \nL 227.607878 140.179554 \nL 228.217825 140.7412 \nL 229.43772 140.508009 \nL 230.047667 140.057943 \nL 230.657614 140.611776 \nL 231.877508 141.045119 \nL 233.097403 140.814794 \nL 233.70735 141.355892 \nL 234.317297 140.587781 \nL 234.927244 140.475484 \nL 236.147139 140.899013 \nL 236.757086 140.143406 \nL 237.97698 140.564799 \nL 238.586927 140.454949 \nL 239.196874 140.663078 \nL 239.806822 140.237561 \nL 240.416769 140.445 \nL 241.026716 140.964915 \nL 241.636663 141.16842 \nL 242.856557 140.949869 \nL 243.466505 141.460957 \nL 244.076452 141.660001 \nL 244.686399 142.165221 \nL 245.296346 142.360548 \nL 245.906293 142.86001 \nL 246.51624 142.44282 \nL 247.736135 142.826403 \nL 248.346082 142.71489 \nL 248.956029 142.904512 \nL 249.565976 143.39228 \nL 250.785871 143.763345 \nL 251.395818 143.650589 \nL 252.005765 144.129584 \nL 252.615712 143.427279 \nL 253.225659 143.023108 \nL 254.445554 143.389401 \nL 255.055501 143.280011 \nL 255.665448 143.461156 \nL 256.275395 143.063312 \nL 256.885342 143.244011 \nL 257.495289 143.710637 \nL 258.715184 144.064534 \nL 259.325131 143.955427 \nL 259.935078 144.130503 \nL 260.545025 144.02187 \nL 261.154972 144.195661 \nL 261.76492 144.087501 \nL 262.984814 144.431448 \nL 263.594761 144.045283 \nL 264.204708 144.493768 \nL 264.814655 144.386351 \nL 266.644497 143.245742 \nL 267.864391 143.586498 \nL 268.474338 143.212095 \nL 269.084286 143.110748 \nL 269.694233 143.280011 \nL 270.914127 143.078709 \nL 271.524074 142.711335 \nL 272.134021 143.146598 \nL 272.743969 143.313266 \nL 273.353916 142.948433 \nL 273.963863 143.114695 \nL 275.183757 142.918436 \nL 275.793704 143.345561 \nL 276.403652 143.247323 \nL 277.013599 142.888966 \nL 278.84344 143.376924 \nL 279.453387 143.022284 \nL 280.063335 143.440622 \nL 280.673282 143.600341 \nL 281.283229 144.014705 \nL 281.893176 143.662255 \nL 282.503123 143.565883 \nL 283.11307 142.963249 \nL 286.772753 142.4077 \nL 287.382701 142.81398 \nL 287.992648 141.978695 \nL 288.602595 141.889542 \nL 289.212542 142.293916 \nL 289.822489 142.450255 \nL 290.432436 142.850925 \nL 291.042384 143.004913 \nL 292.872225 142.734235 \nL 293.482172 142.886884 \nL 294.092119 143.280011 \nL 294.702067 142.949136 \nL 295.921961 142.771356 \nL 296.531908 142.444429 \nL 297.141855 142.595442 \nL 297.751802 142.508168 \nL 298.36175 142.658235 \nL 298.971697 142.335012 \nL 299.581644 142.484727 \nL 300.191591 142.398656 \nL 301.411485 142.695464 \nL 302.021433 143.075938 \nL 302.63138 142.989231 \nL 303.241327 143.367015 \nL 304.461221 143.655117 \nL 305.071168 143.337572 \nL 305.681116 143.251298 \nL 306.291063 143.623647 \nL 306.90101 143.765603 \nL 307.510957 144.134775 \nL 308.120904 144.274744 \nL 308.730851 143.506808 \nL 309.950746 143.336423 \nL 310.560693 143.702094 \nL 311.17064 143.39228 \nL 311.780587 143.532006 \nL 312.390534 143.447597 \nL 313.000482 143.809389 \nL 314.220376 144.084068 \nL 314.830323 143.999132 \nL 315.44027 143.25242 \nL 316.050217 142.729517 \nL 316.660165 142.868148 \nL 317.880059 142.268975 \nL 318.490006 142.189622 \nL 319.099953 142.328212 \nL 319.7099 142.032066 \nL 320.319848 142.170358 \nL 320.929795 141.87601 \nL 322.149689 141.721428 \nL 322.759636 142.073621 \nL 323.369583 141.568306 \nL 323.979531 141.492292 \nL 324.589478 141.842539 \nL 325.199425 141.766241 \nL 325.809372 141.478328 \nL 326.419319 140.980285 \nL 327.029266 140.695535 \nL 328.249161 140.970011 \nL 329.469055 140.823878 \nL 330.079002 140.542765 \nL 330.688949 140.887158 \nL 331.298897 140.814794 \nL 331.908844 140.535627 \nL 333.128738 140.393455 \nL 333.738685 140.52857 \nL 334.348632 140.25258 \nL 334.95858 140.387412 \nL 336.788421 139.567809 \nL 337.398368 139.702965 \nL 338.618263 139.567349 \nL 339.22821 139.903199 \nL 339.838157 140.036408 \nL 340.448104 139.96833 \nL 341.058051 139.500001 \nL 341.667998 139.633224 \nL 343.49784 138.838292 \nL 344.107787 138.971799 \nL 345.937629 138.188074 \nL 346.547576 138.321824 \nL 347.157523 138.650928 \nL 348.987365 138.461725 \nL 350.207259 137.949232 \nL 352.0371 138.922173 \nL 352.647048 138.667123 \nL 353.256995 138.988548 \nL 353.866942 138.734431 \nL 355.086836 138.991766 \nL 355.696783 139.309811 \nL 356.916678 139.563132 \nL 357.526625 139.878001 \nL 358.136572 140.002964 \nL 358.746519 139.562739 \nL 359.356466 139.500001 \nL 359.966414 139.624964 \nL 360.576361 139.188255 \nL 361.186308 139.31334 \nL 362.406202 139.190174 \nL 363.016149 138.757926 \nL 363.626097 139.068009 \nL 364.236044 138.82253 \nL 364.845991 138.762441 \nL 365.455938 139.070632 \nL 366.065885 138.643006 \nL 366.675832 138.950183 \nL 367.28578 138.524518 \nL 367.895727 138.465646 \nL 368.505674 138.589163 \nL 369.115621 138.166782 \nL 369.725568 137.927521 \nL 369.725568 137.927521 \n\" clip-path=\"url(#pe9f306eb2d)\" style=\"fill: none; stroke: #d62728; stroke-width: 1.5; stroke-linecap: square\"/>\n   </g>\n   <g id=\"line2d_17\">\n    <path d=\"M 65.361932 109.260004 \nL 65.971879 18.54 \nL 66.581826 109.260004 \nL 67.191773 109.260004 \nL 67.80172 145.548008 \nL 68.411668 154.619999 \nL 69.021615 109.260004 \nL 69.631562 97.920002 \nL 70.241509 79.020007 \nL 70.851456 91.116009 \nL 72.071351 124.380002 \nL 72.681298 130.195386 \nL 73.291245 122.220003 \nL 74.511139 131.940008 \nL 75.121086 135.942354 \nL 75.731034 129.420002 \nL 76.340981 118.809476 \nL 76.950928 122.868004 \nL 77.560875 122.220003 \nL 78.170822 117.507282 \nL 79.390717 124.380002 \nL 80.610611 130.195386 \nL 81.220558 132.780011 \nL 82.440452 131.157932 \nL 83.0504 124.380002 \nL 83.660347 129.745172 \nL 84.270294 126.270001 \nL 84.880241 125.754547 \nL 86.100135 119.628011 \nL 86.710083 114.300004 \nL 87.32003 116.61568 \nL 87.929977 116.422111 \nL 88.539924 111.586158 \nL 89.759819 115.89806 \nL 90.369766 115.740003 \nL 91.58966 111.32182 \nL 92.199607 113.292009 \nL 93.419502 109.260004 \nL 94.029449 105.480008 \nL 94.639396 105.557143 \nL 95.249343 103.816807 \nL 95.85929 105.702357 \nL 96.469237 104.026165 \nL 97.079185 104.124917 \nL 97.689132 102.540014 \nL 98.299079 105.961098 \nL 98.909026 106.020011 \nL 99.518973 107.668423 \nL 100.12892 107.695865 \nL 100.738868 106.184759 \nL 101.348815 106.236007 \nL 101.958762 107.772798 \nL 103.788603 107.842512 \nL 104.398551 110.655704 \nL 106.228392 110.594128 \nL 106.838339 111.889577 \nL 107.448286 110.556007 \nL 108.058234 111.815496 \nL 109.278128 109.260004 \nL 109.888075 111.711905 \nL 110.498022 112.888811 \nL 111.107969 111.647369 \nL 111.717917 112.794548 \nL 112.937811 112.70507 \nL 114.767652 109.260004 \nL 115.3776 109.260004 \nL 116.597494 111.394589 \nL 117.207441 113.479535 \nL 118.427335 111.32182 \nL 119.037283 111.298663 \nL 119.64723 110.268012 \nL 120.257177 110.256927 \nL 121.477071 112.186453 \nL 122.087018 111.190219 \nL 123.91686 116.742063 \nL 124.526807 117.591434 \nL 125.136754 117.507282 \nL 125.746701 118.332009 \nL 126.356649 116.445755 \nL 126.966596 117.264709 \nL 127.576543 116.306219 \nL 128.18649 114.493856 \nL 128.796437 114.444001 \nL 129.406384 115.250951 \nL 130.016332 116.890657 \nL 130.626279 115.980008 \nL 131.236226 115.918351 \nL 131.846173 114.208376 \nL 133.066067 114.120007 \nL 133.676015 113.274165 \nL 134.285962 114.830531 \nL 134.895909 111.626618 \nL 135.505856 112.388281 \nL 136.115803 111.586158 \nL 136.72575 111.566448 \nL 137.335698 112.309416 \nL 137.945645 111.528002 \nL 138.555592 111.509265 \nL 139.165539 110.747223 \nL 140.995381 112.888811 \nL 141.605328 114.300004 \nL 142.825222 115.638751 \nL 143.435169 114.88605 \nL 144.045116 114.842778 \nL 145.265011 113.383636 \nL 145.874958 113.352639 \nL 147.094852 115.980008 \nL 147.704799 115.930598 \nL 148.314747 116.544087 \nL 148.924694 116.491312 \nL 150.144588 117.684007 \nL 150.754535 118.911066 \nL 151.364482 117.565357 \nL 151.97443 118.776086 \nL 152.584377 118.710008 \nL 153.194324 119.270492 \nL 153.804271 118.580557 \nL 155.024165 119.680543 \nL 155.634113 119.610613 \nL 156.24406 118.332009 \nL 156.854007 118.271933 \nL 157.463954 119.406324 \nL 158.683848 119.274547 \nL 159.293796 118.624653 \nL 159.903743 119.727695 \nL 160.51369 120.238864 \nL 161.123637 121.317722 \nL 161.733584 120.671329 \nL 162.953479 120.529576 \nL 163.563426 121.580004 \nL 164.173373 120.391297 \nL 164.78332 121.429762 \nL 165.393267 121.905823 \nL 166.003214 121.283142 \nL 167.223109 121.14001 \nL 168.443003 123.134829 \nL 169.05295 123.053692 \nL 169.662897 123.500932 \nL 170.272845 122.89423 \nL 170.882792 123.858627 \nL 171.492739 124.293607 \nL 172.102686 125.239093 \nL 172.712633 124.636283 \nL 173.32258 125.059556 \nL 173.932528 125.984926 \nL 174.542475 125.38801 \nL 175.152422 124.296473 \nL 175.762369 124.71231 \nL 176.372316 123.6364 \nL 176.982263 123.558264 \nL 178.202158 125.355485 \nL 179.422052 126.149363 \nL 180.031999 127.020011 \nL 180.641946 126.449064 \nL 181.861841 127.215 \nL 183.691682 126.93878 \nL 184.301629 126.385718 \nL 184.911577 126.759297 \nL 185.521524 126.212737 \nL 186.741418 126.043204 \nL 187.351365 126.411051 \nL 187.961312 125.877036 \nL 188.57126 125.795183 \nL 189.181207 126.158826 \nL 189.791154 125.191319 \nL 190.401101 125.994767 \nL 191.011048 125.913914 \nL 192.230943 126.62268 \nL 192.84089 127.403999 \nL 193.450837 127.318009 \nL 195.890626 128.66987 \nL 196.500573 128.58 \nL 197.720467 130.067341 \nL 198.330414 128.729594 \nL 198.940361 129.465829 \nL 199.550309 129.784889 \nL 200.770203 127.973554 \nL 201.38015 128.295006 \nL 201.990097 129.016804 \nL 203.209992 129.642027 \nL 203.819939 128.756847 \nL 205.039833 129.376176 \nL 205.64978 130.074546 \nL 206.259727 129.984838 \nL 207.479622 131.358463 \nL 208.089569 131.26443 \nL 208.699516 130.402379 \nL 209.309463 130.695957 \nL 209.91941 130.605884 \nL 210.529358 130.89615 \nL 211.139305 130.42801 \nL 211.749252 130.340168 \nL 212.359199 131.002809 \nL 213.579093 130.824597 \nL 214.189041 129.996005 \nL 214.798988 130.280498 \nL 215.408935 130.195386 \nL 216.018882 129.745172 \nL 216.628829 129.662899 \nL 217.238776 128.85553 \nL 217.848724 128.777462 \nL 218.458671 129.420002 \nL 219.068618 128.623164 \nL 219.678565 129.26127 \nL 221.508407 129.027795 \nL 222.118354 128.247908 \nL 222.728301 127.824325 \nL 224.558142 129.689314 \nL 225.778037 128.847284 \nL 226.997931 129.38211 \nL 227.607878 128.287423 \nL 228.827773 128.145953 \nL 229.43772 128.748006 \nL 230.047667 129.010856 \nL 231.267561 127.536925 \nL 231.877508 128.132421 \nL 232.487456 128.063789 \nL 233.097403 128.324355 \nL 233.70735 128.255533 \nL 234.317297 128.839863 \nL 234.927244 129.094845 \nL 235.537191 128.700002 \nL 236.147139 128.630829 \nL 236.757086 128.883838 \nL 237.367033 129.455623 \nL 237.97698 129.384516 \nL 238.586927 129.950529 \nL 239.806822 130.438541 \nL 240.416769 130.365001 \nL 242.24661 129.212171 \nL 242.856557 129.143836 \nL 243.466505 128.76635 \nL 244.076452 128.700002 \nL 244.686399 128.941629 \nL 245.296346 128.875146 \nL 245.906293 128.503648 \nL 246.51624 128.439071 \nL 247.126188 128.071508 \nL 248.346082 129.152096 \nL 249.565976 129.619614 \nL 250.175923 128.955796 \nL 251.395818 128.23412 \nL 252.005765 127.581306 \nL 253.225659 126.875541 \nL 253.835606 126.81871 \nL 254.445554 126.470559 \nL 255.055501 126.41539 \nL 257.495289 127.346587 \nL 259.325131 126.32333 \nL 259.935078 126.553507 \nL 261.154972 125.882619 \nL 262.984814 125.729173 \nL 263.594761 126.235218 \nL 264.204708 126.460744 \nL 264.814655 126.408293 \nL 265.424603 126.631927 \nL 266.644497 125.978802 \nL 267.254444 125.928446 \nL 267.864391 125.605953 \nL 268.474338 125.557017 \nL 269.084286 125.237565 \nL 269.694233 125.190007 \nL 270.30418 125.681128 \nL 270.914127 125.632557 \nL 271.524074 125.851865 \nL 272.134021 125.269414 \nL 273.353916 125.1758 \nL 273.963863 125.658377 \nL 274.57381 125.610698 \nL 277.623546 126.676172 \nL 281.283229 126.381811 \nL 282.503123 127.302355 \nL 283.11307 127.505373 \nL 283.723018 127.201846 \nL 284.332965 127.152004 \nL 284.942912 127.605044 \nL 286.162806 128.003808 \nL 286.772753 127.952317 \nL 288.602595 128.541094 \nL 289.212542 127.749136 \nL 290.432436 127.649195 \nL 291.042384 127.355104 \nL 291.652331 127.306451 \nL 292.262278 127.501291 \nL 292.872225 127.937649 \nL 293.482172 128.129772 \nL 294.092119 127.838303 \nL 295.312014 128.220007 \nL 295.921961 127.930606 \nL 297.141855 128.785046 \nL 297.751802 128.971423 \nL 298.36175 128.919959 \nL 298.971697 129.341258 \nL 299.581644 128.817828 \nL 300.191591 128.767161 \nL 300.801538 128.951173 \nL 301.411485 128.666598 \nL 302.021433 128.616716 \nL 302.63138 128.7997 \nL 303.241327 128.749722 \nL 304.461221 129.112217 \nL 305.071168 129.522336 \nL 306.291063 129.420002 \nL 306.90101 128.912199 \nL 307.510957 129.318696 \nL 308.120904 129.268421 \nL 308.730851 128.991606 \nL 309.340799 128.942399 \nL 311.17064 129.469912 \nL 311.780587 129.420002 \nL 312.390534 129.593794 \nL 313.000482 129.32094 \nL 313.610429 129.271773 \nL 315.44027 130.450085 \nL 316.050217 130.618835 \nL 316.660165 130.347468 \nL 317.880059 130.245837 \nL 319.099953 130.580294 \nL 319.7099 130.312252 \nL 320.319848 130.478528 \nL 320.929795 130.860002 \nL 321.539742 131.024182 \nL 322.149689 130.542659 \nL 322.759636 130.277875 \nL 323.979531 130.178975 \nL 324.589478 129.490987 \nL 325.199425 129.868527 \nL 325.809372 130.032342 \nL 326.419319 130.406854 \nL 327.639214 130.308724 \nL 328.249161 130.470011 \nL 328.859108 130.421021 \nL 329.469055 130.790328 \nL 330.079002 130.949385 \nL 330.688949 130.691563 \nL 331.298897 130.85012 \nL 332.518791 130.751761 \nL 333.128738 131.115282 \nL 333.738685 131.065724 \nL 334.95858 131.376848 \nL 336.178474 131.277448 \nL 336.788421 131.6349 \nL 338.008315 131.534999 \nL 339.22821 132.2424 \nL 340.448104 131.739302 \nL 341.058051 132.090211 \nL 341.667998 131.840094 \nL 342.887893 131.741059 \nL 343.49784 131.890383 \nL 344.717734 131.791766 \nL 346.547576 131.056369 \nL 347.157523 130.225532 \nL 347.76747 130.571385 \nL 348.987365 130.869275 \nL 349.597312 130.434485 \nL 350.207259 130.776932 \nL 350.817206 130.537617 \nL 354.476889 131.414781 \nL 355.086836 131.177656 \nL 355.696783 131.131707 \nL 356.306731 130.89615 \nL 356.916678 130.093404 \nL 357.526625 129.861011 \nL 358.136572 129.818171 \nL 359.966414 130.253069 \nL 361.186308 130.166674 \nL 361.796255 130.310022 \nL 363.626097 129.625724 \nL 364.845991 129.911718 \nL 365.455938 129.869824 \nL 366.065885 129.64446 \nL 366.675832 129.786552 \nL 367.28578 130.110978 \nL 368.505674 130.027232 \nL 369.725568 130.669921 \nL 369.725568 130.669921 \n\" clip-path=\"url(#pe9f306eb2d)\" style=\"fill: none; stroke: #9467bd; stroke-width: 1.5; stroke-linecap: square\"/>\n   </g>\n   <g id=\"line2d_18\">\n    <path d=\"M 65.361932 199.980001 \nL 65.971879 154.619999 \nL 66.581826 139.500001 \nL 67.191773 177.300004 \nL 67.80172 181.836006 \nL 68.411668 169.739998 \nL 69.021615 187.020003 \nL 69.631562 188.640006 \nL 70.241509 199.980001 \nL 71.461403 199.980001 \nL 72.681298 186.02308 \nL 73.291245 180.540003 \nL 73.901192 169.739998 \nL 74.511139 154.619999 \nL 75.121086 135.942354 \nL 76.340981 133.133691 \nL 76.950928 141.011999 \nL 77.560875 135.180001 \nL 78.780769 117.148708 \nL 79.390717 116.82001 \nL 80.610611 123.216926 \nL 81.220558 122.700012 \nL 81.830505 115.740003 \nL 82.440452 121.773114 \nL 83.660347 126.81871 \nL 85.490188 125.269414 \nL 86.100135 129.996005 \nL 86.710083 126.900009 \nL 88.539924 132.52154 \nL 89.149871 129.672011 \nL 89.759819 129.174158 \nL 90.369766 126.540002 \nL 90.979713 128.247908 \nL 91.58966 131.940008 \nL 92.199607 131.436004 \nL 93.419502 134.352774 \nL 94.029449 137.610003 \nL 94.639396 138.882862 \nL 95.249343 141.919201 \nL 95.85929 143.057648 \nL 96.469237 138.918469 \nL 97.079185 138.358878 \nL 98.299079 140.599636 \nL 99.518973 139.500001 \nL 100.12892 135.850348 \nL 100.738868 135.399661 \nL 102.568709 138.524518 \nL 103.178656 138.060001 \nL 103.788603 140.445 \nL 104.398551 139.965234 \nL 105.008498 138.125457 \nL 105.618445 140.402688 \nL 106.838339 136.870442 \nL 107.448286 136.476004 \nL 109.278128 142.81398 \nL 109.888075 143.586498 \nL 110.498022 145.548008 \nL 112.327864 144.152308 \nL 113.547758 147.816006 \nL 114.157705 147.339999 \nL 115.3776 148.608437 \nL 115.987547 150.3 \nL 116.597494 147.682594 \nL 117.207441 148.290702 \nL 117.817388 147.842069 \nL 119.037283 149.013717 \nL 119.64723 150.588008 \nL 120.257177 151.130769 \nL 120.867124 150.675661 \nL 121.477071 152.181292 \nL 122.087018 151.724683 \nL 122.696966 152.232635 \nL 123.306913 150.840003 \nL 123.91686 151.346603 \nL 124.526807 149.99143 \nL 125.136754 151.412734 \nL 125.746701 151.898407 \nL 126.356649 153.272681 \nL 126.966596 151.951764 \nL 127.576543 151.537292 \nL 128.18649 152.00308 \nL 128.796437 149.004011 \nL 129.406384 150.340758 \nL 130.016332 149.956823 \nL 130.626279 150.420002 \nL 131.236226 150.042394 \nL 133.066067 151.380006 \nL 133.676015 152.612919 \nL 134.285962 152.232635 \nL 134.895909 153.436699 \nL 135.505856 153.055861 \nL 136.115803 154.232307 \nL 137.945645 153.108001 \nL 138.555592 153.495382 \nL 140.385433 152.425163 \nL 140.995381 151.354078 \nL 141.605328 151.02 \nL 142.215275 149.976858 \nL 142.825222 149.658758 \nL 143.435169 150.752093 \nL 144.045116 149.735082 \nL 147.094852 154.956011 \nL 147.704799 155.287061 \nL 148.314747 154.288908 \nL 148.924694 153.962616 \nL 149.534641 154.29368 \nL 151.364482 151.425644 \nL 151.97443 151.765184 \nL 152.584377 150.840003 \nL 153.804271 150.270422 \nL 154.414218 150.608583 \nL 155.024165 149.716224 \nL 155.634113 149.444708 \nL 156.24406 149.781599 \nL 156.854007 150.714837 \nL 159.293796 151.986196 \nL 160.51369 150.286252 \nL 161.733584 149.770189 \nL 162.343531 150.651003 \nL 162.953479 150.393912 \nL 163.563426 150.700007 \nL 164.173373 150.445768 \nL 164.78332 149.088298 \nL 165.393267 148.297097 \nL 168.443003 149.817179 \nL 169.05295 149.58 \nL 169.662897 150.400468 \nL 170.272845 150.687057 \nL 171.492739 149.176802 \nL 173.932528 148.284808 \nL 175.152422 148.856026 \nL 175.762369 148.638461 \nL 176.372316 149.414765 \nL 176.982263 149.689566 \nL 177.592211 148.490274 \nL 180.031999 149.58 \nL 180.641946 150.322738 \nL 181.251894 148.682829 \nL 181.861841 148.005006 \nL 182.471788 147.804259 \nL 183.081735 147.13794 \nL 183.691682 147.874162 \nL 184.911577 147.48213 \nL 185.521524 146.830912 \nL 187.351365 147.624181 \nL 188.57126 147.246208 \nL 189.181207 147.949419 \nL 189.791154 147.760689 \nL 190.401101 148.014185 \nL 191.620995 147.641539 \nL 192.230943 147.023832 \nL 192.84089 146.844011 \nL 194.060784 145.633593 \nL 194.670731 145.888738 \nL 195.280678 145.293647 \nL 195.890626 145.969956 \nL 196.500573 145.380003 \nL 197.720467 145.880924 \nL 198.330414 146.542201 \nL 198.940361 145.960372 \nL 199.550309 145.794299 \nL 200.160256 146.038386 \nL 200.770203 146.68709 \nL 201.38015 146.520004 \nL 201.990097 145.548008 \nL 205.039833 146.731309 \nL 205.64978 146.176368 \nL 206.259727 146.408275 \nL 206.869675 145.859484 \nL 207.479622 146.090769 \nL 208.089569 145.934051 \nL 208.699516 145.394237 \nL 209.91941 146.615294 \nL 210.529358 146.838577 \nL 211.139305 146.304008 \nL 214.189041 147.399439 \nL 216.018882 145.840653 \nL 216.628829 146.058082 \nL 217.238776 145.910881 \nL 218.458671 147.060007 \nL 219.678565 146.762374 \nL 220.288512 146.259532 \nL 221.508407 145.971605 \nL 222.118354 146.180937 \nL 222.728301 146.038386 \nL 223.338248 144.50123 \nL 223.948195 143.671042 \nL 224.558142 143.885956 \nL 226.997931 146.093689 \nL 228.217825 146.495819 \nL 228.827773 146.02015 \nL 230.047667 145.748864 \nL 230.657614 145.281184 \nL 231.877508 145.018252 \nL 232.487456 145.218121 \nL 233.097403 145.087831 \nL 233.70735 145.285996 \nL 234.317297 145.156409 \nL 234.927244 144.052259 \nL 236.757086 144.647241 \nL 237.367033 144.522197 \nL 237.97698 145.036907 \nL 238.586927 144.59306 \nL 239.196874 144.469516 \nL 239.806822 144.662936 \nL 240.416769 145.170009 \nL 241.026716 145.045748 \nL 241.636663 145.548008 \nL 242.24661 145.423302 \nL 242.856557 145.610139 \nL 243.466505 145.176457 \nL 244.076452 145.054292 \nL 244.686399 144.625423 \nL 246.51624 145.182689 \nL 247.126188 145.062552 \nL 247.736135 144.338401 \nL 248.346082 143.920469 \nL 248.956029 142.904512 \nL 250.175923 142.683163 \nL 250.785871 142.276139 \nL 252.005765 142.652057 \nL 252.615712 143.132728 \nL 255.665448 144.040836 \nL 256.275395 143.641153 \nL 256.885342 144.108009 \nL 258.715184 143.779256 \nL 259.325131 143.955427 \nL 259.935078 144.41401 \nL 260.545025 144.304497 \nL 261.154972 143.632177 \nL 262.984814 143.314901 \nL 264.204708 143.661471 \nL 265.424603 143.452342 \nL 266.03455 143.898555 \nL 267.864391 144.40379 \nL 268.474338 144.298563 \nL 269.694233 144.630005 \nL 270.914127 143.883915 \nL 271.524074 144.317002 \nL 272.743969 144.111388 \nL 273.353916 144.54 \nL 273.963863 144.172653 \nL 275.183757 144.496174 \nL 275.793704 144.39434 \nL 276.403652 144.815977 \nL 277.623546 145.132103 \nL 278.233493 145.029607 \nL 280.673282 145.650518 \nL 282.503123 145.344706 \nL 283.11307 145.497328 \nL 283.723018 145.396387 \nL 284.942912 145.698792 \nL 285.552859 145.598121 \nL 286.162806 145.248104 \nL 288.602595 145.844641 \nL 289.212542 145.745227 \nL 289.822489 145.154638 \nL 291.652331 145.596783 \nL 292.262278 145.256148 \nL 292.872225 144.674765 \nL 294.092119 144.003836 \nL 294.702067 144.152308 \nL 295.312014 144.060005 \nL 295.921961 143.728819 \nL 296.531908 143.876845 \nL 297.141855 143.785988 \nL 297.751802 144.170585 \nL 298.971697 143.516257 \nL 300.801538 143.953954 \nL 301.411485 143.63073 \nL 302.021433 143.075938 \nL 302.63138 142.989231 \nL 303.241327 142.670956 \nL 303.851274 142.585723 \nL 305.071168 143.337572 \nL 306.291063 143.623647 \nL 306.90101 143.537089 \nL 307.510957 143.906842 \nL 308.120904 144.047379 \nL 309.340799 144.778802 \nL 309.950746 144.690459 \nL 311.17064 145.413271 \nL 311.780587 145.32401 \nL 312.390534 145.68207 \nL 313.610429 145.948246 \nL 314.220376 145.636729 \nL 314.830323 145.105472 \nL 315.44027 144.797525 \nL 319.099953 145.59151 \nL 319.7099 145.938661 \nL 320.319848 145.634607 \nL 320.929795 145.548008 \nL 321.539742 145.89278 \nL 322.149689 145.590997 \nL 322.759636 145.505115 \nL 323.369583 145.847548 \nL 324.589478 145.675784 \nL 325.199425 145.378042 \nL 325.809372 145.717569 \nL 326.419319 145.84406 \nL 327.639214 145.253322 \nL 328.249161 144.750008 \nL 329.469055 144.168395 \nL 330.079002 144.505245 \nL 330.688949 144.632479 \nL 331.298897 144.343944 \nL 333.128738 144.723282 \nL 333.738685 145.054292 \nL 334.348632 144.973303 \nL 334.95858 144.687904 \nL 336.178474 144.528686 \nL 337.398368 143.964971 \nL 338.008315 144.090002 \nL 338.618263 144.416537 \nL 339.22821 144.136803 \nL 339.838157 143.657172 \nL 340.448104 143.781771 \nL 341.058051 143.705568 \nL 342.887893 144.672642 \nL 344.717734 145.034122 \nL 345.327681 145.350789 \nL 345.937629 145.272505 \nL 347.157523 145.900702 \nL 347.76747 145.626212 \nL 348.377417 145.548008 \nL 348.987365 145.664807 \nL 349.597312 145.975377 \nL 351.427153 146.320094 \nL 352.0371 146.048795 \nL 353.256995 146.276836 \nL 353.866942 146.007348 \nL 354.476889 145.929982 \nL 356.916678 146.381346 \nL 357.526625 146.682007 \nL 358.136572 146.415601 \nL 359.356466 146.261749 \nL 359.966414 145.997858 \nL 360.576361 145.922115 \nL 361.796255 145.398982 \nL 363.016149 145.251173 \nL 364.845991 145.584886 \nL 365.455938 145.511198 \nL 366.065885 145.621467 \nL 366.675832 145.548008 \nL 367.28578 145.65775 \nL 368.505674 145.14723 \nL 369.115621 145.257121 \nL 369.725568 145.003679 \nL 369.725568 145.003679 \n\" clip-path=\"url(#pe9f306eb2d)\" style=\"fill: none; stroke: #8c564b; stroke-width: 1.5; stroke-linecap: square\"/>\n   </g>\n   <g id=\"line2d_19\">\n    <path d=\"M 50.14375 139.197605 \nL 384.94375 139.197605 \n\" clip-path=\"url(#pe9f306eb2d)\" style=\"fill: none; stroke-dasharray: 5.55,2.4; stroke-dashoffset: 0; stroke: #000000; stroke-width: 1.5\"/>\n   </g>\n   <g id=\"patch_3\">\n    <path d=\"M 50.14375 256.68 \nL 50.14375 7.2 \n\" style=\"fill: none; stroke: #000000; stroke-width: 0.8; stroke-linejoin: miter; stroke-linecap: square\"/>\n   </g>\n   <g id=\"patch_4\">\n    <path d=\"M 384.94375 256.68 \nL 384.94375 7.2 \n\" style=\"fill: none; stroke: #000000; stroke-width: 0.8; stroke-linejoin: miter; stroke-linecap: square\"/>\n   </g>\n   <g id=\"patch_5\">\n    <path d=\"M 50.14375 256.68 \nL 384.94375 256.68 \n\" style=\"fill: none; stroke: #000000; stroke-width: 0.8; stroke-linejoin: miter; stroke-linecap: square\"/>\n   </g>\n   <g id=\"patch_6\">\n    <path d=\"M 50.14375 7.2 \nL 384.94375 7.2 \n\" style=\"fill: none; stroke: #000000; stroke-width: 0.8; stroke-linejoin: miter; stroke-linecap: square\"/>\n   </g>\n   <g id=\"legend_1\">\n    <g id=\"patch_7\">\n     <path d=\"M 302.089063 103.26875 \nL 377.94375 103.26875 \nQ 379.94375 103.26875 379.94375 101.26875 \nL 379.94375 14.2 \nQ 379.94375 12.2 377.94375 12.2 \nL 302.089063 12.2 \nQ 300.089063 12.2 300.089063 14.2 \nL 300.089063 101.26875 \nQ 300.089063 103.26875 302.089063 103.26875 \nz\n\" style=\"fill: #ffffff; opacity: 0.8; stroke: #cccccc; stroke-linejoin: miter\"/>\n    </g>\n    <g id=\"line2d_20\">\n     <path d=\"M 304.089063 20.298437 \nL 314.089063 20.298437 \nL 324.089063 20.298437 \n\" style=\"fill: none; stroke: #1f77b4; stroke-width: 1.5; stroke-linecap: square\"/>\n    </g>\n    <g id=\"text_15\">\n     <!-- P(die=1) -->\n     <g transform=\"translate(332.089063 23.798437)scale(0.1 -0.1)\">\n      <defs>\n       <path id=\"DejaVuSans-50\" d=\"M 1259 4147 \nL 1259 2394 \nL 2053 2394 \nQ 2494 2394 2734 2622 \nQ 2975 2850 2975 3272 \nQ 2975 3691 2734 3919 \nQ 2494 4147 2053 4147 \nL 1259 4147 \nz\nM 628 4666 \nL 2053 4666 \nQ 2838 4666 3239 4311 \nQ 3641 3956 3641 3272 \nQ 3641 2581 3239 2228 \nQ 2838 1875 2053 1875 \nL 1259 1875 \nL 1259 0 \nL 628 0 \nL 628 4666 \nz\n\" transform=\"scale(0.015625)\"/>\n       <path id=\"DejaVuSans-28\" d=\"M 1984 4856 \nQ 1566 4138 1362 3434 \nQ 1159 2731 1159 2009 \nQ 1159 1288 1364 580 \nQ 1569 -128 1984 -844 \nL 1484 -844 \nQ 1016 -109 783 600 \nQ 550 1309 550 2009 \nQ 550 2706 781 3412 \nQ 1013 4119 1484 4856 \nL 1984 4856 \nz\n\" transform=\"scale(0.015625)\"/>\n       <path id=\"DejaVuSans-3d\" d=\"M 678 2906 \nL 4684 2906 \nL 4684 2381 \nL 678 2381 \nL 678 2906 \nz\nM 678 1631 \nL 4684 1631 \nL 4684 1100 \nL 678 1100 \nL 678 1631 \nz\n\" transform=\"scale(0.015625)\"/>\n       <path id=\"DejaVuSans-29\" d=\"M 513 4856 \nL 1013 4856 \nQ 1481 4119 1714 3412 \nQ 1947 2706 1947 2009 \nQ 1947 1309 1714 600 \nQ 1481 -109 1013 -844 \nL 513 -844 \nQ 928 -128 1133 580 \nQ 1338 1288 1338 2009 \nQ 1338 2731 1133 3434 \nQ 928 4138 513 4856 \nz\n\" transform=\"scale(0.015625)\"/>\n      </defs>\n      <use xlink:href=\"#DejaVuSans-50\"/>\n      <use xlink:href=\"#DejaVuSans-28\" x=\"60.302734\"/>\n      <use xlink:href=\"#DejaVuSans-64\" x=\"99.316406\"/>\n      <use xlink:href=\"#DejaVuSans-69\" x=\"162.792969\"/>\n      <use xlink:href=\"#DejaVuSans-65\" x=\"190.576172\"/>\n      <use xlink:href=\"#DejaVuSans-3d\" x=\"252.099609\"/>\n      <use xlink:href=\"#DejaVuSans-31\" x=\"335.888672\"/>\n      <use xlink:href=\"#DejaVuSans-29\" x=\"399.511719\"/>\n     </g>\n    </g>\n    <g id=\"line2d_21\">\n     <path d=\"M 304.089063 34.976562 \nL 314.089063 34.976562 \nL 324.089063 34.976562 \n\" style=\"fill: none; stroke: #ff7f0e; stroke-width: 1.5; stroke-linecap: square\"/>\n    </g>\n    <g id=\"text_16\">\n     <!-- P(die=2) -->\n     <g transform=\"translate(332.089063 38.476562)scale(0.1 -0.1)\">\n      <use xlink:href=\"#DejaVuSans-50\"/>\n      <use xlink:href=\"#DejaVuSans-28\" x=\"60.302734\"/>\n      <use xlink:href=\"#DejaVuSans-64\" x=\"99.316406\"/>\n      <use xlink:href=\"#DejaVuSans-69\" x=\"162.792969\"/>\n      <use xlink:href=\"#DejaVuSans-65\" x=\"190.576172\"/>\n      <use xlink:href=\"#DejaVuSans-3d\" x=\"252.099609\"/>\n      <use xlink:href=\"#DejaVuSans-32\" x=\"335.888672\"/>\n      <use xlink:href=\"#DejaVuSans-29\" x=\"399.511719\"/>\n     </g>\n    </g>\n    <g id=\"line2d_22\">\n     <path d=\"M 304.089063 49.654687 \nL 314.089063 49.654687 \nL 324.089063 49.654687 \n\" style=\"fill: none; stroke: #2ca02c; stroke-width: 1.5; stroke-linecap: square\"/>\n    </g>\n    <g id=\"text_17\">\n     <!-- P(die=3) -->\n     <g transform=\"translate(332.089063 53.154687)scale(0.1 -0.1)\">\n      <use xlink:href=\"#DejaVuSans-50\"/>\n      <use xlink:href=\"#DejaVuSans-28\" x=\"60.302734\"/>\n      <use xlink:href=\"#DejaVuSans-64\" x=\"99.316406\"/>\n      <use xlink:href=\"#DejaVuSans-69\" x=\"162.792969\"/>\n      <use xlink:href=\"#DejaVuSans-65\" x=\"190.576172\"/>\n      <use xlink:href=\"#DejaVuSans-3d\" x=\"252.099609\"/>\n      <use xlink:href=\"#DejaVuSans-33\" x=\"335.888672\"/>\n      <use xlink:href=\"#DejaVuSans-29\" x=\"399.511719\"/>\n     </g>\n    </g>\n    <g id=\"line2d_23\">\n     <path d=\"M 304.089063 64.332812 \nL 314.089063 64.332812 \nL 324.089063 64.332812 \n\" style=\"fill: none; stroke: #d62728; stroke-width: 1.5; stroke-linecap: square\"/>\n    </g>\n    <g id=\"text_18\">\n     <!-- P(die=4) -->\n     <g transform=\"translate(332.089063 67.832812)scale(0.1 -0.1)\">\n      <use xlink:href=\"#DejaVuSans-50\"/>\n      <use xlink:href=\"#DejaVuSans-28\" x=\"60.302734\"/>\n      <use xlink:href=\"#DejaVuSans-64\" x=\"99.316406\"/>\n      <use xlink:href=\"#DejaVuSans-69\" x=\"162.792969\"/>\n      <use xlink:href=\"#DejaVuSans-65\" x=\"190.576172\"/>\n      <use xlink:href=\"#DejaVuSans-3d\" x=\"252.099609\"/>\n      <use xlink:href=\"#DejaVuSans-34\" x=\"335.888672\"/>\n      <use xlink:href=\"#DejaVuSans-29\" x=\"399.511719\"/>\n     </g>\n    </g>\n    <g id=\"line2d_24\">\n     <path d=\"M 304.089063 79.010937 \nL 314.089063 79.010937 \nL 324.089063 79.010937 \n\" style=\"fill: none; stroke: #9467bd; stroke-width: 1.5; stroke-linecap: square\"/>\n    </g>\n    <g id=\"text_19\">\n     <!-- P(die=5) -->\n     <g transform=\"translate(332.089063 82.510937)scale(0.1 -0.1)\">\n      <use xlink:href=\"#DejaVuSans-50\"/>\n      <use xlink:href=\"#DejaVuSans-28\" x=\"60.302734\"/>\n      <use xlink:href=\"#DejaVuSans-64\" x=\"99.316406\"/>\n      <use xlink:href=\"#DejaVuSans-69\" x=\"162.792969\"/>\n      <use xlink:href=\"#DejaVuSans-65\" x=\"190.576172\"/>\n      <use xlink:href=\"#DejaVuSans-3d\" x=\"252.099609\"/>\n      <use xlink:href=\"#DejaVuSans-35\" x=\"335.888672\"/>\n      <use xlink:href=\"#DejaVuSans-29\" x=\"399.511719\"/>\n     </g>\n    </g>\n    <g id=\"line2d_25\">\n     <path d=\"M 304.089063 93.689062 \nL 314.089063 93.689062 \nL 324.089063 93.689062 \n\" style=\"fill: none; stroke: #8c564b; stroke-width: 1.5; stroke-linecap: square\"/>\n    </g>\n    <g id=\"text_20\">\n     <!-- P(die=6) -->\n     <g transform=\"translate(332.089063 97.189062)scale(0.1 -0.1)\">\n      <defs>\n       <path id=\"DejaVuSans-36\" d=\"M 2113 2584 \nQ 1688 2584 1439 2293 \nQ 1191 2003 1191 1497 \nQ 1191 994 1439 701 \nQ 1688 409 2113 409 \nQ 2538 409 2786 701 \nQ 3034 994 3034 1497 \nQ 3034 2003 2786 2293 \nQ 2538 2584 2113 2584 \nz\nM 3366 4563 \nL 3366 3988 \nQ 3128 4100 2886 4159 \nQ 2644 4219 2406 4219 \nQ 1781 4219 1451 3797 \nQ 1122 3375 1075 2522 \nQ 1259 2794 1537 2939 \nQ 1816 3084 2150 3084 \nQ 2853 3084 3261 2657 \nQ 3669 2231 3669 1497 \nQ 3669 778 3244 343 \nQ 2819 -91 2113 -91 \nQ 1303 -91 875 529 \nQ 447 1150 447 2328 \nQ 447 3434 972 4092 \nQ 1497 4750 2381 4750 \nQ 2619 4750 2861 4703 \nQ 3103 4656 3366 4563 \nz\n\" transform=\"scale(0.015625)\"/>\n      </defs>\n      <use xlink:href=\"#DejaVuSans-50\"/>\n      <use xlink:href=\"#DejaVuSans-28\" x=\"60.302734\"/>\n      <use xlink:href=\"#DejaVuSans-64\" x=\"99.316406\"/>\n      <use xlink:href=\"#DejaVuSans-69\" x=\"162.792969\"/>\n      <use xlink:href=\"#DejaVuSans-65\" x=\"190.576172\"/>\n      <use xlink:href=\"#DejaVuSans-3d\" x=\"252.099609\"/>\n      <use xlink:href=\"#DejaVuSans-36\" x=\"335.888672\"/>\n      <use xlink:href=\"#DejaVuSans-29\" x=\"399.511719\"/>\n     </g>\n    </g>\n   </g>\n  </g>\n </g>\n <defs>\n  <clipPath id=\"pe9f306eb2d\">\n   <rect x=\"50.14375\" y=\"7.2\" width=\"334.8\" height=\"249.48\"/>\n  </clipPath>\n </defs>\n</svg>\n",
      "text/plain": [
       "<Figure size 600x450 with 1 Axes>"
      ]
     },
     "metadata": {},
     "output_type": "display_data"
    }
   ],
   "source": [
    "#进行500组实验，每组抽取10个样本\n",
    "\n",
    "counts = multinomial.Multinomial(10, fair_probs).sample((500,))\n",
    "cum_counts = counts.cumsum(dim=0)\n",
    "estimates = cum_counts / cum_counts.sum(dim=1, keepdims=True)\n",
    "\n",
    "d2l.set_figsize((6, 4.5))\n",
    "for i in range(6):\n",
    "    d2l.plt.plot(estimates[:, i].numpy(),\n",
    "                 label=(\"P(die=\" + str(i + 1) + \")\"))\n",
    "d2l.plt.axhline(y=0.167, color='black', linestyle='dashed')\n",
    "d2l.plt.gca().set_xlabel('Groups of experiments')\n",
    "d2l.plt.gca().set_ylabel('Estimated probability')\n",
    "d2l.plt.legend();"
   ]
  },
  {
   "cell_type": "code",
   "execution_count": null,
   "metadata": {},
   "outputs": [
    {
     "name": "stdout",
     "output_type": "stream",
     "text": [
      "['AbsTransform', 'AffineTransform', 'Bernoulli', 'Beta', 'Binomial', 'CatTransform', 'Categorical', 'Cauchy', 'Chi2', 'ComposeTransform', 'ContinuousBernoulli', 'CorrCholeskyTransform', 'CumulativeDistributionTransform', 'Dirichlet', 'Distribution', 'ExpTransform', 'Exponential', 'ExponentialFamily', 'FisherSnedecor', 'Gamma', 'Geometric', 'Gumbel', 'HalfCauchy', 'HalfNormal', 'Independent', 'IndependentTransform', 'Kumaraswamy', 'LKJCholesky', 'Laplace', 'LogNormal', 'LogisticNormal', 'LowRankMultivariateNormal', 'LowerCholeskyTransform', 'MixtureSameFamily', 'Multinomial', 'MultivariateNormal', 'NegativeBinomial', 'Normal', 'OneHotCategorical', 'OneHotCategoricalStraightThrough', 'Pareto', 'Poisson', 'PowerTransform', 'RelaxedBernoulli', 'RelaxedOneHotCategorical', 'ReshapeTransform', 'SigmoidTransform', 'SoftmaxTransform', 'SoftplusTransform', 'StackTransform', 'StickBreakingTransform', 'StudentT', 'TanhTransform', 'Transform', 'TransformedDistribution', 'Uniform', 'VonMises', 'Weibull', 'Wishart', '__all__', '__builtins__', '__cached__', '__doc__', '__file__', '__loader__', '__name__', '__package__', '__path__', '__spec__', 'bernoulli', 'beta', 'biject_to', 'binomial', 'categorical', 'cauchy', 'chi2', 'constraint_registry', 'constraints', 'continuous_bernoulli', 'dirichlet', 'distribution', 'exp_family', 'exponential', 'fishersnedecor', 'gamma', 'geometric', 'gumbel', 'half_cauchy', 'half_normal', 'identity_transform', 'independent', 'kl', 'kl_divergence', 'kumaraswamy', 'laplace', 'lkj_cholesky', 'log_normal', 'logistic_normal', 'lowrank_multivariate_normal', 'mixture_same_family', 'multinomial', 'multivariate_normal', 'negative_binomial', 'normal', 'one_hot_categorical', 'pareto', 'poisson', 'register_kl', 'relaxed_bernoulli', 'relaxed_categorical', 'studentT', 'transform_to', 'transformed_distribution', 'transforms', 'uniform', 'utils', 'von_mises', 'weibull', 'wishart']\n"
     ]
    }
   ],
   "source": [
    "#查找模块中的所有函数和类\n",
    "import torch\n",
    "print(dir(torch.distributions))\n",
    "#  通常可以忽略以“__”（双下划线）开始和结束的函数，它们是Python中的特殊对象，\n",
    "#  或以单个“_”（单下划线）开始的函数，它们通常是内部函数。\n",
    "#  根据剩余的函数名或属性名，我们可能会猜测这个模块提供了各种生成随机数的方法， \n",
    "#  包括从均匀分布（uniform）、正态分布（normal）和多项分布（multinomial）中采样。"
   ]
  },
  {
   "cell_type": "code",
   "execution_count": null,
   "metadata": {},
   "outputs": [],
   "source": [
    "#有关如何使用给定函数或类的更具体说明，可以调用help函数\n",
    "help(torch.ones)"
   ]
  },
  {
   "cell_type": "code",
   "execution_count": null,
   "metadata": {},
   "outputs": [],
   "source": [
    "#矢量化加速\n",
    "%matplotlib inline\n",
    "import math\n",
    "import time\n",
    "import numpy as np\n",
    "import torch\n",
    "from d2l import torch as d2l"
   ]
  },
  {
   "cell_type": "code",
   "execution_count": null,
   "metadata": {},
   "outputs": [],
   "source": [
    "n = 10000\n",
    "a = torch.ones([n])\n",
    "b = torch.ones([n])"
   ]
  },
  {
   "cell_type": "code",
   "execution_count": null,
   "metadata": {},
   "outputs": [],
   "source": [
    "class Timer:  #@save\n",
    "    \"\"\"记录多次运行时间\"\"\"\n",
    "    def __init__(self):\n",
    "        self.times = []\n",
    "        self.start()\n",
    "\n",
    "    def start(self):\n",
    "        \"\"\"启动计时器\"\"\"\n",
    "        self.tik = time.time()\n",
    "\n",
    "    def stop(self):\n",
    "        \"\"\"停止计时器并将时间记录在列表中\"\"\"\n",
    "        self.times.append(time.time() - self.tik)\n",
    "        return self.times[-1]\n",
    "\n",
    "    def avg(self):\n",
    "        \"\"\"返回平均时间\"\"\"\n",
    "        return sum(self.times) / len(self.times)\n",
    "\n",
    "    def sum(self):\n",
    "        \"\"\"返回时间总和\"\"\"\n",
    "        return sum(self.times)\n",
    "\n",
    "    def cumsum(self):\n",
    "        \"\"\"返回累计时间\"\"\"\n",
    "        return np.array(self.times).cumsum().tolist()"
   ]
  },
  {
   "cell_type": "code",
   "execution_count": null,
   "metadata": {},
   "outputs": [
    {
     "data": {
      "text/plain": [
       "'0.37156 sec'"
      ]
     },
     "execution_count": 39,
     "metadata": {},
     "output_type": "execute_result"
    }
   ],
   "source": [
    "c = torch.zeros(n)\n",
    "timer = Timer()\n",
    "for i in range(n):\n",
    "    c[i] = a[i] + b[i]\n",
    "f'{timer.stop():.5f} sec'"
   ]
  },
  {
   "cell_type": "code",
   "execution_count": null,
   "metadata": {},
   "outputs": [],
   "source": [
    "def normal(x, mu, sigma):\n",
    "    p = 1 / math.sqrt(2 * math.pi * sigma**2)\n",
    "    return p * np.exp(-0.5 / sigma**2 * (x - mu)**2)"
   ]
  },
  {
   "cell_type": "code",
   "execution_count": null,
   "metadata": {},
   "outputs": [
    {
     "data": {
      "image/svg+xml": "<?xml version=\"1.0\" encoding=\"utf-8\" standalone=\"no\"?>\n<!DOCTYPE svg PUBLIC \"-//W3C//DTD SVG 1.1//EN\"\n  \"http://www.w3.org/Graphics/SVG/1.1/DTD/svg11.dtd\">\n<svg xmlns:xlink=\"http://www.w3.org/1999/xlink\" width=\"302.08125pt\" height=\"183.35625pt\" viewBox=\"0 0 302.08125 183.35625\" xmlns=\"http://www.w3.org/2000/svg\" version=\"1.1\">\n <metadata>\n  <rdf:RDF xmlns:dc=\"http://purl.org/dc/elements/1.1/\" xmlns:cc=\"http://creativecommons.org/ns#\" xmlns:rdf=\"http://www.w3.org/1999/02/22-rdf-syntax-ns#\">\n   <cc:Work>\n    <dc:type rdf:resource=\"http://purl.org/dc/dcmitype/StillImage\"/>\n    <dc:date>2023-03-25T23:27:37.960869</dc:date>\n    <dc:format>image/svg+xml</dc:format>\n    <dc:creator>\n     <cc:Agent>\n      <dc:title>Matplotlib v3.5.1, https://matplotlib.org/</dc:title>\n     </cc:Agent>\n    </dc:creator>\n   </cc:Work>\n  </rdf:RDF>\n </metadata>\n <defs>\n  <style type=\"text/css\">*{stroke-linejoin: round; stroke-linecap: butt}</style>\n </defs>\n <g id=\"figure_1\">\n  <g id=\"patch_1\">\n   <path d=\"M 0 183.35625 \nL 302.08125 183.35625 \nL 302.08125 0 \nL 0 0 \nz\n\" style=\"fill: #ffffff\"/>\n  </g>\n  <g id=\"axes_1\">\n   <g id=\"patch_2\">\n    <path d=\"M 43.78125 145.8 \nL 294.88125 145.8 \nL 294.88125 7.2 \nL 43.78125 7.2 \nz\n\" style=\"fill: #ffffff\"/>\n   </g>\n   <g id=\"matplotlib.axis_1\">\n    <g id=\"xtick_1\">\n     <g id=\"line2d_1\">\n      <path d=\"M 71.511736 145.8 \nL 71.511736 7.2 \n\" clip-path=\"url(#pa2e01eb08f)\" style=\"fill: none; stroke: #b0b0b0; stroke-width: 0.8; stroke-linecap: square\"/>\n     </g>\n     <g id=\"line2d_2\">\n      <defs>\n       <path id=\"m35cb7790a8\" d=\"M 0 0 \nL 0 3.5 \n\" style=\"stroke: #000000; stroke-width: 0.8\"/>\n      </defs>\n      <g>\n       <use xlink:href=\"#m35cb7790a8\" x=\"71.511736\" y=\"145.8\" style=\"stroke: #000000; stroke-width: 0.8\"/>\n      </g>\n     </g>\n     <g id=\"text_1\">\n      <!-- −6 -->\n      <g transform=\"translate(64.140642 160.398438)scale(0.1 -0.1)\">\n       <defs>\n        <path id=\"DejaVuSans-2212\" d=\"M 678 2272 \nL 4684 2272 \nL 4684 1741 \nL 678 1741 \nL 678 2272 \nz\n\" transform=\"scale(0.015625)\"/>\n        <path id=\"DejaVuSans-36\" d=\"M 2113 2584 \nQ 1688 2584 1439 2293 \nQ 1191 2003 1191 1497 \nQ 1191 994 1439 701 \nQ 1688 409 2113 409 \nQ 2538 409 2786 701 \nQ 3034 994 3034 1497 \nQ 3034 2003 2786 2293 \nQ 2538 2584 2113 2584 \nz\nM 3366 4563 \nL 3366 3988 \nQ 3128 4100 2886 4159 \nQ 2644 4219 2406 4219 \nQ 1781 4219 1451 3797 \nQ 1122 3375 1075 2522 \nQ 1259 2794 1537 2939 \nQ 1816 3084 2150 3084 \nQ 2853 3084 3261 2657 \nQ 3669 2231 3669 1497 \nQ 3669 778 3244 343 \nQ 2819 -91 2113 -91 \nQ 1303 -91 875 529 \nQ 447 1150 447 2328 \nQ 447 3434 972 4092 \nQ 1497 4750 2381 4750 \nQ 2619 4750 2861 4703 \nQ 3103 4656 3366 4563 \nz\n\" transform=\"scale(0.015625)\"/>\n       </defs>\n       <use xlink:href=\"#DejaVuSans-2212\"/>\n       <use xlink:href=\"#DejaVuSans-36\" x=\"83.789062\"/>\n      </g>\n     </g>\n    </g>\n    <g id=\"xtick_2\">\n     <g id=\"line2d_3\">\n      <path d=\"M 104.145435 145.8 \nL 104.145435 7.2 \n\" clip-path=\"url(#pa2e01eb08f)\" style=\"fill: none; stroke: #b0b0b0; stroke-width: 0.8; stroke-linecap: square\"/>\n     </g>\n     <g id=\"line2d_4\">\n      <g>\n       <use xlink:href=\"#m35cb7790a8\" x=\"104.145435\" y=\"145.8\" style=\"stroke: #000000; stroke-width: 0.8\"/>\n      </g>\n     </g>\n     <g id=\"text_2\">\n      <!-- −4 -->\n      <g transform=\"translate(96.774342 160.398438)scale(0.1 -0.1)\">\n       <defs>\n        <path id=\"DejaVuSans-34\" d=\"M 2419 4116 \nL 825 1625 \nL 2419 1625 \nL 2419 4116 \nz\nM 2253 4666 \nL 3047 4666 \nL 3047 1625 \nL 3713 1625 \nL 3713 1100 \nL 3047 1100 \nL 3047 0 \nL 2419 0 \nL 2419 1100 \nL 313 1100 \nL 313 1709 \nL 2253 4666 \nz\n\" transform=\"scale(0.015625)\"/>\n       </defs>\n       <use xlink:href=\"#DejaVuSans-2212\"/>\n       <use xlink:href=\"#DejaVuSans-34\" x=\"83.789062\"/>\n      </g>\n     </g>\n    </g>\n    <g id=\"xtick_3\">\n     <g id=\"line2d_5\">\n      <path d=\"M 136.779135 145.8 \nL 136.779135 7.2 \n\" clip-path=\"url(#pa2e01eb08f)\" style=\"fill: none; stroke: #b0b0b0; stroke-width: 0.8; stroke-linecap: square\"/>\n     </g>\n     <g id=\"line2d_6\">\n      <g>\n       <use xlink:href=\"#m35cb7790a8\" x=\"136.779135\" y=\"145.8\" style=\"stroke: #000000; stroke-width: 0.8\"/>\n      </g>\n     </g>\n     <g id=\"text_3\">\n      <!-- −2 -->\n      <g transform=\"translate(129.408041 160.398438)scale(0.1 -0.1)\">\n       <defs>\n        <path id=\"DejaVuSans-32\" d=\"M 1228 531 \nL 3431 531 \nL 3431 0 \nL 469 0 \nL 469 531 \nQ 828 903 1448 1529 \nQ 2069 2156 2228 2338 \nQ 2531 2678 2651 2914 \nQ 2772 3150 2772 3378 \nQ 2772 3750 2511 3984 \nQ 2250 4219 1831 4219 \nQ 1534 4219 1204 4116 \nQ 875 4013 500 3803 \nL 500 4441 \nQ 881 4594 1212 4672 \nQ 1544 4750 1819 4750 \nQ 2544 4750 2975 4387 \nQ 3406 4025 3406 3419 \nQ 3406 3131 3298 2873 \nQ 3191 2616 2906 2266 \nQ 2828 2175 2409 1742 \nQ 1991 1309 1228 531 \nz\n\" transform=\"scale(0.015625)\"/>\n       </defs>\n       <use xlink:href=\"#DejaVuSans-2212\"/>\n       <use xlink:href=\"#DejaVuSans-32\" x=\"83.789062\"/>\n      </g>\n     </g>\n    </g>\n    <g id=\"xtick_4\">\n     <g id=\"line2d_7\">\n      <path d=\"M 169.412834 145.8 \nL 169.412834 7.2 \n\" clip-path=\"url(#pa2e01eb08f)\" style=\"fill: none; stroke: #b0b0b0; stroke-width: 0.8; stroke-linecap: square\"/>\n     </g>\n     <g id=\"line2d_8\">\n      <g>\n       <use xlink:href=\"#m35cb7790a8\" x=\"169.412834\" y=\"145.8\" style=\"stroke: #000000; stroke-width: 0.8\"/>\n      </g>\n     </g>\n     <g id=\"text_4\">\n      <!-- 0 -->\n      <g transform=\"translate(166.231584 160.398438)scale(0.1 -0.1)\">\n       <defs>\n        <path id=\"DejaVuSans-30\" d=\"M 2034 4250 \nQ 1547 4250 1301 3770 \nQ 1056 3291 1056 2328 \nQ 1056 1369 1301 889 \nQ 1547 409 2034 409 \nQ 2525 409 2770 889 \nQ 3016 1369 3016 2328 \nQ 3016 3291 2770 3770 \nQ 2525 4250 2034 4250 \nz\nM 2034 4750 \nQ 2819 4750 3233 4129 \nQ 3647 3509 3647 2328 \nQ 3647 1150 3233 529 \nQ 2819 -91 2034 -91 \nQ 1250 -91 836 529 \nQ 422 1150 422 2328 \nQ 422 3509 836 4129 \nQ 1250 4750 2034 4750 \nz\n\" transform=\"scale(0.015625)\"/>\n       </defs>\n       <use xlink:href=\"#DejaVuSans-30\"/>\n      </g>\n     </g>\n    </g>\n    <g id=\"xtick_5\">\n     <g id=\"line2d_9\">\n      <path d=\"M 202.046534 145.8 \nL 202.046534 7.2 \n\" clip-path=\"url(#pa2e01eb08f)\" style=\"fill: none; stroke: #b0b0b0; stroke-width: 0.8; stroke-linecap: square\"/>\n     </g>\n     <g id=\"line2d_10\">\n      <g>\n       <use xlink:href=\"#m35cb7790a8\" x=\"202.046534\" y=\"145.8\" style=\"stroke: #000000; stroke-width: 0.8\"/>\n      </g>\n     </g>\n     <g id=\"text_5\">\n      <!-- 2 -->\n      <g transform=\"translate(198.865284 160.398438)scale(0.1 -0.1)\">\n       <use xlink:href=\"#DejaVuSans-32\"/>\n      </g>\n     </g>\n    </g>\n    <g id=\"xtick_6\">\n     <g id=\"line2d_11\">\n      <path d=\"M 234.680233 145.8 \nL 234.680233 7.2 \n\" clip-path=\"url(#pa2e01eb08f)\" style=\"fill: none; stroke: #b0b0b0; stroke-width: 0.8; stroke-linecap: square\"/>\n     </g>\n     <g id=\"line2d_12\">\n      <g>\n       <use xlink:href=\"#m35cb7790a8\" x=\"234.680233\" y=\"145.8\" style=\"stroke: #000000; stroke-width: 0.8\"/>\n      </g>\n     </g>\n     <g id=\"text_6\">\n      <!-- 4 -->\n      <g transform=\"translate(231.498983 160.398438)scale(0.1 -0.1)\">\n       <use xlink:href=\"#DejaVuSans-34\"/>\n      </g>\n     </g>\n    </g>\n    <g id=\"xtick_7\">\n     <g id=\"line2d_13\">\n      <path d=\"M 267.313932 145.8 \nL 267.313932 7.2 \n\" clip-path=\"url(#pa2e01eb08f)\" style=\"fill: none; stroke: #b0b0b0; stroke-width: 0.8; stroke-linecap: square\"/>\n     </g>\n     <g id=\"line2d_14\">\n      <g>\n       <use xlink:href=\"#m35cb7790a8\" x=\"267.313932\" y=\"145.8\" style=\"stroke: #000000; stroke-width: 0.8\"/>\n      </g>\n     </g>\n     <g id=\"text_7\">\n      <!-- 6 -->\n      <g transform=\"translate(264.132682 160.398438)scale(0.1 -0.1)\">\n       <use xlink:href=\"#DejaVuSans-36\"/>\n      </g>\n     </g>\n    </g>\n    <g id=\"text_8\">\n     <!-- x -->\n     <g transform=\"translate(166.371875 174.076563)scale(0.1 -0.1)\">\n      <defs>\n       <path id=\"DejaVuSans-78\" d=\"M 3513 3500 \nL 2247 1797 \nL 3578 0 \nL 2900 0 \nL 1881 1375 \nL 863 0 \nL 184 0 \nL 1544 1831 \nL 300 3500 \nL 978 3500 \nL 1906 2253 \nL 2834 3500 \nL 3513 3500 \nz\n\" transform=\"scale(0.015625)\"/>\n      </defs>\n      <use xlink:href=\"#DejaVuSans-78\"/>\n     </g>\n    </g>\n   </g>\n   <g id=\"matplotlib.axis_2\">\n    <g id=\"ytick_1\">\n     <g id=\"line2d_15\">\n      <path d=\"M 43.78125 139.5 \nL 294.88125 139.5 \n\" clip-path=\"url(#pa2e01eb08f)\" style=\"fill: none; stroke: #b0b0b0; stroke-width: 0.8; stroke-linecap: square\"/>\n     </g>\n     <g id=\"line2d_16\">\n      <defs>\n       <path id=\"m1c5029ba2d\" d=\"M 0 0 \nL -3.5 0 \n\" style=\"stroke: #000000; stroke-width: 0.8\"/>\n      </defs>\n      <g>\n       <use xlink:href=\"#m1c5029ba2d\" x=\"43.78125\" y=\"139.5\" style=\"stroke: #000000; stroke-width: 0.8\"/>\n      </g>\n     </g>\n     <g id=\"text_9\">\n      <!-- 0.0 -->\n      <g transform=\"translate(20.878125 143.299219)scale(0.1 -0.1)\">\n       <defs>\n        <path id=\"DejaVuSans-2e\" d=\"M 684 794 \nL 1344 794 \nL 1344 0 \nL 684 0 \nL 684 794 \nz\n\" transform=\"scale(0.015625)\"/>\n       </defs>\n       <use xlink:href=\"#DejaVuSans-30\"/>\n       <use xlink:href=\"#DejaVuSans-2e\" x=\"63.623047\"/>\n       <use xlink:href=\"#DejaVuSans-30\" x=\"95.410156\"/>\n      </g>\n     </g>\n    </g>\n    <g id=\"ytick_2\">\n     <g id=\"line2d_17\">\n      <path d=\"M 43.78125 107.916484 \nL 294.88125 107.916484 \n\" clip-path=\"url(#pa2e01eb08f)\" style=\"fill: none; stroke: #b0b0b0; stroke-width: 0.8; stroke-linecap: square\"/>\n     </g>\n     <g id=\"line2d_18\">\n      <g>\n       <use xlink:href=\"#m1c5029ba2d\" x=\"43.78125\" y=\"107.916484\" style=\"stroke: #000000; stroke-width: 0.8\"/>\n      </g>\n     </g>\n     <g id=\"text_10\">\n      <!-- 0.1 -->\n      <g transform=\"translate(20.878125 111.715702)scale(0.1 -0.1)\">\n       <defs>\n        <path id=\"DejaVuSans-31\" d=\"M 794 531 \nL 1825 531 \nL 1825 4091 \nL 703 3866 \nL 703 4441 \nL 1819 4666 \nL 2450 4666 \nL 2450 531 \nL 3481 531 \nL 3481 0 \nL 794 0 \nL 794 531 \nz\n\" transform=\"scale(0.015625)\"/>\n       </defs>\n       <use xlink:href=\"#DejaVuSans-30\"/>\n       <use xlink:href=\"#DejaVuSans-2e\" x=\"63.623047\"/>\n       <use xlink:href=\"#DejaVuSans-31\" x=\"95.410156\"/>\n      </g>\n     </g>\n    </g>\n    <g id=\"ytick_3\">\n     <g id=\"line2d_19\">\n      <path d=\"M 43.78125 76.332967 \nL 294.88125 76.332967 \n\" clip-path=\"url(#pa2e01eb08f)\" style=\"fill: none; stroke: #b0b0b0; stroke-width: 0.8; stroke-linecap: square\"/>\n     </g>\n     <g id=\"line2d_20\">\n      <g>\n       <use xlink:href=\"#m1c5029ba2d\" x=\"43.78125\" y=\"76.332967\" style=\"stroke: #000000; stroke-width: 0.8\"/>\n      </g>\n     </g>\n     <g id=\"text_11\">\n      <!-- 0.2 -->\n      <g transform=\"translate(20.878125 80.132186)scale(0.1 -0.1)\">\n       <use xlink:href=\"#DejaVuSans-30\"/>\n       <use xlink:href=\"#DejaVuSans-2e\" x=\"63.623047\"/>\n       <use xlink:href=\"#DejaVuSans-32\" x=\"95.410156\"/>\n      </g>\n     </g>\n    </g>\n    <g id=\"ytick_4\">\n     <g id=\"line2d_21\">\n      <path d=\"M 43.78125 44.749451 \nL 294.88125 44.749451 \n\" clip-path=\"url(#pa2e01eb08f)\" style=\"fill: none; stroke: #b0b0b0; stroke-width: 0.8; stroke-linecap: square\"/>\n     </g>\n     <g id=\"line2d_22\">\n      <g>\n       <use xlink:href=\"#m1c5029ba2d\" x=\"43.78125\" y=\"44.749451\" style=\"stroke: #000000; stroke-width: 0.8\"/>\n      </g>\n     </g>\n     <g id=\"text_12\">\n      <!-- 0.3 -->\n      <g transform=\"translate(20.878125 48.54867)scale(0.1 -0.1)\">\n       <defs>\n        <path id=\"DejaVuSans-33\" d=\"M 2597 2516 \nQ 3050 2419 3304 2112 \nQ 3559 1806 3559 1356 \nQ 3559 666 3084 287 \nQ 2609 -91 1734 -91 \nQ 1441 -91 1130 -33 \nQ 819 25 488 141 \nL 488 750 \nQ 750 597 1062 519 \nQ 1375 441 1716 441 \nQ 2309 441 2620 675 \nQ 2931 909 2931 1356 \nQ 2931 1769 2642 2001 \nQ 2353 2234 1838 2234 \nL 1294 2234 \nL 1294 2753 \nL 1863 2753 \nQ 2328 2753 2575 2939 \nQ 2822 3125 2822 3475 \nQ 2822 3834 2567 4026 \nQ 2313 4219 1838 4219 \nQ 1578 4219 1281 4162 \nQ 984 4106 628 3988 \nL 628 4550 \nQ 988 4650 1302 4700 \nQ 1616 4750 1894 4750 \nQ 2613 4750 3031 4423 \nQ 3450 4097 3450 3541 \nQ 3450 3153 3228 2886 \nQ 3006 2619 2597 2516 \nz\n\" transform=\"scale(0.015625)\"/>\n       </defs>\n       <use xlink:href=\"#DejaVuSans-30\"/>\n       <use xlink:href=\"#DejaVuSans-2e\" x=\"63.623047\"/>\n       <use xlink:href=\"#DejaVuSans-33\" x=\"95.410156\"/>\n      </g>\n     </g>\n    </g>\n    <g id=\"ytick_5\">\n     <g id=\"line2d_23\">\n      <path d=\"M 43.78125 13.165935 \nL 294.88125 13.165935 \n\" clip-path=\"url(#pa2e01eb08f)\" style=\"fill: none; stroke: #b0b0b0; stroke-width: 0.8; stroke-linecap: square\"/>\n     </g>\n     <g id=\"line2d_24\">\n      <g>\n       <use xlink:href=\"#m1c5029ba2d\" x=\"43.78125\" y=\"13.165935\" style=\"stroke: #000000; stroke-width: 0.8\"/>\n      </g>\n     </g>\n     <g id=\"text_13\">\n      <!-- 0.4 -->\n      <g transform=\"translate(20.878125 16.965154)scale(0.1 -0.1)\">\n       <use xlink:href=\"#DejaVuSans-30\"/>\n       <use xlink:href=\"#DejaVuSans-2e\" x=\"63.623047\"/>\n       <use xlink:href=\"#DejaVuSans-34\" x=\"95.410156\"/>\n      </g>\n     </g>\n    </g>\n    <g id=\"text_14\">\n     <!-- p(x) -->\n     <g transform=\"translate(14.798438 86.535156)rotate(-90)scale(0.1 -0.1)\">\n      <defs>\n       <path id=\"DejaVuSans-70\" d=\"M 1159 525 \nL 1159 -1331 \nL 581 -1331 \nL 581 3500 \nL 1159 3500 \nL 1159 2969 \nQ 1341 3281 1617 3432 \nQ 1894 3584 2278 3584 \nQ 2916 3584 3314 3078 \nQ 3713 2572 3713 1747 \nQ 3713 922 3314 415 \nQ 2916 -91 2278 -91 \nQ 1894 -91 1617 61 \nQ 1341 213 1159 525 \nz\nM 3116 1747 \nQ 3116 2381 2855 2742 \nQ 2594 3103 2138 3103 \nQ 1681 3103 1420 2742 \nQ 1159 2381 1159 1747 \nQ 1159 1113 1420 752 \nQ 1681 391 2138 391 \nQ 2594 391 2855 752 \nQ 3116 1113 3116 1747 \nz\n\" transform=\"scale(0.015625)\"/>\n       <path id=\"DejaVuSans-28\" d=\"M 1984 4856 \nQ 1566 4138 1362 3434 \nQ 1159 2731 1159 2009 \nQ 1159 1288 1364 580 \nQ 1569 -128 1984 -844 \nL 1484 -844 \nQ 1016 -109 783 600 \nQ 550 1309 550 2009 \nQ 550 2706 781 3412 \nQ 1013 4119 1484 4856 \nL 1984 4856 \nz\n\" transform=\"scale(0.015625)\"/>\n       <path id=\"DejaVuSans-29\" d=\"M 513 4856 \nL 1013 4856 \nQ 1481 4119 1714 3412 \nQ 1947 2706 1947 2009 \nQ 1947 1309 1714 600 \nQ 1481 -109 1013 -844 \nL 513 -844 \nQ 928 -128 1133 580 \nQ 1338 1288 1338 2009 \nQ 1338 2731 1133 3434 \nQ 928 4138 513 4856 \nz\n\" transform=\"scale(0.015625)\"/>\n      </defs>\n      <use xlink:href=\"#DejaVuSans-70\"/>\n      <use xlink:href=\"#DejaVuSans-28\" x=\"63.476562\"/>\n      <use xlink:href=\"#DejaVuSans-78\" x=\"102.490234\"/>\n      <use xlink:href=\"#DejaVuSans-29\" x=\"161.669922\"/>\n     </g>\n    </g>\n   </g>\n   <g id=\"line2d_25\">\n    <path d=\"M 55.194886 139.5 \nL 108.061479 139.392742 \nL 113.44604 139.148719 \nL 117.035747 138.770771 \nL 119.809611 138.25954 \nL 122.09397 137.619981 \nL 124.051992 136.856558 \nL 125.846846 135.932618 \nL 127.478531 134.864093 \nL 129.110215 133.53546 \nL 130.7419 131.902404 \nL 132.373585 129.918522 \nL 133.842102 127.79423 \nL 135.473787 125.01546 \nL 137.105472 121.755388 \nL 138.737157 117.977866 \nL 140.368842 113.655911 \nL 142.163695 108.255858 \nL 144.121717 101.596938 \nL 146.242908 93.525729 \nL 148.690435 83.248545 \nL 151.790637 69.178196 \nL 157.827871 41.57206 \nL 159.949061 33.006718 \nL 161.743915 26.675681 \nL 163.212431 22.276554 \nL 164.517779 19.044317 \nL 165.659959 16.789011 \nL 166.63897 15.307609 \nL 167.454812 14.403942 \nL 168.270655 13.808322 \nL 168.923329 13.556687 \nL 169.576003 13.5063 \nL 170.228677 13.657402 \nL 170.881351 14.009268 \nL 171.697193 14.728769 \nL 172.513036 15.753897 \nL 173.492047 17.376612 \nL 174.634226 19.788832 \nL 175.776406 22.726997 \nL 177.081754 26.675681 \nL 178.713439 32.392617 \nL 180.671461 40.191426 \nL 183.118988 50.957567 \nL 192.256424 92.210802 \nL 194.540783 101.006788 \nL 196.498805 107.731288 \nL 198.456827 113.655911 \nL 200.25168 118.379758 \nL 201.883365 122.104146 \nL 203.51505 125.314336 \nL 205.146735 128.047227 \nL 206.77842 130.345625 \nL 208.410105 132.255577 \nL 210.04179 133.824084 \nL 211.673475 135.097239 \nL 213.468328 136.208702 \nL 215.42635 137.136646 \nL 217.547541 137.875773 \nL 219.8319 138.435791 \nL 222.605764 138.879679 \nL 226.032303 139.193999 \nL 230.927358 139.396705 \nL 239.412119 139.487295 \nL 277.104042 139.5 \nL 283.467614 139.5 \nL 283.467614 139.5 \n\" clip-path=\"url(#pa2e01eb08f)\" style=\"fill: none; stroke: #1f77b4; stroke-width: 1.5; stroke-linecap: square\"/>\n   </g>\n   <g id=\"line2d_26\">\n    <path d=\"M 55.194886 139.362188 \nL 65.63767 139.098708 \nL 72.980253 138.699787 \nL 78.69115 138.178279 \nL 83.586205 137.516853 \nL 87.991754 136.697191 \nL 91.907798 135.745999 \nL 95.497505 134.654637 \nL 98.924044 133.387507 \nL 102.187413 131.951607 \nL 105.450783 130.271147 \nL 108.714153 128.328848 \nL 111.977523 126.112322 \nL 115.240893 123.615644 \nL 118.504263 120.840886 \nL 121.930802 117.640793 \nL 125.683677 113.829699 \nL 130.089226 109.01843 \nL 136.126461 102.052696 \nL 144.448054 92.482389 \nL 148.364098 88.331596 \nL 151.627468 85.194678 \nL 154.401333 82.824913 \nL 157.012028 80.888277 \nL 159.296387 79.455574 \nL 161.580746 78.288522 \nL 163.701937 77.457339 \nL 165.659959 76.915213 \nL 167.617981 76.595215 \nL 169.576003 76.500787 \nL 171.534025 76.632947 \nL 173.492047 76.99027 \nL 175.450069 77.568916 \nL 177.571259 78.438306 \nL 179.69245 79.54932 \nL 181.976809 81.000265 \nL 184.424336 82.824913 \nL 187.035032 85.047175 \nL 189.972065 87.839952 \nL 193.398603 91.412502 \nL 197.804153 96.3499 \nL 212.978823 113.657453 \nL 216.894867 117.640793 \nL 220.484574 120.986092 \nL 223.911112 123.877929 \nL 227.174482 126.346542 \nL 230.437852 128.535259 \nL 233.701222 130.450724 \nL 236.964592 132.105883 \nL 240.227962 133.51842 \nL 243.6545 134.763387 \nL 247.244207 135.834289 \nL 251.160251 136.766392 \nL 255.402632 137.542786 \nL 260.134519 138.178279 \nL 265.682247 138.687887 \nL 272.372156 139.065638 \nL 281.020086 139.318239 \nL 283.467614 139.359757 \nL 283.467614 139.359757 \n\" clip-path=\"url(#pa2e01eb08f)\" style=\"fill: none; stroke-dasharray: 5.55,2.4; stroke-dashoffset: 0; stroke: #bf00bf; stroke-width: 1.5\"/>\n   </g>\n   <g id=\"line2d_27\">\n    <path d=\"M 55.194886 139.5 \nL 157.012028 139.392742 \nL 162.396589 139.148719 \nL 165.986296 138.770771 \nL 168.76016 138.25954 \nL 171.044519 137.619981 \nL 173.002541 136.856558 \nL 174.797395 135.932618 \nL 176.42908 134.864093 \nL 178.060765 133.53546 \nL 179.69245 131.902404 \nL 181.324135 129.918522 \nL 182.792651 127.79423 \nL 184.424336 125.01546 \nL 186.056021 121.755388 \nL 187.687706 117.977866 \nL 189.319391 113.655911 \nL 191.114244 108.255858 \nL 193.072266 101.596938 \nL 195.193457 93.525729 \nL 197.640984 83.248545 \nL 200.741186 69.178196 \nL 206.77842 41.57206 \nL 208.899611 33.006718 \nL 210.694464 26.675681 \nL 212.16298 22.276554 \nL 213.468328 19.044317 \nL 214.610508 16.789011 \nL 215.589519 15.307609 \nL 216.405361 14.403942 \nL 217.221204 13.808322 \nL 217.873878 13.556687 \nL 218.526552 13.5063 \nL 219.179226 13.657402 \nL 219.8319 14.009268 \nL 220.647742 14.728769 \nL 221.463585 15.753897 \nL 222.442596 17.376612 \nL 223.584775 19.788832 \nL 224.726955 22.726997 \nL 226.032303 26.675681 \nL 227.663988 32.392617 \nL 229.62201 40.191426 \nL 232.069537 50.957567 \nL 241.206973 92.210802 \nL 243.491332 101.006788 \nL 245.449354 107.731288 \nL 247.407376 113.655911 \nL 249.202229 118.379758 \nL 250.833914 122.104146 \nL 252.465599 125.314336 \nL 254.097284 128.047227 \nL 255.728969 130.345625 \nL 257.360654 132.255577 \nL 258.992339 133.824084 \nL 260.624024 135.097239 \nL 262.418878 136.208702 \nL 264.376899 137.136646 \nL 266.49809 137.875773 \nL 268.782449 138.435791 \nL 271.556313 138.879679 \nL 274.982852 139.193999 \nL 279.877907 139.396705 \nL 283.467614 139.456009 \nL 283.467614 139.456009 \n\" clip-path=\"url(#pa2e01eb08f)\" style=\"fill: none; stroke-dasharray: 9.6,2.4,1.5,2.4; stroke-dashoffset: 0; stroke: #008000; stroke-width: 1.5\"/>\n   </g>\n   <g id=\"patch_3\">\n    <path d=\"M 43.78125 145.8 \nL 43.78125 7.2 \n\" style=\"fill: none; stroke: #000000; stroke-width: 0.8; stroke-linejoin: miter; stroke-linecap: square\"/>\n   </g>\n   <g id=\"patch_4\">\n    <path d=\"M 294.88125 145.8 \nL 294.88125 7.2 \n\" style=\"fill: none; stroke: #000000; stroke-width: 0.8; stroke-linejoin: miter; stroke-linecap: square\"/>\n   </g>\n   <g id=\"patch_5\">\n    <path d=\"M 43.78125 145.8 \nL 294.88125 145.8 \n\" style=\"fill: none; stroke: #000000; stroke-width: 0.8; stroke-linejoin: miter; stroke-linecap: square\"/>\n   </g>\n   <g id=\"patch_6\">\n    <path d=\"M 43.78125 7.2 \nL 294.88125 7.2 \n\" style=\"fill: none; stroke: #000000; stroke-width: 0.8; stroke-linejoin: miter; stroke-linecap: square\"/>\n   </g>\n   <g id=\"legend_1\">\n    <g id=\"patch_7\">\n     <path d=\"M 50.78125 59.234375 \nL 152.05625 59.234375 \nQ 154.05625 59.234375 154.05625 57.234375 \nL 154.05625 14.2 \nQ 154.05625 12.2 152.05625 12.2 \nL 50.78125 12.2 \nQ 48.78125 12.2 48.78125 14.2 \nL 48.78125 57.234375 \nQ 48.78125 59.234375 50.78125 59.234375 \nz\n\" style=\"fill: #ffffff; opacity: 0.8; stroke: #cccccc; stroke-linejoin: miter\"/>\n    </g>\n    <g id=\"line2d_28\">\n     <path d=\"M 52.78125 20.298438 \nL 62.78125 20.298438 \nL 72.78125 20.298438 \n\" style=\"fill: none; stroke: #1f77b4; stroke-width: 1.5; stroke-linecap: square\"/>\n    </g>\n    <g id=\"text_15\">\n     <!-- mean 0, std 1 -->\n     <g transform=\"translate(80.78125 23.798438)scale(0.1 -0.1)\">\n      <defs>\n       <path id=\"DejaVuSans-6d\" d=\"M 3328 2828 \nQ 3544 3216 3844 3400 \nQ 4144 3584 4550 3584 \nQ 5097 3584 5394 3201 \nQ 5691 2819 5691 2113 \nL 5691 0 \nL 5113 0 \nL 5113 2094 \nQ 5113 2597 4934 2840 \nQ 4756 3084 4391 3084 \nQ 3944 3084 3684 2787 \nQ 3425 2491 3425 1978 \nL 3425 0 \nL 2847 0 \nL 2847 2094 \nQ 2847 2600 2669 2842 \nQ 2491 3084 2119 3084 \nQ 1678 3084 1418 2786 \nQ 1159 2488 1159 1978 \nL 1159 0 \nL 581 0 \nL 581 3500 \nL 1159 3500 \nL 1159 2956 \nQ 1356 3278 1631 3431 \nQ 1906 3584 2284 3584 \nQ 2666 3584 2933 3390 \nQ 3200 3197 3328 2828 \nz\n\" transform=\"scale(0.015625)\"/>\n       <path id=\"DejaVuSans-65\" d=\"M 3597 1894 \nL 3597 1613 \nL 953 1613 \nQ 991 1019 1311 708 \nQ 1631 397 2203 397 \nQ 2534 397 2845 478 \nQ 3156 559 3463 722 \nL 3463 178 \nQ 3153 47 2828 -22 \nQ 2503 -91 2169 -91 \nQ 1331 -91 842 396 \nQ 353 884 353 1716 \nQ 353 2575 817 3079 \nQ 1281 3584 2069 3584 \nQ 2775 3584 3186 3129 \nQ 3597 2675 3597 1894 \nz\nM 3022 2063 \nQ 3016 2534 2758 2815 \nQ 2500 3097 2075 3097 \nQ 1594 3097 1305 2825 \nQ 1016 2553 972 2059 \nL 3022 2063 \nz\n\" transform=\"scale(0.015625)\"/>\n       <path id=\"DejaVuSans-61\" d=\"M 2194 1759 \nQ 1497 1759 1228 1600 \nQ 959 1441 959 1056 \nQ 959 750 1161 570 \nQ 1363 391 1709 391 \nQ 2188 391 2477 730 \nQ 2766 1069 2766 1631 \nL 2766 1759 \nL 2194 1759 \nz\nM 3341 1997 \nL 3341 0 \nL 2766 0 \nL 2766 531 \nQ 2569 213 2275 61 \nQ 1981 -91 1556 -91 \nQ 1019 -91 701 211 \nQ 384 513 384 1019 \nQ 384 1609 779 1909 \nQ 1175 2209 1959 2209 \nL 2766 2209 \nL 2766 2266 \nQ 2766 2663 2505 2880 \nQ 2244 3097 1772 3097 \nQ 1472 3097 1187 3025 \nQ 903 2953 641 2809 \nL 641 3341 \nQ 956 3463 1253 3523 \nQ 1550 3584 1831 3584 \nQ 2591 3584 2966 3190 \nQ 3341 2797 3341 1997 \nz\n\" transform=\"scale(0.015625)\"/>\n       <path id=\"DejaVuSans-6e\" d=\"M 3513 2113 \nL 3513 0 \nL 2938 0 \nL 2938 2094 \nQ 2938 2591 2744 2837 \nQ 2550 3084 2163 3084 \nQ 1697 3084 1428 2787 \nQ 1159 2491 1159 1978 \nL 1159 0 \nL 581 0 \nL 581 3500 \nL 1159 3500 \nL 1159 2956 \nQ 1366 3272 1645 3428 \nQ 1925 3584 2291 3584 \nQ 2894 3584 3203 3211 \nQ 3513 2838 3513 2113 \nz\n\" transform=\"scale(0.015625)\"/>\n       <path id=\"DejaVuSans-20\" transform=\"scale(0.015625)\"/>\n       <path id=\"DejaVuSans-2c\" d=\"M 750 794 \nL 1409 794 \nL 1409 256 \nL 897 -744 \nL 494 -744 \nL 750 256 \nL 750 794 \nz\n\" transform=\"scale(0.015625)\"/>\n       <path id=\"DejaVuSans-73\" d=\"M 2834 3397 \nL 2834 2853 \nQ 2591 2978 2328 3040 \nQ 2066 3103 1784 3103 \nQ 1356 3103 1142 2972 \nQ 928 2841 928 2578 \nQ 928 2378 1081 2264 \nQ 1234 2150 1697 2047 \nL 1894 2003 \nQ 2506 1872 2764 1633 \nQ 3022 1394 3022 966 \nQ 3022 478 2636 193 \nQ 2250 -91 1575 -91 \nQ 1294 -91 989 -36 \nQ 684 19 347 128 \nL 347 722 \nQ 666 556 975 473 \nQ 1284 391 1588 391 \nQ 1994 391 2212 530 \nQ 2431 669 2431 922 \nQ 2431 1156 2273 1281 \nQ 2116 1406 1581 1522 \nL 1381 1569 \nQ 847 1681 609 1914 \nQ 372 2147 372 2553 \nQ 372 3047 722 3315 \nQ 1072 3584 1716 3584 \nQ 2034 3584 2315 3537 \nQ 2597 3491 2834 3397 \nz\n\" transform=\"scale(0.015625)\"/>\n       <path id=\"DejaVuSans-74\" d=\"M 1172 4494 \nL 1172 3500 \nL 2356 3500 \nL 2356 3053 \nL 1172 3053 \nL 1172 1153 \nQ 1172 725 1289 603 \nQ 1406 481 1766 481 \nL 2356 481 \nL 2356 0 \nL 1766 0 \nQ 1100 0 847 248 \nQ 594 497 594 1153 \nL 594 3053 \nL 172 3053 \nL 172 3500 \nL 594 3500 \nL 594 4494 \nL 1172 4494 \nz\n\" transform=\"scale(0.015625)\"/>\n       <path id=\"DejaVuSans-64\" d=\"M 2906 2969 \nL 2906 4863 \nL 3481 4863 \nL 3481 0 \nL 2906 0 \nL 2906 525 \nQ 2725 213 2448 61 \nQ 2172 -91 1784 -91 \nQ 1150 -91 751 415 \nQ 353 922 353 1747 \nQ 353 2572 751 3078 \nQ 1150 3584 1784 3584 \nQ 2172 3584 2448 3432 \nQ 2725 3281 2906 2969 \nz\nM 947 1747 \nQ 947 1113 1208 752 \nQ 1469 391 1925 391 \nQ 2381 391 2643 752 \nQ 2906 1113 2906 1747 \nQ 2906 2381 2643 2742 \nQ 2381 3103 1925 3103 \nQ 1469 3103 1208 2742 \nQ 947 2381 947 1747 \nz\n\" transform=\"scale(0.015625)\"/>\n      </defs>\n      <use xlink:href=\"#DejaVuSans-6d\"/>\n      <use xlink:href=\"#DejaVuSans-65\" x=\"97.412109\"/>\n      <use xlink:href=\"#DejaVuSans-61\" x=\"158.935547\"/>\n      <use xlink:href=\"#DejaVuSans-6e\" x=\"220.214844\"/>\n      <use xlink:href=\"#DejaVuSans-20\" x=\"283.59375\"/>\n      <use xlink:href=\"#DejaVuSans-30\" x=\"315.380859\"/>\n      <use xlink:href=\"#DejaVuSans-2c\" x=\"379.003906\"/>\n      <use xlink:href=\"#DejaVuSans-20\" x=\"410.791016\"/>\n      <use xlink:href=\"#DejaVuSans-73\" x=\"442.578125\"/>\n      <use xlink:href=\"#DejaVuSans-74\" x=\"494.677734\"/>\n      <use xlink:href=\"#DejaVuSans-64\" x=\"533.886719\"/>\n      <use xlink:href=\"#DejaVuSans-20\" x=\"597.363281\"/>\n      <use xlink:href=\"#DejaVuSans-31\" x=\"629.150391\"/>\n     </g>\n    </g>\n    <g id=\"line2d_29\">\n     <path d=\"M 52.78125 34.976563 \nL 62.78125 34.976563 \nL 72.78125 34.976563 \n\" style=\"fill: none; stroke-dasharray: 5.55,2.4; stroke-dashoffset: 0; stroke: #bf00bf; stroke-width: 1.5\"/>\n    </g>\n    <g id=\"text_16\">\n     <!-- mean 0, std 2 -->\n     <g transform=\"translate(80.78125 38.476563)scale(0.1 -0.1)\">\n      <use xlink:href=\"#DejaVuSans-6d\"/>\n      <use xlink:href=\"#DejaVuSans-65\" x=\"97.412109\"/>\n      <use xlink:href=\"#DejaVuSans-61\" x=\"158.935547\"/>\n      <use xlink:href=\"#DejaVuSans-6e\" x=\"220.214844\"/>\n      <use xlink:href=\"#DejaVuSans-20\" x=\"283.59375\"/>\n      <use xlink:href=\"#DejaVuSans-30\" x=\"315.380859\"/>\n      <use xlink:href=\"#DejaVuSans-2c\" x=\"379.003906\"/>\n      <use xlink:href=\"#DejaVuSans-20\" x=\"410.791016\"/>\n      <use xlink:href=\"#DejaVuSans-73\" x=\"442.578125\"/>\n      <use xlink:href=\"#DejaVuSans-74\" x=\"494.677734\"/>\n      <use xlink:href=\"#DejaVuSans-64\" x=\"533.886719\"/>\n      <use xlink:href=\"#DejaVuSans-20\" x=\"597.363281\"/>\n      <use xlink:href=\"#DejaVuSans-32\" x=\"629.150391\"/>\n     </g>\n    </g>\n    <g id=\"line2d_30\">\n     <path d=\"M 52.78125 49.654688 \nL 62.78125 49.654688 \nL 72.78125 49.654688 \n\" style=\"fill: none; stroke-dasharray: 9.6,2.4,1.5,2.4; stroke-dashoffset: 0; stroke: #008000; stroke-width: 1.5\"/>\n    </g>\n    <g id=\"text_17\">\n     <!-- mean 3, std 1 -->\n     <g transform=\"translate(80.78125 53.154688)scale(0.1 -0.1)\">\n      <use xlink:href=\"#DejaVuSans-6d\"/>\n      <use xlink:href=\"#DejaVuSans-65\" x=\"97.412109\"/>\n      <use xlink:href=\"#DejaVuSans-61\" x=\"158.935547\"/>\n      <use xlink:href=\"#DejaVuSans-6e\" x=\"220.214844\"/>\n      <use xlink:href=\"#DejaVuSans-20\" x=\"283.59375\"/>\n      <use xlink:href=\"#DejaVuSans-33\" x=\"315.380859\"/>\n      <use xlink:href=\"#DejaVuSans-2c\" x=\"379.003906\"/>\n      <use xlink:href=\"#DejaVuSans-20\" x=\"410.791016\"/>\n      <use xlink:href=\"#DejaVuSans-73\" x=\"442.578125\"/>\n      <use xlink:href=\"#DejaVuSans-74\" x=\"494.677734\"/>\n      <use xlink:href=\"#DejaVuSans-64\" x=\"533.886719\"/>\n      <use xlink:href=\"#DejaVuSans-20\" x=\"597.363281\"/>\n      <use xlink:href=\"#DejaVuSans-31\" x=\"629.150391\"/>\n     </g>\n    </g>\n   </g>\n  </g>\n </g>\n <defs>\n  <clipPath id=\"pa2e01eb08f\">\n   <rect x=\"43.78125\" y=\"7.2\" width=\"251.1\" height=\"138.6\"/>\n  </clipPath>\n </defs>\n</svg>\n",
      "text/plain": [
       "<Figure size 450x250 with 1 Axes>"
      ]
     },
     "metadata": {},
     "output_type": "display_data"
    }
   ],
   "source": [
    "# 再次使用numpy进行可视化\n",
    "x = np.arange(-7, 7, 0.01)\n",
    "\n",
    "# 均值和标准差对\n",
    "params = [(0, 1), (0, 2), (3, 1)]\n",
    "d2l.plot(x, [normal(x, mu, sigma) for mu, sigma in params], xlabel='x',\n",
    "         ylabel='p(x)', figsize=(4.5, 2.5),\n",
    "         legend=[f'mean {mu}, std {sigma}' for mu, sigma in params])"
   ]
  },
  {
   "cell_type": "code",
   "execution_count": null,
   "metadata": {},
   "outputs": [
    {
     "ename": "ModuleNotFoundError",
     "evalue": "No module named 'torchvision'",
     "output_type": "error",
     "traceback": [
      "\u001b[0;31m---------------------------------------------------------------------------\u001b[0m",
      "\u001b[0;31mModuleNotFoundError\u001b[0m                       Traceback (most recent call last)",
      "Cell \u001b[0;32mIn[1], line 4\u001b[0m\n\u001b[1;32m      2\u001b[0m \u001b[39mimport\u001b[39;00m \u001b[39mrandom\u001b[39;00m\n\u001b[1;32m      3\u001b[0m \u001b[39mimport\u001b[39;00m \u001b[39mtorch\u001b[39;00m\n\u001b[0;32m----> 4\u001b[0m \u001b[39mfrom\u001b[39;00m \u001b[39md2l\u001b[39;00m \u001b[39mimport\u001b[39;00m torch \u001b[39mas\u001b[39;00m d2l\n",
      "File \u001b[0;32m~/miniconda3/envs/hahaha/lib/python3.8/site-packages/d2l/torch.py:6\u001b[0m\n\u001b[1;32m      4\u001b[0m \u001b[39mimport\u001b[39;00m \u001b[39mnumpy\u001b[39;00m \u001b[39mas\u001b[39;00m \u001b[39mnp\u001b[39;00m\n\u001b[1;32m      5\u001b[0m \u001b[39mimport\u001b[39;00m \u001b[39mtorch\u001b[39;00m\n\u001b[0;32m----> 6\u001b[0m \u001b[39mimport\u001b[39;00m \u001b[39mtorchvision\u001b[39;00m\n\u001b[1;32m      7\u001b[0m \u001b[39mfrom\u001b[39;00m \u001b[39mPIL\u001b[39;00m \u001b[39mimport\u001b[39;00m Image\n\u001b[1;32m      8\u001b[0m \u001b[39mfrom\u001b[39;00m \u001b[39mtorch\u001b[39;00m \u001b[39mimport\u001b[39;00m nn\n",
      "\u001b[0;31mModuleNotFoundError\u001b[0m: No module named 'torchvision'"
     ]
    }
   ],
   "source": [
    "%matplotlib inline\n",
    "import random\n",
    "import torch\n",
    "from d2l import torch as d2l"
   ]
  },
  {
   "cell_type": "code",
   "execution_count": null,
   "metadata": {},
   "outputs": [],
   "source": [
    "import pandas as pd\n",
    "import numpy as np\n",
    "from scipy.spatial import distance#用于计算欧式距离\n",
    "from sklearn.preprocessing import StandardScaler#用于对数据进行标准化操作\n",
    "from sklearn.neighbors import KNeighborsRegressor#KNN算法\n",
    "from sklearn.metrics import mean_squared_error#用于计算均方根误差"
   ]
  },
  {
   "cell_type": "code",
   "execution_count": null,
   "metadata": {},
   "outputs": [],
   "source": [
    "#导入数据并提取目标字段\n",
    "path = r'D:\\git space\\git-demo\\ML\\data\\rent_price.csv'\n",
    "file = open(path, encoding = 'gb18030', errors = 'ignore')\n",
    "dc_listings = pd.read_csv(file)\n",
    "features = ['accommodates','bedrooms','bathrooms','beds','price','minimum_nights','maximum_nights','number_of_reviews']\n",
    "dc_listings = dc_listings[features]"
   ]
  },
  {
   "cell_type": "code",
   "execution_count": null,
   "metadata": {},
   "outputs": [
    {
     "name": "stderr",
     "output_type": "stream",
     "text": [
      "C:\\Users\\63229\\AppData\\Local\\Temp\\ipykernel_10872\\2858182119.py:6: FutureWarning: The default value of regex will change from True to False in a future version.\n",
      "  dc_listings['price'] = dc_listings.price.str.replace(\"\\$|,\", \"\").astype(float)\n"
     ]
    }
   ],
   "source": [
    "#数据初步清洗\n",
    "our_acc_value = 3\n",
    "dc_listings['distance'] = np.abs(dc_listings.accommodates - our_acc_value)\n",
    "dc_listings = dc_listings.sample(frac=1, random_state=0)\n",
    "dc_listings = dc_listings.sort_values('distance')\n",
    "dc_listings['price'] = dc_listings.price.str.replace(\"\\$|,\", \"\").astype(float)\n",
    "dc_listings = dc_listings.dropna()"
   ]
  },
  {
   "cell_type": "code",
   "execution_count": null,
   "metadata": {},
   "outputs": [],
   "source": [
    "#数据标准化\n",
    "dc_listings[features] = StandardScaler().fit_transform(dc_listings[features])\n",
    "normalized_listings = dc_listings"
   ]
  },
  {
   "cell_type": "code",
   "execution_count": null,
   "metadata": {},
   "outputs": [],
   "source": [
    "#取得训练集和测试集\n",
    "norm_train_df = normalized_listings[:2792]\n",
    "norm_test_df = normalized_listings[2792:]"
   ]
  },
  {
   "cell_type": "code",
   "execution_count": null,
   "metadata": {},
   "outputs": [
    {
     "name": "stdout",
     "output_type": "stream",
     "text": [
      "1.4667825805653034\n",
      "1.5356457412450537\n"
     ]
    },
    {
     "name": "stderr",
     "output_type": "stream",
     "text": [
      "C:\\Users\\63229\\AppData\\Local\\Temp\\ipykernel_10872\\3375521243.py:14: SettingWithCopyWarning: \n",
      "A value is trying to be set on a copy of a slice from a DataFrame.\n",
      "Try using .loc[row_indexer,col_indexer] = value instead\n",
      "\n",
      "See the caveats in the documentation: https://pandas.pydata.org/pandas-docs/stable/user_guide/indexing.html#returning-a-view-versus-a-copy\n",
      "  norm_test_df['predicted_price'] = norm_test_df[cols].apply(predict_price_multivariate, feature_columns=cols, axis=1)\n",
      "C:\\Users\\63229\\AppData\\Local\\Temp\\ipykernel_10872\\3375521243.py:15: SettingWithCopyWarning: \n",
      "A value is trying to be set on a copy of a slice from a DataFrame.\n",
      "Try using .loc[row_indexer,col_indexer] = value instead\n",
      "\n",
      "See the caveats in the documentation: https://pandas.pydata.org/pandas-docs/stable/user_guide/indexing.html#returning-a-view-versus-a-copy\n",
      "  norm_test_df['squared_error'] = (norm_test_df['predicted_price'] - norm_test_df['price']) ** 2\n"
     ]
    }
   ],
   "source": [
    "#scipy包distance模块计算欧式距离\n",
    "first_listings = normalized_listings.iloc[0][['accommodates', 'bathrooms']]\n",
    "fifth_listings = normalized_listings.iloc[20][['accommodates', 'bathrooms']]\n",
    "#用python方法做多变量KNN模型\n",
    "def predict_price_multivariate(new_listing_value, feature_columns):\n",
    "    temp_df = norm_train_df\n",
    "    #distance.cdist计算两个集合的距离\n",
    "    temp_df['distance'] = distance.cdist(temp_df[feature_columns], [new_listing_value[feature_columns]])\n",
    "    temp_df = temp_df.sort_values('distance')#temp_df按distance排序\n",
    "    knn_5 = temp_df.price.iloc[:5]\n",
    "    predicted_price = knn_5.mean()\n",
    "    return predicted_price\n",
    "cols = ['accommodates', 'bathrooms']\n",
    "norm_test_df['predicted_price'] = norm_test_df[cols].apply(predict_price_multivariate, feature_columns=cols, axis=1)\n",
    "norm_test_df['squared_error'] = (norm_test_df['predicted_price'] - norm_test_df['price']) ** 2\n",
    "mse = norm_test_df['squared_error'].mean()\n",
    "rmse = mse ** (1/2)\n",
    "print(rmse)\n",
    "#利用sklearn完成KNN\n",
    "col = ['accommodates', 'bedrooms']\n",
    "knn = KNeighborsRegressor()\n",
    "#将自变量和因变量放入模型训练，并用测试数据测试\n",
    "knn.fit(norm_train_df[cols], norm_train_df['price'])\n",
    "two_features_predictions = knn.predict(norm_test_df[cols])\n",
    "#计算预测值与实际值的均方根误差\n",
    "two_features_mse = mean_squared_error(norm_test_df['price'], two_features_predictions)\n",
    "two_features_rmse = two_features_mse ** (1/2)\n",
    "print(two_features_rmse)"
   ]
  },
  {
   "cell_type": "code",
   "execution_count": null,
   "metadata": {},
   "outputs": [
    {
     "name": "stdout",
     "output_type": "stream",
     "text": [
      "x= \n",
      "[[1 2 3]\n",
      " [4 5 6]]\n"
     ]
    }
   ],
   "source": [
    "##2023/4/12\n",
    "import numpy as np\n",
    "x = np.array([[1, 2, 3], [4, 5, 6]])\n",
    "print(\"x= \\n%s\" % x)"
   ]
  },
  {
   "cell_type": "code",
   "execution_count": null,
   "metadata": {},
   "outputs": [
    {
     "name": "stdout",
     "output_type": "stream",
     "text": [
      "Numpy array:\n",
      "[[1. 0. 0. 0.]\n",
      " [0. 1. 0. 0.]\n",
      " [0. 0. 1. 0.]\n",
      " [0. 0. 0. 1.]]\n"
     ]
    }
   ],
   "source": [
    "from scipy import sparse\n",
    "\n",
    "#创建一个二维Numpy数组，对角线为1，其余都为0\n",
    "eye = np.eye(4)\n",
    "print(\"Numpy array:\\n{}\".format(eye))"
   ]
  },
  {
   "cell_type": "code",
   "execution_count": null,
   "metadata": {},
   "outputs": [
    {
     "name": "stdout",
     "output_type": "stream",
     "text": [
      "\n",
      "SciPy sparse CSR matrix:\n",
      "  (0, 0)\t1.0\n",
      "  (1, 1)\t1.0\n",
      "  (2, 2)\t1.0\n",
      "  (3, 3)\t1.0\n"
     ]
    }
   ],
   "source": [
    "#将Numpy数组转换为CSR格式的SciPy稀疏矩阵\n",
    "#http://www.scipy-lectures.org/\n",
    "# 只保存非零元素\n",
    "sparse_matrix = sparse.csr_matrix(eye)\n",
    "print(\"\\nSciPy sparse CSR matrix:\\n{}\".format(sparse_matrix))"
   ]
  },
  {
   "cell_type": "code",
   "execution_count": null,
   "metadata": {},
   "outputs": [
    {
     "name": "stdout",
     "output_type": "stream",
     "text": [
      "COO representation: \n",
      "  (0, 0)\t1.0\n",
      "  (1, 1)\t1.0\n",
      "  (2, 2)\t1.0\n",
      "  (3, 3)\t1.0\n"
     ]
    }
   ],
   "source": [
    "data = np.ones(4)\n",
    "row_indices = np.arange(4)\n",
    "col_indices = np.arange(4)\n",
    "eye_coo = sparse.coo_matrix((data, (row_indices, col_indices)))\n",
    "print(\"COO representation: \\n{}\".format(eye_coo))\n"
   ]
  },
  {
   "cell_type": "code",
   "execution_count": null,
   "metadata": {},
   "outputs": [
    {
     "data": {
      "text/plain": [
       "[<matplotlib.lines.Line2D at 0x13effc17fd0>]"
      ]
     },
     "execution_count": 9,
     "metadata": {},
     "output_type": "execute_result"
    },
    {
     "data": {
      "image/png": "[encoded data removed]",
      "text/plain": [
       "<Figure size 640x480 with 1 Axes>"
      ]
     },
     "metadata": {},
     "output_type": "display_data"
    }
   ],
   "source": [
    "%matplotlib inline\n",
    "import matplotlib.pyplot as plt\n",
    "\n",
    "# 在-10和10之间生成一个数列， 共100个数\n",
    "x = np.linspace(-10, 10, 100)\n",
    "#用正弦函数创建第二个数组\n",
    "y = np.sin(x)\n",
    "plt.plot(x, y, marker=\"x\")"
   ]
  },
  {
   "cell_type": "code",
   "execution_count": null,
   "metadata": {},
   "outputs": [
    {
     "data": {
      "text/html": [
       "<div>\n",
       "<style scoped>\n",
       "    .dataframe tbody tr th:only-of-type {\n",
       "        vertical-align: middle;\n",
       "    }\n",
       "\n",
       "    .dataframe tbody tr th {\n",
       "        vertical-align: top;\n",
       "    }\n",
       "\n",
       "    .dataframe thead th {\n",
       "        text-align: right;\n",
       "    }\n",
       "</style>\n",
       "<table border=\"1\" class=\"dataframe\">\n",
       "  <thead>\n",
       "    <tr style=\"text-align: right;\">\n",
       "      <th></th>\n",
       "      <th>Name</th>\n",
       "      <th>Location</th>\n",
       "      <th>Age</th>\n",
       "    </tr>\n",
       "  </thead>\n",
       "  <tbody>\n",
       "    <tr>\n",
       "      <th>0</th>\n",
       "      <td>Jhon</td>\n",
       "      <td>New York</td>\n",
       "      <td>24</td>\n",
       "    </tr>\n",
       "    <tr>\n",
       "      <th>1</th>\n",
       "      <td>Anna</td>\n",
       "      <td>Paris</td>\n",
       "      <td>13</td>\n",
       "    </tr>\n",
       "    <tr>\n",
       "      <th>2</th>\n",
       "      <td>Peter</td>\n",
       "      <td>Berlin</td>\n",
       "      <td>53</td>\n",
       "    </tr>\n",
       "    <tr>\n",
       "      <th>3</th>\n",
       "      <td>Linda</td>\n",
       "      <td>London</td>\n",
       "      <td>33</td>\n",
       "    </tr>\n",
       "  </tbody>\n",
       "</table>\n",
       "</div>"
      ],
      "text/plain": [
       "    Name  Location  Age\n",
       "0   Jhon  New York   24\n",
       "1   Anna     Paris   13\n",
       "2  Peter    Berlin   53\n",
       "3  Linda    London   33"
      ]
     },
     "metadata": {},
     "output_type": "display_data"
    }
   ],
   "source": [
    "import pandas as pd\n",
    "from IPython.display import display\n",
    "#创建关于人的简单数据集\n",
    "data = {'Name': [\"Jhon\", \"Anna\", \"Peter\", \"Linda\"],\n",
    "        'Location': [\"New York\", \"Paris\", \"Berlin\", \"London\"],\n",
    "        'Age': [24, 13, 53, 33]\n",
    "        }\n",
    "data_pandas = pd.DataFrame(data)\n",
    "display(data_pandas)"
   ]
  },
  {
   "cell_type": "code",
   "execution_count": null,
   "metadata": {},
   "outputs": [
    {
     "data": {
      "text/html": [
       "<div>\n",
       "<style scoped>\n",
       "    .dataframe tbody tr th:only-of-type {\n",
       "        vertical-align: middle;\n",
       "    }\n",
       "\n",
       "    .dataframe tbody tr th {\n",
       "        vertical-align: top;\n",
       "    }\n",
       "\n",
       "    .dataframe thead th {\n",
       "        text-align: right;\n",
       "    }\n",
       "</style>\n",
       "<table border=\"1\" class=\"dataframe\">\n",
       "  <thead>\n",
       "    <tr style=\"text-align: right;\">\n",
       "      <th></th>\n",
       "      <th>Name</th>\n",
       "      <th>Location</th>\n",
       "      <th>Age</th>\n",
       "    </tr>\n",
       "  </thead>\n",
       "  <tbody>\n",
       "    <tr>\n",
       "      <th>2</th>\n",
       "      <td>Peter</td>\n",
       "      <td>Berlin</td>\n",
       "      <td>53</td>\n",
       "    </tr>\n",
       "    <tr>\n",
       "      <th>3</th>\n",
       "      <td>Linda</td>\n",
       "      <td>London</td>\n",
       "      <td>33</td>\n",
       "    </tr>\n",
       "  </tbody>\n",
       "</table>\n",
       "</div>"
      ],
      "text/plain": [
       "    Name Location  Age\n",
       "2  Peter   Berlin   53\n",
       "3  Linda   London   33"
      ]
     },
     "metadata": {},
     "output_type": "display_data"
    }
   ],
   "source": [
    "#选择年龄大于30的所有行\n",
    "display(data_pandas[data_pandas.Age > 30])"
   ]
  },
  {
   "cell_type": "code",
   "execution_count": 1,
   "metadata": {},
   "outputs": [
    {
     "name": "stdout",
     "output_type": "stream",
     "text": [
      "keys of iris_dataset: \n",
      "dict_keys(['data', 'target', 'frame', 'target_names', 'DESCR', 'feature_names', 'filename', 'data_module'])\n"
     ]
    }
   ],
   "source": [
    "##鸢尾花分类\n",
    "from sklearn.datasets import load_iris\n",
    "iris_dataset = load_iris()      #load_iris 返回的iris对象是一个Bunch对象，与字典非常相似，里面包含键和值\n",
    "print(\"keys of iris_dataset: \\n{}\".format(iris_dataset.keys()))"
   ]
  },
  {
   "cell_type": "code",
   "execution_count": 2,
   "metadata": {},
   "outputs": [
    {
     "name": "stdout",
     "output_type": "stream",
     "text": [
      ".. _iris_dataset:\n",
      "\n",
      "Iris plants dataset\n",
      "--------------------\n",
      "\n",
      "**Data Set Characteristics:**\n",
      "\n",
      "    :Number of Instances: 150 (50 in each of three classes)\n",
      "    :Number of Attributes: 4 numeric, pre\n",
      "...\n"
     ]
    }
   ],
   "source": [
    "print(iris_dataset['DESCR'][:193] + \"\\n...\")        #DESCR键对应的是数据集的简要说明"
   ]
  },
  {
   "cell_type": "code",
   "execution_count": 4,
   "metadata": {},
   "outputs": [
    {
     "name": "stdout",
     "output_type": "stream",
     "text": [
      "Target names: ['setosa' 'versicolor' 'virginica']\n"
     ]
    }
   ],
   "source": [
    "print(\"Target names: {}\".format(iris_dataset['target_names']))     # target_names 键对应的值是一个字符串数组，包含我们要预测的花的品种"
   ]
  },
  {
   "cell_type": "code",
   "execution_count": 5,
   "metadata": {},
   "outputs": [
    {
     "name": "stdout",
     "output_type": "stream",
     "text": [
      "Feature names: \n",
      "['sepal length (cm)', 'sepal width (cm)', 'petal length (cm)', 'petal width (cm)']\n"
     ]
    }
   ],
   "source": [
    "print(\"Feature names: \\n{}\".format(iris_dataset['feature_names']))      # Feature names 键对应的值是一个字符串列表，对每一个特征进行了说明"
   ]
  },
  {
   "cell_type": "code",
   "execution_count": 6,
   "metadata": {},
   "outputs": [
    {
     "name": "stdout",
     "output_type": "stream",
     "text": [
      "Type of data: <class 'numpy.ndarray'>\n"
     ]
    }
   ],
   "source": [
    "print(\"Type of data: {}\".format(type(iris_dataset['data'])))"
   ]
  },
  {
   "cell_type": "code",
   "execution_count": 7,
   "metadata": {},
   "outputs": [
    {
     "name": "stdout",
     "output_type": "stream",
     "text": [
      "Shape of data: (150, 4)\n"
     ]
    }
   ],
   "source": [
    "print(\"Shape of data: {}\".format(iris_dataset['data'].shape))"
   ]
  },
  {
   "cell_type": "code",
   "execution_count": 8,
   "metadata": {},
   "outputs": [
    {
     "name": "stdout",
     "output_type": "stream",
     "text": [
      "first five rows of data:\n",
      "[[5.1 3.5 1.4 0.2]\n",
      " [4.9 3.  1.4 0.2]\n",
      " [4.7 3.2 1.3 0.2]\n",
      " [4.6 3.1 1.5 0.2]\n",
      " [5.  3.6 1.4 0.2]]\n"
     ]
    }
   ],
   "source": [
    "print(\"first five rows of data:\\n{}\".format(iris_dataset['data'][:5]))"
   ]
  },
  {
   "cell_type": "code",
   "execution_count": 9,
   "metadata": {},
   "outputs": [
    {
     "name": "stdout",
     "output_type": "stream",
     "text": [
      "type of target: <class 'numpy.ndarray'>\n"
     ]
    }
   ],
   "source": [
    "print(\"type of target: {}\".format(type(iris_dataset['target'])))"
   ]
  },
  {
   "cell_type": "code",
   "execution_count": 10,
   "metadata": {},
   "outputs": [
    {
     "name": "stdout",
     "output_type": "stream",
     "text": [
      "Shape of target: (150,)\n"
     ]
    }
   ],
   "source": [
    "print(\"Shape of target: {}\".format(iris_dataset['target'].shape))"
   ]
  },
  {
   "cell_type": "code",
   "execution_count": 11,
   "metadata": {},
   "outputs": [
    {
     "name": "stdout",
     "output_type": "stream",
     "text": [
      "Target:\n",
      "[0 0 0 0 0 0 0 0 0 0 0 0 0 0 0 0 0 0 0 0 0 0 0 0 0 0 0 0 0 0 0 0 0 0 0 0 0\n",
      " 0 0 0 0 0 0 0 0 0 0 0 0 0 1 1 1 1 1 1 1 1 1 1 1 1 1 1 1 1 1 1 1 1 1 1 1 1\n",
      " 1 1 1 1 1 1 1 1 1 1 1 1 1 1 1 1 1 1 1 1 1 1 1 1 1 1 2 2 2 2 2 2 2 2 2 2 2\n",
      " 2 2 2 2 2 2 2 2 2 2 2 2 2 2 2 2 2 2 2 2 2 2 2 2 2 2 2 2 2 2 2 2 2 2 2 2 2\n",
      " 2 2]\n"
     ]
    }
   ],
   "source": [
    "print(\"Target:\\n{}\".format(iris_dataset['target']))"
   ]
  },
  {
   "cell_type": "code",
   "execution_count": 12,
   "metadata": {},
   "outputs": [
    {
     "name": "stdout",
     "output_type": "stream",
     "text": [
      "X_train shape: (112, 4)\n",
      "y_train shape: (112,)\n",
      "X_train shape: (38, 4)\n",
      "y_train shape: (38,)\n"
     ]
    }
   ],
   "source": [
    "from sklearn.model_selection import train_test_split            #train_test_split函数打乱数据集并进行拆分，训练集75%， 测试集25%\n",
    "X_train, X_test, y_train, y_test = train_test_split(iris_dataset['data'], iris_dataset['target'], random_state=0) \n",
    "\n",
    "print(\"X_train shape: {}\".format(X_train.shape))\n",
    "print(\"y_train shape: {}\".format(y_train.shape))\n",
    "\n",
    "print(\"X_train shape: {}\".format(X_test.shape))\n",
    "print(\"y_train shape: {}\".format(y_test.shape))\n",
    "\n"
   ]
  },
  {
   "cell_type": "code",
   "execution_count": 7,
   "metadata": {},
   "outputs": [
    {
     "data": {
      "text/plain": [
       "dict_keys(['data', 'target', 'frame', 'target_names', 'DESCR', 'feature_names', 'filename', 'data_module'])"
      ]
     },
     "execution_count": 7,
     "metadata": {},
     "output_type": "execute_result"
    }
   ],
   "source": [
    "from numpy import *\n",
    "from sklearn.datasets import load_iris\n",
    "from sklearn import tree\n",
    "import matplotlib.pyplot as plt\n",
    "\n",
    "iris = load_iris()\n",
    "iris.keys()"
   ]
  },
  {
   "cell_type": "code",
   "execution_count": 12,
   "metadata": {},
   "outputs": [
    {
     "data": {
      "image/png": "[encoded data removed]",
      "text/plain": [
       "<Figure size 640x480 with 1 Axes>"
      ]
     },
     "metadata": {},
     "output_type": "display_data"
    },
    {
     "data": {
      "image/png": "[encoded data removed]",
      "text/plain": [
       "<Figure size 640x480 with 1 Axes>"
      ]
     },
     "metadata": {},
     "output_type": "display_data"
    }
   ],
   "source": [
    "x=iris.data\n",
    "y=iris.target\n",
    "\n",
    "plt.scatter(x[:50,0],x[:50,1],c='r',s=5,label='Seatosa')\n",
    "plt.scatter(x[50:100,0],x[50:100,1],c='black',s=5,label='Versicolour')\n",
    "plt.scatter(x[100:150,0],x[100:150,1],c='y',s=5,label='Virginica')\n",
    "plt.ylabel(\"Sepal.Width\")\n",
    "plt.xlabel('Sepal.Length')\n",
    "plt.legend()\n",
    "plt.show()\n",
    "\n",
    "plt.scatter(x[:50,2],x[:50,3],c='r',s=5,label='Seatosa')\n",
    "plt.scatter(x[50:100,2],x[50:100,3],c='black',s=5,label='Versicolour')\n",
    "plt.scatter(x[100:150,2],x[100:150,3],c='y',s=5,label='Virginica')\n",
    "plt.ylabel(\"Petal.Width\")\n",
    "plt.xlabel('Petal.Length')\n",
    "plt.legend()\n",
    "plt.show()\n"
   ]
  },
  {
   "cell_type": "code",
   "execution_count": null,
   "metadata": {},
   "outputs": [],
   "source": []
  }
 ],
 "metadata": {
  "kernelspec": {
   "display_name": "base",
   "language": "python",
   "name": "python3"
  },
  "language_info": {
   "codemirror_mode": {
    "name": "ipython",
    "version": 3
   },
   "file_extension": ".py",
   "mimetype": "text/x-python",
   "name": "python",
   "nbconvert_exporter": "python",
   "pygments_lexer": "ipython3",
   "version": "3.8.16"
  },
  "orig_nbformat": 4,
  "vscode": {
   "interpreter": {
    "hash": "6dcd6f115e718cfa81eedbc89b716e977b6340945ea28f430b57d90aa788bbae"
   }
  }
 },
 "nbformat": 4,
 "nbformat_minor": 2
}
