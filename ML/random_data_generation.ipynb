{
 "cells": [
  {
   "cell_type": "code",
   "execution_count": 3,
   "metadata": {},
   "outputs": [
    {
     "data": {
      "text/plain": [
       "array([[[0.47239342, 0.51372672],\n",
       "        [0.62021943, 0.3251597 ]],\n",
       "\n",
       "       [[0.49370258, 0.36672726],\n",
       "        [0.0595245 , 0.24946367]],\n",
       "\n",
       "       [[0.52749116, 0.29447602],\n",
       "        [0.24477675, 0.11776263]]])"
      ]
     },
     "execution_count": 3,
     "metadata": {},
     "output_type": "execute_result"
    }
   ],
   "source": [
    "# 机器学习算法的随机数据生成\n",
    "# https://www.cnblogs.com/pinard/p/6047802.html\n",
    "\n",
    "## numpy 随机数据生成\n",
    "\n",
    "#1) rand(d0, d1, ..., dn) 用来生成d0xd1x...dn维的数组。数组的值在[0,1)之间\n",
    "import numpy as np\n",
    "np.random.rand(3, 2, 2) "
   ]
  },
  {
   "cell_type": "code",
   "execution_count": 5,
   "metadata": {},
   "outputs": [
    {
     "data": {
      "text/plain": [
       "array([[ 0.35598797,  0.76240582],\n",
       "       [ 1.5476884 , -1.18220492],\n",
       "       [ 2.64194532, -0.60195462]])"
      ]
     },
     "execution_count": 5,
     "metadata": {},
     "output_type": "execute_result"
    }
   ],
   "source": [
    "# 2) randn((d0, d1, ..., dn), 也是用来生成d0xd1x...dn维的数组。不过数组的值服从N(0,1)的标准正态分布\n",
    "np.random.randn(3,2)"
   ]
  },
  {
   "cell_type": "code",
   "execution_count": 7,
   "metadata": {},
   "outputs": [
    {
     "data": {
      "text/plain": [
       "array([[-1.62418453, -2.78797268],\n",
       "       [-1.24039257,  2.24933736],\n",
       "       [-1.53179461, -0.48027027]])"
      ]
     },
     "execution_count": 7,
     "metadata": {},
     "output_type": "execute_result"
    }
   ],
   "source": [
    "#果需要服从N(μ,σ2)的正态分布，只需要在randn上每个生成的值x上做变换σx+μ即可，例如：\n",
    "2*np.random.randn(3,2)+1    #输出如下3x2的数组，这些值是N(1,4)的抽样数据"
   ]
  },
  {
   "cell_type": "code",
   "execution_count": 10,
   "metadata": {},
   "outputs": [
    {
     "data": {
      "text/plain": [
       "array([[[0, 2, 1, 0],\n",
       "        [1, 0, 1, 0],\n",
       "        [1, 1, 0, 1]],\n",
       "\n",
       "       [[1, 0, 0, 1],\n",
       "        [0, 1, 1, 2],\n",
       "        [1, 0, 1, 1]]])"
      ]
     },
     "execution_count": 10,
     "metadata": {},
     "output_type": "execute_result"
    }
   ],
   "source": [
    "# 3) randint(low[, high, size])，生成随机的大小为size的数据，size可以为整数，为矩阵维数，或者张量的维数。值位于半开区间 [low, high)。\n",
    "np.random.randint(3, size=[2, 3, 4])        #返回维数为2x3x4的数据。取值范围为最大值为3的整数。"
   ]
  },
  {
   "cell_type": "code",
   "execution_count": 11,
   "metadata": {},
   "outputs": [
    {
     "data": {
      "text/plain": [
       "array([[5, 5, 4],\n",
       "       [5, 5, 5]])"
      ]
     },
     "execution_count": 11,
     "metadata": {},
     "output_type": "execute_result"
    }
   ],
   "source": [
    "np.random.randint(3, 6, size=[2, 3])        #返回维数为2x3的数据。取值范围为[3,6)."
   ]
  },
  {
   "cell_type": "code",
   "execution_count": 12,
   "metadata": {},
   "outputs": [
    {
     "name": "stderr",
     "output_type": "stream",
     "text": [
      "/tmp/ipykernel_11620/344320786.py:2: DeprecationWarning: This function is deprecated. Please call randint(3, 5 + 1) instead\n",
      "  np.random.random_integers(3, 5, size=[2,3])\n"
     ]
    },
    {
     "data": {
      "text/plain": [
       "array([[3, 3, 3],\n",
       "       [5, 3, 3]])"
      ]
     },
     "execution_count": 12,
     "metadata": {},
     "output_type": "execute_result"
    }
   ],
   "source": [
    "# 4) random_integers(low[, high, size]),和上面的randint类似，区别在与取值范围是闭区间[low, high]。\n",
    "np.random.random_integers(3, 5, size=[2,3])"
   ]
  },
  {
   "cell_type": "code",
   "execution_count": 13,
   "metadata": {},
   "outputs": [
    {
     "data": {
      "text/plain": [
       "array([2.39083434, 2.36251859, 3.30345044])"
      ]
     },
     "execution_count": 13,
     "metadata": {},
     "output_type": "execute_result"
    }
   ],
   "source": [
    "# 5) random_sample([size]), 返回随机的浮点数，在半开区间 [0.0, 1.0)。如果是其他区间[a,b),可以加以转换(b - a) * random_sample([size]) + a\n",
    "(5-2)*np.random.random_sample(3)+2      #返回[2,5)之间的3个随机数"
   ]
  },
  {
   "cell_type": "code",
   "execution_count": 14,
   "metadata": {},
   "outputs": [],
   "source": [
    "## scikit-learn随机数据生成API介绍\n",
    "# scikit-learn生成随机数据的API都在datasets类之中，和numpy比起来，可以用来生成适合特定机器学习模型的数据。常用的API有：\n",
    "# 　1) 用make_regression 生成回归模型的数据\n",
    "# 　2) 用make_hastie_10_2，make_classification或者make_multilabel_classification生成分类模型数据\n",
    "# 　3) 用make_blobs生成聚类模型数据\n",
    "# 　4) 用make_gaussian_quantiles生成分组多维正态分布的数据\n"
   ]
  },
  {
   "cell_type": "code",
   "execution_count": 16,
   "metadata": {},
   "outputs": [
    {
     "data": {
      "image/png": "[encoded data removed]",
      "text/plain": [
       "<Figure size 640x480 with 1 Axes>"
      ]
     },
     "metadata": {},
     "output_type": "display_data"
    }
   ],
   "source": [
    "## scikit-learn随机数据生成\n",
    "## 回归模型随机数据\n",
    "# 这里我们使用make_regression生成回归模型数据。几个关键参数有n_samples（生成样本数）， n_features（样本特征数），noise（样本随机噪音）和coef（是否返回回归系数）。\n",
    "import numpy as np\n",
    "import matplotlib.pyplot as plt\n",
    "%matplotlib inline\n",
    "from sklearn.datasets._samples_generator import make_regression\n",
    "# X为样本特征，y为样本输出， coef为回归系数，共1000个样本，每个样本1个特征\n",
    "X, y, coef = make_regression(n_samples=1000, n_features=1, noise=10, coef=True)\n",
    "#画图\n",
    "plt.scatter(X, y, color='black')\n",
    "plt.plot(X, X*coef, color='blue', linewidth=3)\n",
    "plt.xticks(())\n",
    "plt.yticks(())\n",
    "plt.show()"
   ]
  },
  {
   "cell_type": "code",
   "execution_count": null,
   "metadata": {},
   "outputs": [],
   "source": [
    "# 分类模型随机数据\n",
    "# 这里我们用make_classification生成三元分类模型数据。几个关键参数有n_samples（生成样本数）， n_features（样本特征数）， n_redundant（冗余特征数）和n_classes（输出的类别数）\n",
    "import numpy as np\n",
    "import matplotlib.pyplot as plt\n",
    "%matplotlib inline\n",
    "from sklearn.datasets._samples_generator import make_classification\n",
    "# X1为样本特征，Y1为样本类别输出， 共400个样本，每个样本2个特征，输出有3个类别，没有冗余特征，每个类别一个簇\n",
    "X1, Y1 = make_classification(n_samples=400, n_features=2, n_redundant=0, n_clusters_per_class=1, n_classes=3)\n",
    "plt.scatter(X1[:, 0], X1[:, 1], marker='o', c=Y1)\n",
    "plt.show()"
   ]
  }
 ],
 "metadata": {
  "kernelspec": {
   "display_name": "hahaha",
   "language": "python",
   "name": "python3"
  },
  "language_info": {
   "codemirror_mode": {
    "name": "ipython",
    "version": 3
   },
   "file_extension": ".py",
   "mimetype": "text/x-python",
   "name": "python",
   "nbconvert_exporter": "python",
   "pygments_lexer": "ipython3",
   "version": "3.8.16"
  },
  "orig_nbformat": 4
 },
 "nbformat": 4,
 "nbformat_minor": 2
}
